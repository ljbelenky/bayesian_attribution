{
 "cells": [
  {
   "cell_type": "code",
   "execution_count": 1,
   "id": "1ffc1b25",
   "metadata": {},
   "outputs": [],
   "source": [
    "import numpy as np\n",
    "import pandas as pd\n",
    "import matplotlib.pyplot as plt\n",
    "from functools import reduce\n",
    "from scipy.stats import beta, bernoulli\n",
    "import matplotlib.pyplot as plt\n",
    "x = np.linspace(0,1, 1000)\n",
    "from sklearn.linear_model import LogisticRegression as LR"
   ]
  },
  {
   "cell_type": "code",
   "execution_count": 2,
   "id": "b861a3c9",
   "metadata": {},
   "outputs": [
    {
     "data": {
      "text/html": [
       "<div>\n",
       "<style scoped>\n",
       "    .dataframe tbody tr th:only-of-type {\n",
       "        vertical-align: middle;\n",
       "    }\n",
       "\n",
       "    .dataframe tbody tr th {\n",
       "        vertical-align: top;\n",
       "    }\n",
       "\n",
       "    .dataframe thead th {\n",
       "        text-align: right;\n",
       "    }\n",
       "</style>\n",
       "<table border=\"1\" class=\"dataframe\">\n",
       "  <thead>\n",
       "    <tr style=\"text-align: right;\">\n",
       "      <th></th>\n",
       "      <th>null</th>\n",
       "      <th>Experiment_1</th>\n",
       "      <th>Experiment_2</th>\n",
       "      <th>Experiment_3</th>\n",
       "      <th>Experiment_4</th>\n",
       "      <th>Experiment_5</th>\n",
       "      <th>Experiment_6</th>\n",
       "      <th>Experiment_7</th>\n",
       "      <th>Experiment_8</th>\n",
       "      <th>Experiment_9</th>\n",
       "      <th>Experiment_10</th>\n",
       "    </tr>\n",
       "  </thead>\n",
       "  <tbody>\n",
       "    <tr>\n",
       "      <th>0</th>\n",
       "      <td>1</td>\n",
       "      <td>0</td>\n",
       "      <td>0</td>\n",
       "      <td>0</td>\n",
       "      <td>0</td>\n",
       "      <td>0</td>\n",
       "      <td>0</td>\n",
       "      <td>0</td>\n",
       "      <td>0</td>\n",
       "      <td>0</td>\n",
       "      <td>0</td>\n",
       "    </tr>\n",
       "    <tr>\n",
       "      <th>1</th>\n",
       "      <td>1</td>\n",
       "      <td>1</td>\n",
       "      <td>0</td>\n",
       "      <td>0</td>\n",
       "      <td>0</td>\n",
       "      <td>0</td>\n",
       "      <td>0</td>\n",
       "      <td>0</td>\n",
       "      <td>0</td>\n",
       "      <td>0</td>\n",
       "      <td>0</td>\n",
       "    </tr>\n",
       "    <tr>\n",
       "      <th>2</th>\n",
       "      <td>1</td>\n",
       "      <td>0</td>\n",
       "      <td>1</td>\n",
       "      <td>0</td>\n",
       "      <td>0</td>\n",
       "      <td>0</td>\n",
       "      <td>0</td>\n",
       "      <td>0</td>\n",
       "      <td>0</td>\n",
       "      <td>0</td>\n",
       "      <td>0</td>\n",
       "    </tr>\n",
       "    <tr>\n",
       "      <th>3</th>\n",
       "      <td>1</td>\n",
       "      <td>1</td>\n",
       "      <td>1</td>\n",
       "      <td>0</td>\n",
       "      <td>0</td>\n",
       "      <td>0</td>\n",
       "      <td>0</td>\n",
       "      <td>0</td>\n",
       "      <td>0</td>\n",
       "      <td>0</td>\n",
       "      <td>0</td>\n",
       "    </tr>\n",
       "    <tr>\n",
       "      <th>4</th>\n",
       "      <td>1</td>\n",
       "      <td>0</td>\n",
       "      <td>0</td>\n",
       "      <td>1</td>\n",
       "      <td>0</td>\n",
       "      <td>0</td>\n",
       "      <td>0</td>\n",
       "      <td>0</td>\n",
       "      <td>0</td>\n",
       "      <td>0</td>\n",
       "      <td>0</td>\n",
       "    </tr>\n",
       "    <tr>\n",
       "      <th>5</th>\n",
       "      <td>1</td>\n",
       "      <td>1</td>\n",
       "      <td>0</td>\n",
       "      <td>1</td>\n",
       "      <td>0</td>\n",
       "      <td>0</td>\n",
       "      <td>0</td>\n",
       "      <td>0</td>\n",
       "      <td>0</td>\n",
       "      <td>0</td>\n",
       "      <td>0</td>\n",
       "    </tr>\n",
       "    <tr>\n",
       "      <th>6</th>\n",
       "      <td>1</td>\n",
       "      <td>0</td>\n",
       "      <td>1</td>\n",
       "      <td>1</td>\n",
       "      <td>0</td>\n",
       "      <td>0</td>\n",
       "      <td>0</td>\n",
       "      <td>0</td>\n",
       "      <td>0</td>\n",
       "      <td>0</td>\n",
       "      <td>0</td>\n",
       "    </tr>\n",
       "    <tr>\n",
       "      <th>7</th>\n",
       "      <td>1</td>\n",
       "      <td>1</td>\n",
       "      <td>1</td>\n",
       "      <td>1</td>\n",
       "      <td>0</td>\n",
       "      <td>0</td>\n",
       "      <td>0</td>\n",
       "      <td>0</td>\n",
       "      <td>0</td>\n",
       "      <td>0</td>\n",
       "      <td>0</td>\n",
       "    </tr>\n",
       "    <tr>\n",
       "      <th>8</th>\n",
       "      <td>1</td>\n",
       "      <td>0</td>\n",
       "      <td>0</td>\n",
       "      <td>0</td>\n",
       "      <td>1</td>\n",
       "      <td>0</td>\n",
       "      <td>0</td>\n",
       "      <td>0</td>\n",
       "      <td>0</td>\n",
       "      <td>0</td>\n",
       "      <td>0</td>\n",
       "    </tr>\n",
       "    <tr>\n",
       "      <th>9</th>\n",
       "      <td>1</td>\n",
       "      <td>1</td>\n",
       "      <td>0</td>\n",
       "      <td>0</td>\n",
       "      <td>1</td>\n",
       "      <td>0</td>\n",
       "      <td>0</td>\n",
       "      <td>0</td>\n",
       "      <td>0</td>\n",
       "      <td>0</td>\n",
       "      <td>0</td>\n",
       "    </tr>\n",
       "  </tbody>\n",
       "</table>\n",
       "</div>"
      ],
      "text/plain": [
       "   null  Experiment_1  Experiment_2  Experiment_3  Experiment_4  Experiment_5  \\\n",
       "0     1             0             0             0             0             0   \n",
       "1     1             1             0             0             0             0   \n",
       "2     1             0             1             0             0             0   \n",
       "3     1             1             1             0             0             0   \n",
       "4     1             0             0             1             0             0   \n",
       "5     1             1             0             1             0             0   \n",
       "6     1             0             1             1             0             0   \n",
       "7     1             1             1             1             0             0   \n",
       "8     1             0             0             0             1             0   \n",
       "9     1             1             0             0             1             0   \n",
       "\n",
       "   Experiment_6  Experiment_7  Experiment_8  Experiment_9  Experiment_10  \n",
       "0             0             0             0             0              0  \n",
       "1             0             0             0             0              0  \n",
       "2             0             0             0             0              0  \n",
       "3             0             0             0             0              0  \n",
       "4             0             0             0             0              0  \n",
       "5             0             0             0             0              0  \n",
       "6             0             0             0             0              0  \n",
       "7             0             0             0             0              0  \n",
       "8             0             0             0             0              0  \n",
       "9             0             0             0             0              0  "
      ]
     },
     "execution_count": 2,
     "metadata": {},
     "output_type": "execute_result"
    }
   ],
   "source": [
    "e = 10\n",
    "N = 50*(2**e)\n",
    "\n",
    "df = pd.DataFrame()\n",
    "df['null'] = [1]*N\n",
    "for i in range(1,e+1):\n",
    "    df[f'Experiment_{i}']= [(n//(2**(i-1)))%2 for n in range(N)]\n",
    "#     np.random.choice((0,1),N)\n",
    "df.head(10)"
   ]
  },
  {
   "cell_type": "code",
   "execution_count": 3,
   "id": "c2aaecf1",
   "metadata": {},
   "outputs": [
    {
     "data": {
      "text/plain": [
       "array([0.005 , 0.0095, 0.014 , 0.0185, 0.023 , 0.0275, 0.032 , 0.0365,\n",
       "       0.041 , 0.0455, 0.05  ])"
      ]
     },
     "execution_count": 3,
     "metadata": {},
     "output_type": "execute_result"
    }
   ],
   "source": [
    "probabilities = np.linspace(.005, .05, df.shape[1])                          \n",
    "probabilities"
   ]
  },
  {
   "cell_type": "code",
   "execution_count": 4,
   "id": "ae129506",
   "metadata": {},
   "outputs": [
    {
     "data": {
      "text/html": [
       "<div>\n",
       "<style scoped>\n",
       "    .dataframe tbody tr th:only-of-type {\n",
       "        vertical-align: middle;\n",
       "    }\n",
       "\n",
       "    .dataframe tbody tr th {\n",
       "        vertical-align: top;\n",
       "    }\n",
       "\n",
       "    .dataframe thead th {\n",
       "        text-align: right;\n",
       "    }\n",
       "</style>\n",
       "<table border=\"1\" class=\"dataframe\">\n",
       "  <thead>\n",
       "    <tr style=\"text-align: right;\">\n",
       "      <th></th>\n",
       "      <th>null</th>\n",
       "      <th>Experiment_1</th>\n",
       "      <th>Experiment_2</th>\n",
       "      <th>Experiment_3</th>\n",
       "      <th>Experiment_4</th>\n",
       "      <th>Experiment_5</th>\n",
       "      <th>Experiment_6</th>\n",
       "      <th>Experiment_7</th>\n",
       "      <th>Experiment_8</th>\n",
       "      <th>Experiment_9</th>\n",
       "      <th>Experiment_10</th>\n",
       "      <th>outcome</th>\n",
       "    </tr>\n",
       "  </thead>\n",
       "  <tbody>\n",
       "    <tr>\n",
       "      <th>0</th>\n",
       "      <td>1</td>\n",
       "      <td>0</td>\n",
       "      <td>0</td>\n",
       "      <td>0</td>\n",
       "      <td>0</td>\n",
       "      <td>0</td>\n",
       "      <td>0</td>\n",
       "      <td>0</td>\n",
       "      <td>0</td>\n",
       "      <td>0</td>\n",
       "      <td>0</td>\n",
       "      <td>0</td>\n",
       "    </tr>\n",
       "    <tr>\n",
       "      <th>1</th>\n",
       "      <td>1</td>\n",
       "      <td>1</td>\n",
       "      <td>0</td>\n",
       "      <td>0</td>\n",
       "      <td>0</td>\n",
       "      <td>0</td>\n",
       "      <td>0</td>\n",
       "      <td>0</td>\n",
       "      <td>0</td>\n",
       "      <td>0</td>\n",
       "      <td>0</td>\n",
       "      <td>0</td>\n",
       "    </tr>\n",
       "    <tr>\n",
       "      <th>2</th>\n",
       "      <td>1</td>\n",
       "      <td>0</td>\n",
       "      <td>1</td>\n",
       "      <td>0</td>\n",
       "      <td>0</td>\n",
       "      <td>0</td>\n",
       "      <td>0</td>\n",
       "      <td>0</td>\n",
       "      <td>0</td>\n",
       "      <td>0</td>\n",
       "      <td>0</td>\n",
       "      <td>0</td>\n",
       "    </tr>\n",
       "    <tr>\n",
       "      <th>3</th>\n",
       "      <td>1</td>\n",
       "      <td>1</td>\n",
       "      <td>1</td>\n",
       "      <td>0</td>\n",
       "      <td>0</td>\n",
       "      <td>0</td>\n",
       "      <td>0</td>\n",
       "      <td>0</td>\n",
       "      <td>0</td>\n",
       "      <td>0</td>\n",
       "      <td>0</td>\n",
       "      <td>0</td>\n",
       "    </tr>\n",
       "    <tr>\n",
       "      <th>4</th>\n",
       "      <td>1</td>\n",
       "      <td>0</td>\n",
       "      <td>0</td>\n",
       "      <td>1</td>\n",
       "      <td>0</td>\n",
       "      <td>0</td>\n",
       "      <td>0</td>\n",
       "      <td>0</td>\n",
       "      <td>0</td>\n",
       "      <td>0</td>\n",
       "      <td>0</td>\n",
       "      <td>0</td>\n",
       "    </tr>\n",
       "    <tr>\n",
       "      <th>...</th>\n",
       "      <td>...</td>\n",
       "      <td>...</td>\n",
       "      <td>...</td>\n",
       "      <td>...</td>\n",
       "      <td>...</td>\n",
       "      <td>...</td>\n",
       "      <td>...</td>\n",
       "      <td>...</td>\n",
       "      <td>...</td>\n",
       "      <td>...</td>\n",
       "      <td>...</td>\n",
       "      <td>...</td>\n",
       "    </tr>\n",
       "    <tr>\n",
       "      <th>51195</th>\n",
       "      <td>1</td>\n",
       "      <td>1</td>\n",
       "      <td>1</td>\n",
       "      <td>0</td>\n",
       "      <td>1</td>\n",
       "      <td>1</td>\n",
       "      <td>1</td>\n",
       "      <td>1</td>\n",
       "      <td>1</td>\n",
       "      <td>1</td>\n",
       "      <td>1</td>\n",
       "      <td>1</td>\n",
       "    </tr>\n",
       "    <tr>\n",
       "      <th>51196</th>\n",
       "      <td>1</td>\n",
       "      <td>0</td>\n",
       "      <td>0</td>\n",
       "      <td>1</td>\n",
       "      <td>1</td>\n",
       "      <td>1</td>\n",
       "      <td>1</td>\n",
       "      <td>1</td>\n",
       "      <td>1</td>\n",
       "      <td>1</td>\n",
       "      <td>1</td>\n",
       "      <td>0</td>\n",
       "    </tr>\n",
       "    <tr>\n",
       "      <th>51197</th>\n",
       "      <td>1</td>\n",
       "      <td>1</td>\n",
       "      <td>0</td>\n",
       "      <td>1</td>\n",
       "      <td>1</td>\n",
       "      <td>1</td>\n",
       "      <td>1</td>\n",
       "      <td>1</td>\n",
       "      <td>1</td>\n",
       "      <td>1</td>\n",
       "      <td>1</td>\n",
       "      <td>0</td>\n",
       "    </tr>\n",
       "    <tr>\n",
       "      <th>51198</th>\n",
       "      <td>1</td>\n",
       "      <td>0</td>\n",
       "      <td>1</td>\n",
       "      <td>1</td>\n",
       "      <td>1</td>\n",
       "      <td>1</td>\n",
       "      <td>1</td>\n",
       "      <td>1</td>\n",
       "      <td>1</td>\n",
       "      <td>1</td>\n",
       "      <td>1</td>\n",
       "      <td>1</td>\n",
       "    </tr>\n",
       "    <tr>\n",
       "      <th>51199</th>\n",
       "      <td>1</td>\n",
       "      <td>1</td>\n",
       "      <td>1</td>\n",
       "      <td>1</td>\n",
       "      <td>1</td>\n",
       "      <td>1</td>\n",
       "      <td>1</td>\n",
       "      <td>1</td>\n",
       "      <td>1</td>\n",
       "      <td>1</td>\n",
       "      <td>1</td>\n",
       "      <td>1</td>\n",
       "    </tr>\n",
       "  </tbody>\n",
       "</table>\n",
       "<p>51200 rows × 12 columns</p>\n",
       "</div>"
      ],
      "text/plain": [
       "       null  Experiment_1  Experiment_2  Experiment_3  Experiment_4  \\\n",
       "0         1             0             0             0             0   \n",
       "1         1             1             0             0             0   \n",
       "2         1             0             1             0             0   \n",
       "3         1             1             1             0             0   \n",
       "4         1             0             0             1             0   \n",
       "...     ...           ...           ...           ...           ...   \n",
       "51195     1             1             1             0             1   \n",
       "51196     1             0             0             1             1   \n",
       "51197     1             1             0             1             1   \n",
       "51198     1             0             1             1             1   \n",
       "51199     1             1             1             1             1   \n",
       "\n",
       "       Experiment_5  Experiment_6  Experiment_7  Experiment_8  Experiment_9  \\\n",
       "0                 0             0             0             0             0   \n",
       "1                 0             0             0             0             0   \n",
       "2                 0             0             0             0             0   \n",
       "3                 0             0             0             0             0   \n",
       "4                 0             0             0             0             0   \n",
       "...             ...           ...           ...           ...           ...   \n",
       "51195             1             1             1             1             1   \n",
       "51196             1             1             1             1             1   \n",
       "51197             1             1             1             1             1   \n",
       "51198             1             1             1             1             1   \n",
       "51199             1             1             1             1             1   \n",
       "\n",
       "       Experiment_10  outcome  \n",
       "0                  0        0  \n",
       "1                  0        0  \n",
       "2                  0        0  \n",
       "3                  0        0  \n",
       "4                  0        0  \n",
       "...              ...      ...  \n",
       "51195              1        1  \n",
       "51196              1        0  \n",
       "51197              1        0  \n",
       "51198              1        1  \n",
       "51199              1        1  \n",
       "\n",
       "[51200 rows x 12 columns]"
      ]
     },
     "execution_count": 4,
     "metadata": {},
     "output_type": "execute_result"
    }
   ],
   "source": [
    "df['outcome'] = \\\n",
    "bernoulli(1-np.exp(np.log(1-df*probabilities).sum(axis=1))).rvs()\n",
    "df"
   ]
  },
  {
   "cell_type": "code",
   "execution_count": 8,
   "id": "79e3e9b2",
   "metadata": {},
   "outputs": [
    {
     "data": {
      "text/plain": [
       "array([[-2.9143419 ,  0.04799643,  0.13238115,  0.12013717,  0.16396867,\n",
       "         0.19686553,  0.22268415,  0.27308305,  0.29637146,  0.33004582,\n",
       "         0.38389601]])"
      ]
     },
     "execution_count": 8,
     "metadata": {},
     "output_type": "execute_result"
    }
   ],
   "source": [
    "lr = LR(fit_intercept=False).fit(df.iloc[:,:-1], df.iloc[:,-1])\n",
    "lr.coef_"
   ]
  },
  {
   "cell_type": "code",
   "execution_count": 9,
   "id": "d368e446",
   "metadata": {},
   "outputs": [
    {
     "data": {
      "text/plain": [
       "array([[0.05423971, 1.04916691, 1.14154334, 1.12765152, 1.17817741,\n",
       "        1.2175803 , 1.24942588, 1.31400937, 1.34496967, 1.39103187,\n",
       "        1.46799277]])"
      ]
     },
     "execution_count": 9,
     "metadata": {},
     "output_type": "execute_result"
    }
   ],
   "source": [
    "np.exp(lr.coef_[0])"
   ]
  },
  {
   "cell_type": "code",
   "execution_count": null,
   "id": "507adc03",
   "metadata": {},
   "outputs": [],
   "source": [
    "# row = df.iloc[4,:]\n",
    "# def find_p(row):\n",
    "#     p_not = 1-(row * probabilities)\n",
    "#     p_not = reduce(lambda a,b:a*b, p_not)\n",
    "#     p = 1-p_not\n",
    "#     return p\n",
    "\n",
    "# p = df.apply(find_p, axis=1)\n",
    "# p"
   ]
  },
  {
   "cell_type": "code",
   "execution_count": null,
   "id": "f2344bb8",
   "metadata": {},
   "outputs": [],
   "source": [
    "# plt.hist(p);"
   ]
  },
  {
   "cell_type": "code",
   "execution_count": null,
   "id": "8a9b2bfe",
   "metadata": {},
   "outputs": [],
   "source": [
    "# df['outcome'] = bernoulli(p).rvs()\n",
    "# df.head()"
   ]
  },
  {
   "cell_type": "code",
   "execution_count": null,
   "id": "4e55dbe4",
   "metadata": {},
   "outputs": [],
   "source": [
    "df.outcome.mean()"
   ]
  },
  {
   "cell_type": "code",
   "execution_count": null,
   "id": "789ae2be",
   "metadata": {},
   "outputs": [],
   "source": [
    "# def calculate_beta(i):\n",
    "#     fig, ax = plt.subplots()\n",
    "#     Exp_ = df[df[f'Experiment_{i}']==1]['outcome']\n",
    "#     Exp_ = beta(Exp_.sum(), len(Exp_)-Exp_.sum())\n",
    "#     Exp_control = df[df[f'Experiment_{i}']==0]['outcome']\n",
    "#     Exp_control = beta(Exp_control.sum(), len(Exp_control)-Exp_control.sum())\n",
    "#     ax.plot(x, Exp_.pdf(x))\n",
    "#     ax.plot(x, Exp_control.pdf(x))\n",
    "#     ax.set_xlim([0,.3])\n",
    "#     confidence = (Exp_.rvs(N)>Exp_control.rvs(N)).mean()\n",
    "#     ax.set_title(f'Chance that experiment {i} is better than control:{confidence}');\n",
    "#     return ax\n"
   ]
  },
  {
   "cell_type": "code",
   "execution_count": null,
   "id": "f1408883",
   "metadata": {
    "scrolled": false
   },
   "outputs": [],
   "source": [
    "# [calculate_beta(i) for i in range(1,e+1)];"
   ]
  },
  {
   "cell_type": "code",
   "execution_count": null,
   "id": "296ee067",
   "metadata": {},
   "outputs": [],
   "source": [
    "# lr = LR(fit_intercept=False).fit(df.iloc[:,:-1], df.iloc[:,-1])\n",
    "# lr.intercept_, lr.coef_\n",
    "\n"
   ]
  },
  {
   "cell_type": "code",
   "execution_count": null,
   "id": "92f980ab",
   "metadata": {},
   "outputs": [],
   "source": [
    "# for i in (1,2,3,4):\n",
    "#     lr= LR().fit(df[df[f'Experiment_{i}']==0].iloc[:,:-1],\n",
    "#             df[df[f'Experiment_{i}']==0].iloc[:,-1])\n",
    "    \n",
    "#     predicted = lr.predict_proba(df[df[f'Experiment_{i}']==1].iloc[:,:-1])[:,1]\n",
    "#     actual = df[df[f'Experiment_{i}']==1]['outcome']\n",
    "    \n",
    "#     print((actual.sum()-predicted.sum())/(len(df)/2))\n",
    "    "
   ]
  },
  {
   "cell_type": "code",
   "execution_count": null,
   "id": "eeb7f7f6",
   "metadata": {},
   "outputs": [],
   "source": [
    "probabilities"
   ]
  },
  {
   "cell_type": "code",
   "execution_count": null,
   "id": "44f3b64c",
   "metadata": {},
   "outputs": [],
   "source": [
    "# for i in (1,2,3):\n",
    "#     lr= LR().fit(df[df[f'Experiment_{i}']==1].iloc[:,:-1],\n",
    "#             df[df[f'Experiment_{i}']==1].iloc[:,-1])\n",
    "    \n",
    "#     predicted = lr.predict_proba(df[df[f'Experiment_{i}']==0].iloc[:,:-1])[:,1]\n",
    "#     actual = df[df[f'Experiment_{i}']==0]['outcome']\n",
    "    \n",
    "#     print((predicted.sum()-actual.sum())/(df[f'Experiment_{i}']))"
   ]
  },
  {
   "cell_type": "code",
   "execution_count": null,
   "id": "d4f7347d",
   "metadata": {},
   "outputs": [],
   "source": [
    "def causal_probability(with_factor, without_factor, interval):\n",
    "#     interval =interval**(2)\n",
    "    α = 1-interval\n",
    "    α = α\n",
    "    lo, hi = α, 1-α\n",
    "    print(lo,hi, hi-lo)\n",
    "    \n",
    "    return 1-(1-with_factor.ppf([lo,hi]))/\\\n",
    "            (1-without_factor.ppf([hi,lo]))\n",
    "\n",
    "# causal_probability(with_1, without_1, .9)"
   ]
  },
  {
   "cell_type": "code",
   "execution_count": null,
   "id": "374e9711",
   "metadata": {},
   "outputs": [],
   "source": [
    "# s = 1-(1-with_1.rvs(100000))/(1-without_1.rvs(100000))\n",
    "# plt.hist(s, bins=1000)\n",
    "# interval = .9\n",
    "# print(50*(1-interval), 50*(1+interval))\n",
    "# [plt.axvline(i, color='red') for i in causal_probability(with_1, without_1, interval)]\n",
    "# [plt.axvline(i, color='green') for i in np.percentile(s, [50*(1-interval), 50*(1+interval)])];"
   ]
  },
  {
   "cell_type": "code",
   "execution_count": null,
   "id": "66542f68",
   "metadata": {},
   "outputs": [],
   "source": [
    "\n",
    "def attribution(df, i, interval):\n",
    "    \n",
    "    α = [.5-interval/2, .5, .5+interval/2]\n",
    "    \n",
    "    summary = df.groupby([f'Experiment_{i}','outcome'])['null'].sum().values\n",
    "    wo_b, wo_a, w_b, w_a = summary\n",
    "    w = beta(w_a, w_b)\n",
    "    wo = beta(wo_a, wo_b)\n",
    "    result = (1-(1-w.ppf(α))/(1-wo.ppf(α[::-1])))\n",
    "    return result\n",
    "\n",
    "credible_intervals = np.array([attribution(df, i, .9) for i in range(1,e+1)])\n",
    "credible_intervals\n",
    "\n",
    "# for i in range(1, e+1):\n",
    "#     print(attribution(i, .9))"
   ]
  },
  {
   "cell_type": "code",
   "execution_count": null,
   "id": "867a705b",
   "metadata": {},
   "outputs": [],
   "source": [
    "probabilities"
   ]
  },
  {
   "cell_type": "code",
   "execution_count": null,
   "id": "a8fe83de",
   "metadata": {},
   "outputs": [],
   "source": [
    "for (i, (lo, mid, hi)),p in zip(enumerate(credible_intervals,1),\n",
    "                            probabilities[1:]):\n",
    "    m = '_'\n",
    "    plt.scatter(i, mid, c='red', marker=m)\n",
    "    plt.scatter(i, lo, c='blue', marker=m)\n",
    "    plt.scatter(i, hi, c='blue', marker=m)\n",
    "    plt.scatter(i, p, c='green')\n",
    "    \n",
    "plt.xlabel('Experiment')\n",
    "plt.ylabel('Estimated Independent Probability')"
   ]
  },
  {
   "cell_type": "code",
   "execution_count": null,
   "id": "1606972b",
   "metadata": {},
   "outputs": [],
   "source": [
    "without_null = 1-np.cumprod(\n",
    "1-df[[i for i in df.columns if 'Experiment' in i]]*probabilities[1:],\n",
    "    axis=1).iloc[:,-1].mean()\n",
    "without_null"
   ]
  },
  {
   "cell_type": "code",
   "execution_count": null,
   "id": "ee0150b4",
   "metadata": {},
   "outputs": [],
   "source": []
  },
  {
   "cell_type": "code",
   "execution_count": null,
   "id": "2526492f",
   "metadata": {},
   "outputs": [],
   "source": [
    "e = 10\n",
    "N = 10*2**(e)"
   ]
  },
  {
   "cell_type": "code",
   "execution_count": null,
   "id": "59ed3edd",
   "metadata": {},
   "outputs": [],
   "source": [
    "probabilities = np.random.uniform(0, .05, e+1)\n",
    "probabilities"
   ]
  },
  {
   "cell_type": "code",
   "execution_count": null,
   "id": "98111eab",
   "metadata": {},
   "outputs": [],
   "source": [
    "d2 = pd.DataFrame()\n",
    "d2['null'] = np.ones(N)\n",
    "d2[[f'Experiment_{i}' for i in range(1,e+1)]] = np.random.choice((0,1),p=(.7,.3), size=(N,e))\n",
    "d2['outcome'] = \\\n",
    "bernoulli(1-np.exp(np.log(1-d2*probabilities).sum(axis=1))).rvs()\n",
    "d2"
   ]
  },
  {
   "cell_type": "code",
   "execution_count": null,
   "id": "e8ac416f",
   "metadata": {},
   "outputs": [],
   "source": [
    "d2.describe()"
   ]
  },
  {
   "cell_type": "code",
   "execution_count": null,
   "id": "f57a9fe4",
   "metadata": {},
   "outputs": [],
   "source": [
    "credible_intervals = np.array([attribution(d2, i, .9) for i in range(1,e+1)])\n",
    "for (i, (lo, mid, hi)),p in zip(enumerate(credible_intervals,1),\n",
    "                            probabilities[1:]):\n",
    "    m = '_'\n",
    "    plt.scatter(i, mid, c='red', marker=m)\n",
    "    plt.scatter(i, lo, c='blue', marker=m)\n",
    "    plt.scatter(i, hi, c='blue', marker=m)\n",
    "    plt.vlines(i, lo, hi, alpha=.5)\n",
    "    plt.scatter(i, p, c='green', marker='x')\n",
    "    \n",
    "plt.xlabel('Experiment')\n",
    "plt.ylabel('Estimated Independent Probability');"
   ]
  },
  {
   "cell_type": "code",
   "execution_count": null,
   "id": "b80707be",
   "metadata": {},
   "outputs": [],
   "source": [
    "probabilities"
   ]
  },
  {
   "cell_type": "code",
   "execution_count": null,
   "id": "2b4793e4",
   "metadata": {},
   "outputs": [],
   "source": [
    "credible_intervals"
   ]
  },
  {
   "cell_type": "code",
   "execution_count": null,
   "id": "f05647e0",
   "metadata": {},
   "outputs": [],
   "source": [
    "median_ps = credible_intervals[:,1]\n",
    "median_ps"
   ]
  },
  {
   "cell_type": "code",
   "execution_count": null,
   "id": "d95d0391",
   "metadata": {},
   "outputs": [],
   "source": [
    "d2"
   ]
  },
  {
   "cell_type": "code",
   "execution_count": null,
   "id": "1f693f4b",
   "metadata": {},
   "outputs": [],
   "source": [
    "predicted_without_null = (1-np.exp(\n",
    "    np.log(1-d2[[i for i in d2.columns if 'Experiment' in i]\n",
    "                              ]*median_ps).sum(axis=1))).sum()\n",
    "predicted_without_null\n",
    "\n",
    "actual_with_null = d2['outcome'].sum()\n",
    "predicted_without_null, actual_with_null"
   ]
  },
  {
   "cell_type": "code",
   "execution_count": null,
   "id": "bde7a817",
   "metadata": {},
   "outputs": [],
   "source": [
    "without_null = beta(predicted_without_null, len(d2)-predicted_without_null)\n",
    "\n",
    "with_null = beta(actual_with_null, len(d2)-actual_with_null)\n",
    "without_null.mean(), with_null.mean()"
   ]
  },
  {
   "cell_type": "code",
   "execution_count": null,
   "id": "4f270298",
   "metadata": {},
   "outputs": [],
   "source": [
    "α = [.05, .5, .95]\n",
    "p_null_estimates = (1-(1-with_null.ppf(α))/(1-without_null.ppf(α[::-1])))\n",
    "p_null_estimates"
   ]
  },
  {
   "cell_type": "code",
   "execution_count": null,
   "id": "4fdbed3b",
   "metadata": {},
   "outputs": [],
   "source": [
    "probabilities"
   ]
  },
  {
   "cell_type": "code",
   "execution_count": null,
   "id": "deb7b65b",
   "metadata": {},
   "outputs": [],
   "source": [
    "m = '_'\n",
    "lo, mid, hi = p_null_estimates\n",
    "plt.scatter(0, mid, c='red', marker=m)\n",
    "plt.scatter(0, lo, c='blue', marker=m)\n",
    "plt.scatter(0, hi, c='blue', marker=m)\n",
    "plt.vlines(0, lo, hi, alpha=.5)\n",
    "plt.scatter(0, probabilities[0], c='green', marker='x')\n",
    "\n",
    "credible_intervals = np.array([attribution(d2, i, .9) for i in range(1,e+1)])\n",
    "for (i, (lo, mid, hi)),p in zip(enumerate(credible_intervals,1),\n",
    "                            probabilities[1:]):\n",
    " \n",
    "    plt.scatter(i, mid, c='red', marker=m)\n",
    "    plt.scatter(i, lo, c='blue', marker=m)\n",
    "    plt.scatter(i, hi, c='blue', marker=m)\n",
    "    plt.vlines(i, lo, hi, alpha=.5)\n",
    "    plt.scatter(i, p, c='green', marker='x')\n",
    "    \n",
    "plt.xlabel('Experiment')\n",
    "plt.ylabel('Estimated Independent Probability');"
   ]
  },
  {
   "cell_type": "code",
   "execution_count": null,
   "id": "e6830060",
   "metadata": {},
   "outputs": [],
   "source": [
    "p_null_estimates[1]"
   ]
  },
  {
   "cell_type": "code",
   "execution_count": null,
   "id": "466a4cdf",
   "metadata": {},
   "outputs": [],
   "source": [
    "credible_intervals[:,1]"
   ]
  },
  {
   "cell_type": "code",
   "execution_count": null,
   "id": "2bcf78c0",
   "metadata": {},
   "outputs": [],
   "source": [
    "estimated_ps = np.hstack([p_null_estimates[1], credible_intervals[:,1]])"
   ]
  },
  {
   "cell_type": "code",
   "execution_count": null,
   "id": "70f0e670",
   "metadata": {},
   "outputs": [],
   "source": [
    "1-np.exp(np.log(1-d2.iloc[:,:-1]*estimated_ps).sum(axis=1))"
   ]
  },
  {
   "cell_type": "code",
   "execution_count": null,
   "id": "5656f5c8",
   "metadata": {},
   "outputs": [],
   "source": [
    "(1-np.exp(np.log(1-d2.iloc[:,:-1]*estimated_ps).sum(axis=1))).sum()"
   ]
  },
  {
   "cell_type": "code",
   "execution_count": null,
   "id": "8e6618dd",
   "metadata": {},
   "outputs": [],
   "source": [
    "d2['outcome'].sum()"
   ]
  },
  {
   "cell_type": "code",
   "execution_count": null,
   "id": "f6c19146",
   "metadata": {},
   "outputs": [],
   "source": [
    "N = 10000\n",
    "# cov = np.random.random((3,3))\n",
    "cov = np.eye(3)\n",
    "cov[0,-1] =cov[-1,0]= .4\n",
    "cov[1,1] = cov[1,1] = .3\n",
    "\n",
    "cov = cov*cov.T\n",
    "z = np.random.multivariate_normal(mean = [.4,.6,.8], cov=cov, size = N)\n",
    "z = 1*(z>.5)\n",
    "z = pd.DataFrame(z)\n",
    "z['null'] = 1\n",
    "\n",
    "ps = [.2, .03, .07, .005]\n",
    "z['outcome'] = bernoulli(1-np.exp(np.log(1-z*ps).sum(axis=1))).rvs()\n",
    "z.rename({0:'Experiment_0',\n",
    "         1:'Experiment_1',\n",
    "         2:'Experiment_2'}, axis=1, inplace=True)"
   ]
  },
  {
   "cell_type": "code",
   "execution_count": null,
   "id": "ad964218",
   "metadata": {},
   "outputs": [],
   "source": [
    "z"
   ]
  },
  {
   "cell_type": "code",
   "execution_count": null,
   "id": "13f98df9",
   "metadata": {},
   "outputs": [],
   "source": []
  },
  {
   "cell_type": "code",
   "execution_count": null,
   "id": "edaea61c",
   "metadata": {},
   "outputs": [],
   "source": [
    "credible_intervals = np.array([attribution(z, i, .9) for i in range(3)])\n",
    "print(credible_intervals,ps[:-1])\n",
    "for (i, (lo, mid, hi)),p in zip(enumerate(credible_intervals),\n",
    "                            ps[:-1]):\n",
    "    m = '_'\n",
    "    plt.scatter(i, mid, c='red', marker=m)\n",
    "    plt.scatter(i, lo, c='blue', marker=m)\n",
    "    plt.scatter(i, hi, c='blue', marker=m)\n",
    "    plt.vlines(i, lo, hi, alpha=.5)\n",
    "    plt.scatter(i, p, c='green', marker='x')\n",
    "    \n",
    "plt.xlabel('Experiment')\n",
    "plt.ylabel('Estimated Independent Probability');"
   ]
  },
  {
   "cell_type": "code",
   "execution_count": null,
   "id": "54258861",
   "metadata": {},
   "outputs": [],
   "source": [
    "credible_intervals[:,1]"
   ]
  },
  {
   "cell_type": "code",
   "execution_count": null,
   "id": "7249c700",
   "metadata": {},
   "outputs": [],
   "source": [
    "predicited_without_null = (1-np.exp(np.log(1-z.iloc[:,:3]*credible_intervals[:,1]).sum(axis=1))).sum()\n",
    "predicited_without_null"
   ]
  },
  {
   "cell_type": "code",
   "execution_count": null,
   "id": "2ea574f7",
   "metadata": {},
   "outputs": [],
   "source": [
    "z['outcome'].sum()"
   ]
  },
  {
   "cell_type": "code",
   "execution_count": null,
   "id": "bb32ec4b",
   "metadata": {},
   "outputs": [],
   "source": [
    "len(z)"
   ]
  },
  {
   "cell_type": "code",
   "execution_count": null,
   "id": "18a4e486",
   "metadata": {},
   "outputs": [],
   "source": [
    "aa = beta(predicited_without_null, len(z)-predicited_without_null).ppf([.05,.5,.95])\n",
    "aa"
   ]
  },
  {
   "cell_type": "code",
   "execution_count": null,
   "id": "c6da460a",
   "metadata": {},
   "outputs": [],
   "source": [
    "bb = beta(z['outcome'].sum(), (1-z['outcome']).sum()).ppf([.95,.5,.05])\n",
    "bb"
   ]
  },
  {
   "cell_type": "code",
   "execution_count": null,
   "id": "dd73628b",
   "metadata": {},
   "outputs": [],
   "source": [
    "1-(1-aa)/(1-bb)"
   ]
  },
  {
   "cell_type": "code",
   "execution_count": null,
   "id": "6940274c",
   "metadata": {},
   "outputs": [],
   "source": [
    "ps"
   ]
  },
  {
   "cell_type": "code",
   "execution_count": null,
   "id": "8996bb31",
   "metadata": {},
   "outputs": [],
   "source": []
  }
 ],
 "metadata": {
  "kernelspec": {
   "display_name": "Python 3 (ipykernel)",
   "language": "python",
   "name": "python3"
  },
  "language_info": {
   "codemirror_mode": {
    "name": "ipython",
    "version": 3
   },
   "file_extension": ".py",
   "mimetype": "text/x-python",
   "name": "python",
   "nbconvert_exporter": "python",
   "pygments_lexer": "ipython3",
   "version": "3.10.9"
  }
 },
 "nbformat": 4,
 "nbformat_minor": 5
}
