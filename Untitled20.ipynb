{
 "cells": [
  {
   "cell_type": "code",
   "execution_count": 70,
   "id": "1ffc1b25",
   "metadata": {},
   "outputs": [],
   "source": [
    "import numpy as np\n",
    "import pandas as pd\n",
    "import matplotlib.pyplot as plt\n",
    "from functools import reduce\n",
    "from scipy.stats import beta, bernoulli\n",
    "import matplotlib.pyplot as plt\n",
    "x = np.linspace(0,1, 1000)\n",
    "from sklearn.linear_model import LogisticRegression as LR"
   ]
  },
  {
   "cell_type": "code",
   "execution_count": 107,
   "id": "b861a3c9",
   "metadata": {},
   "outputs": [
    {
     "data": {
      "text/html": [
       "<div>\n",
       "<style scoped>\n",
       "    .dataframe tbody tr th:only-of-type {\n",
       "        vertical-align: middle;\n",
       "    }\n",
       "\n",
       "    .dataframe tbody tr th {\n",
       "        vertical-align: top;\n",
       "    }\n",
       "\n",
       "    .dataframe thead th {\n",
       "        text-align: right;\n",
       "    }\n",
       "</style>\n",
       "<table border=\"1\" class=\"dataframe\">\n",
       "  <thead>\n",
       "    <tr style=\"text-align: right;\">\n",
       "      <th></th>\n",
       "      <th>null</th>\n",
       "      <th>Incentive_1</th>\n",
       "      <th>Incentive_2</th>\n",
       "      <th>Incentive_3</th>\n",
       "      <th>Incentive_4</th>\n",
       "      <th>Incentive_5</th>\n",
       "    </tr>\n",
       "  </thead>\n",
       "  <tbody>\n",
       "    <tr>\n",
       "      <th>0</th>\n",
       "      <td>1</td>\n",
       "      <td>0</td>\n",
       "      <td>0</td>\n",
       "      <td>1</td>\n",
       "      <td>1</td>\n",
       "      <td>1</td>\n",
       "    </tr>\n",
       "    <tr>\n",
       "      <th>1</th>\n",
       "      <td>1</td>\n",
       "      <td>0</td>\n",
       "      <td>0</td>\n",
       "      <td>1</td>\n",
       "      <td>0</td>\n",
       "      <td>1</td>\n",
       "    </tr>\n",
       "    <tr>\n",
       "      <th>2</th>\n",
       "      <td>1</td>\n",
       "      <td>0</td>\n",
       "      <td>0</td>\n",
       "      <td>0</td>\n",
       "      <td>0</td>\n",
       "      <td>1</td>\n",
       "    </tr>\n",
       "    <tr>\n",
       "      <th>3</th>\n",
       "      <td>1</td>\n",
       "      <td>0</td>\n",
       "      <td>0</td>\n",
       "      <td>0</td>\n",
       "      <td>1</td>\n",
       "      <td>0</td>\n",
       "    </tr>\n",
       "    <tr>\n",
       "      <th>4</th>\n",
       "      <td>1</td>\n",
       "      <td>0</td>\n",
       "      <td>0</td>\n",
       "      <td>0</td>\n",
       "      <td>1</td>\n",
       "      <td>1</td>\n",
       "    </tr>\n",
       "    <tr>\n",
       "      <th>5</th>\n",
       "      <td>1</td>\n",
       "      <td>0</td>\n",
       "      <td>0</td>\n",
       "      <td>0</td>\n",
       "      <td>0</td>\n",
       "      <td>1</td>\n",
       "    </tr>\n",
       "    <tr>\n",
       "      <th>6</th>\n",
       "      <td>1</td>\n",
       "      <td>0</td>\n",
       "      <td>1</td>\n",
       "      <td>0</td>\n",
       "      <td>0</td>\n",
       "      <td>1</td>\n",
       "    </tr>\n",
       "    <tr>\n",
       "      <th>7</th>\n",
       "      <td>1</td>\n",
       "      <td>0</td>\n",
       "      <td>0</td>\n",
       "      <td>0</td>\n",
       "      <td>0</td>\n",
       "      <td>1</td>\n",
       "    </tr>\n",
       "    <tr>\n",
       "      <th>8</th>\n",
       "      <td>1</td>\n",
       "      <td>0</td>\n",
       "      <td>0</td>\n",
       "      <td>0</td>\n",
       "      <td>1</td>\n",
       "      <td>1</td>\n",
       "    </tr>\n",
       "    <tr>\n",
       "      <th>9</th>\n",
       "      <td>1</td>\n",
       "      <td>0</td>\n",
       "      <td>0</td>\n",
       "      <td>0</td>\n",
       "      <td>0</td>\n",
       "      <td>0</td>\n",
       "    </tr>\n",
       "  </tbody>\n",
       "</table>\n",
       "</div>"
      ],
      "text/plain": [
       "   null  Incentive_1  Incentive_2  Incentive_3  Incentive_4  Incentive_5\n",
       "0     1            0            0            1            1            1\n",
       "1     1            0            0            1            0            1\n",
       "2     1            0            0            0            0            1\n",
       "3     1            0            0            0            1            0\n",
       "4     1            0            0            0            1            1\n",
       "5     1            0            0            0            0            1\n",
       "6     1            0            1            0            0            1\n",
       "7     1            0            0            0            0            1\n",
       "8     1            0            0            0            1            1\n",
       "9     1            0            0            0            0            0"
      ]
     },
     "execution_count": 107,
     "metadata": {},
     "output_type": "execute_result"
    }
   ],
   "source": [
    "e = 5\n",
    "N = 5000*(2**e)\n",
    "\n",
    "df = pd.DataFrame()\n",
    "df['null'] = [1]*N\n",
    "for i in range(1,e+1):\n",
    "#     df[f'Incentive_{i}']= [(n//(2**(i-1)))%2 for n in range(N)]\n",
    "    df[f'Incentive_{i}'] = bernoulli(.03*i**2).rvs(N)\n",
    "#     np.random.choice((0,1),N)\n",
    "df.head(10)"
   ]
  },
  {
   "cell_type": "code",
   "execution_count": 108,
   "id": "c2aaecf1",
   "metadata": {},
   "outputs": [
    {
     "data": {
      "text/plain": [
       "array([0.05, 0.09, 0.13, 0.17, 0.21, 0.25])"
      ]
     },
     "execution_count": 108,
     "metadata": {},
     "output_type": "execute_result"
    }
   ],
   "source": [
    "probabilities = np.linspace(.05, .25, df.shape[1])                          \n",
    "probabilities"
   ]
  },
  {
   "cell_type": "code",
   "execution_count": 109,
   "id": "ae129506",
   "metadata": {},
   "outputs": [
    {
     "data": {
      "text/html": [
       "<div>\n",
       "<style scoped>\n",
       "    .dataframe tbody tr th:only-of-type {\n",
       "        vertical-align: middle;\n",
       "    }\n",
       "\n",
       "    .dataframe tbody tr th {\n",
       "        vertical-align: top;\n",
       "    }\n",
       "\n",
       "    .dataframe thead th {\n",
       "        text-align: right;\n",
       "    }\n",
       "</style>\n",
       "<table border=\"1\" class=\"dataframe\">\n",
       "  <thead>\n",
       "    <tr style=\"text-align: right;\">\n",
       "      <th></th>\n",
       "      <th>null</th>\n",
       "      <th>Incentive_1</th>\n",
       "      <th>Incentive_2</th>\n",
       "      <th>Incentive_3</th>\n",
       "      <th>Incentive_4</th>\n",
       "      <th>Incentive_5</th>\n",
       "      <th>outcome</th>\n",
       "    </tr>\n",
       "  </thead>\n",
       "  <tbody>\n",
       "    <tr>\n",
       "      <th>0</th>\n",
       "      <td>1</td>\n",
       "      <td>0</td>\n",
       "      <td>0</td>\n",
       "      <td>1</td>\n",
       "      <td>1</td>\n",
       "      <td>1</td>\n",
       "      <td>1</td>\n",
       "    </tr>\n",
       "    <tr>\n",
       "      <th>1</th>\n",
       "      <td>1</td>\n",
       "      <td>0</td>\n",
       "      <td>0</td>\n",
       "      <td>1</td>\n",
       "      <td>0</td>\n",
       "      <td>1</td>\n",
       "      <td>0</td>\n",
       "    </tr>\n",
       "    <tr>\n",
       "      <th>2</th>\n",
       "      <td>1</td>\n",
       "      <td>0</td>\n",
       "      <td>0</td>\n",
       "      <td>0</td>\n",
       "      <td>0</td>\n",
       "      <td>1</td>\n",
       "      <td>0</td>\n",
       "    </tr>\n",
       "    <tr>\n",
       "      <th>3</th>\n",
       "      <td>1</td>\n",
       "      <td>0</td>\n",
       "      <td>0</td>\n",
       "      <td>0</td>\n",
       "      <td>1</td>\n",
       "      <td>0</td>\n",
       "      <td>0</td>\n",
       "    </tr>\n",
       "    <tr>\n",
       "      <th>4</th>\n",
       "      <td>1</td>\n",
       "      <td>0</td>\n",
       "      <td>0</td>\n",
       "      <td>0</td>\n",
       "      <td>1</td>\n",
       "      <td>1</td>\n",
       "      <td>0</td>\n",
       "    </tr>\n",
       "    <tr>\n",
       "      <th>...</th>\n",
       "      <td>...</td>\n",
       "      <td>...</td>\n",
       "      <td>...</td>\n",
       "      <td>...</td>\n",
       "      <td>...</td>\n",
       "      <td>...</td>\n",
       "      <td>...</td>\n",
       "    </tr>\n",
       "    <tr>\n",
       "      <th>159995</th>\n",
       "      <td>1</td>\n",
       "      <td>0</td>\n",
       "      <td>0</td>\n",
       "      <td>0</td>\n",
       "      <td>0</td>\n",
       "      <td>1</td>\n",
       "      <td>0</td>\n",
       "    </tr>\n",
       "    <tr>\n",
       "      <th>159996</th>\n",
       "      <td>1</td>\n",
       "      <td>0</td>\n",
       "      <td>0</td>\n",
       "      <td>1</td>\n",
       "      <td>1</td>\n",
       "      <td>0</td>\n",
       "      <td>0</td>\n",
       "    </tr>\n",
       "    <tr>\n",
       "      <th>159997</th>\n",
       "      <td>1</td>\n",
       "      <td>0</td>\n",
       "      <td>0</td>\n",
       "      <td>0</td>\n",
       "      <td>1</td>\n",
       "      <td>0</td>\n",
       "      <td>0</td>\n",
       "    </tr>\n",
       "    <tr>\n",
       "      <th>159998</th>\n",
       "      <td>1</td>\n",
       "      <td>0</td>\n",
       "      <td>0</td>\n",
       "      <td>0</td>\n",
       "      <td>0</td>\n",
       "      <td>1</td>\n",
       "      <td>1</td>\n",
       "    </tr>\n",
       "    <tr>\n",
       "      <th>159999</th>\n",
       "      <td>1</td>\n",
       "      <td>0</td>\n",
       "      <td>0</td>\n",
       "      <td>1</td>\n",
       "      <td>0</td>\n",
       "      <td>0</td>\n",
       "      <td>1</td>\n",
       "    </tr>\n",
       "  </tbody>\n",
       "</table>\n",
       "<p>160000 rows × 7 columns</p>\n",
       "</div>"
      ],
      "text/plain": [
       "        null  Incentive_1  Incentive_2  Incentive_3  Incentive_4  Incentive_5  \\\n",
       "0          1            0            0            1            1            1   \n",
       "1          1            0            0            1            0            1   \n",
       "2          1            0            0            0            0            1   \n",
       "3          1            0            0            0            1            0   \n",
       "4          1            0            0            0            1            1   \n",
       "...      ...          ...          ...          ...          ...          ...   \n",
       "159995     1            0            0            0            0            1   \n",
       "159996     1            0            0            1            1            0   \n",
       "159997     1            0            0            0            1            0   \n",
       "159998     1            0            0            0            0            1   \n",
       "159999     1            0            0            1            0            0   \n",
       "\n",
       "        outcome  \n",
       "0             1  \n",
       "1             0  \n",
       "2             0  \n",
       "3             0  \n",
       "4             0  \n",
       "...         ...  \n",
       "159995        0  \n",
       "159996        0  \n",
       "159997        0  \n",
       "159998        1  \n",
       "159999        1  \n",
       "\n",
       "[160000 rows x 7 columns]"
      ]
     },
     "execution_count": 109,
     "metadata": {},
     "output_type": "execute_result"
    }
   ],
   "source": [
    "df['outcome'] = \\\n",
    "bernoulli(1-np.exp(np.log(1-df*probabilities).sum(axis=1))).rvs()\n",
    "df"
   ]
  },
  {
   "cell_type": "code",
   "execution_count": 110,
   "id": "1fcd66d9",
   "metadata": {},
   "outputs": [],
   "source": [
    "df.to_csv('results_data1.csv', index=False)"
   ]
  },
  {
   "cell_type": "code",
   "execution_count": 111,
   "id": "4201104c",
   "metadata": {},
   "outputs": [
    {
     "data": {
      "text/html": [
       "<div>\n",
       "<style scoped>\n",
       "    .dataframe tbody tr th:only-of-type {\n",
       "        vertical-align: middle;\n",
       "    }\n",
       "\n",
       "    .dataframe tbody tr th {\n",
       "        vertical-align: top;\n",
       "    }\n",
       "\n",
       "    .dataframe thead th {\n",
       "        text-align: right;\n",
       "    }\n",
       "</style>\n",
       "<table border=\"1\" class=\"dataframe\">\n",
       "  <thead>\n",
       "    <tr style=\"text-align: right;\">\n",
       "      <th></th>\n",
       "      <th></th>\n",
       "      <th></th>\n",
       "      <th></th>\n",
       "      <th></th>\n",
       "      <th>null</th>\n",
       "      <th>outcome</th>\n",
       "    </tr>\n",
       "    <tr>\n",
       "      <th>Incentive_1</th>\n",
       "      <th>Incentive_2</th>\n",
       "      <th>Incentive_3</th>\n",
       "      <th>Incentive_4</th>\n",
       "      <th>Incentive_5</th>\n",
       "      <th></th>\n",
       "      <th></th>\n",
       "    </tr>\n",
       "  </thead>\n",
       "  <tbody>\n",
       "    <tr>\n",
       "      <th rowspan=\"16\" valign=\"top\">0</th>\n",
       "      <th rowspan=\"8\" valign=\"top\">0</th>\n",
       "      <th rowspan=\"4\" valign=\"top\">0</th>\n",
       "      <th rowspan=\"2\" valign=\"top\">0</th>\n",
       "      <th>0</th>\n",
       "      <td>1.0</td>\n",
       "      <td>0.051335</td>\n",
       "    </tr>\n",
       "    <tr>\n",
       "      <th>1</th>\n",
       "      <td>1.0</td>\n",
       "      <td>0.288072</td>\n",
       "    </tr>\n",
       "    <tr>\n",
       "      <th rowspan=\"2\" valign=\"top\">1</th>\n",
       "      <th>0</th>\n",
       "      <td>1.0</td>\n",
       "      <td>0.254143</td>\n",
       "    </tr>\n",
       "    <tr>\n",
       "      <th>1</th>\n",
       "      <td>1.0</td>\n",
       "      <td>0.434582</td>\n",
       "    </tr>\n",
       "    <tr>\n",
       "      <th rowspan=\"4\" valign=\"top\">1</th>\n",
       "      <th rowspan=\"2\" valign=\"top\">0</th>\n",
       "      <th>0</th>\n",
       "      <td>1.0</td>\n",
       "      <td>0.213943</td>\n",
       "    </tr>\n",
       "    <tr>\n",
       "      <th>1</th>\n",
       "      <td>1.0</td>\n",
       "      <td>0.403989</td>\n",
       "    </tr>\n",
       "    <tr>\n",
       "      <th rowspan=\"2\" valign=\"top\">1</th>\n",
       "      <th>0</th>\n",
       "      <td>1.0</td>\n",
       "      <td>0.373984</td>\n",
       "    </tr>\n",
       "    <tr>\n",
       "      <th>1</th>\n",
       "      <td>1.0</td>\n",
       "      <td>0.541502</td>\n",
       "    </tr>\n",
       "    <tr>\n",
       "      <th rowspan=\"8\" valign=\"top\">1</th>\n",
       "      <th rowspan=\"4\" valign=\"top\">0</th>\n",
       "      <th rowspan=\"2\" valign=\"top\">0</th>\n",
       "      <th>0</th>\n",
       "      <td>1.0</td>\n",
       "      <td>0.178551</td>\n",
       "    </tr>\n",
       "    <tr>\n",
       "      <th>1</th>\n",
       "      <td>1.0</td>\n",
       "      <td>0.375337</td>\n",
       "    </tr>\n",
       "    <tr>\n",
       "      <th rowspan=\"2\" valign=\"top\">1</th>\n",
       "      <th>0</th>\n",
       "      <td>1.0</td>\n",
       "      <td>0.350427</td>\n",
       "    </tr>\n",
       "    <tr>\n",
       "      <th>1</th>\n",
       "      <td>1.0</td>\n",
       "      <td>0.514096</td>\n",
       "    </tr>\n",
       "    <tr>\n",
       "      <th rowspan=\"4\" valign=\"top\">1</th>\n",
       "      <th rowspan=\"2\" valign=\"top\">0</th>\n",
       "      <th>0</th>\n",
       "      <td>1.0</td>\n",
       "      <td>0.311404</td>\n",
       "    </tr>\n",
       "    <tr>\n",
       "      <th>1</th>\n",
       "      <td>1.0</td>\n",
       "      <td>0.493123</td>\n",
       "    </tr>\n",
       "    <tr>\n",
       "      <th rowspan=\"2\" valign=\"top\">1</th>\n",
       "      <th>0</th>\n",
       "      <td>1.0</td>\n",
       "      <td>0.452830</td>\n",
       "    </tr>\n",
       "    <tr>\n",
       "      <th>1</th>\n",
       "      <td>1.0</td>\n",
       "      <td>0.588300</td>\n",
       "    </tr>\n",
       "    <tr>\n",
       "      <th rowspan=\"16\" valign=\"top\">1</th>\n",
       "      <th rowspan=\"8\" valign=\"top\">0</th>\n",
       "      <th rowspan=\"4\" valign=\"top\">0</th>\n",
       "      <th rowspan=\"2\" valign=\"top\">0</th>\n",
       "      <th>0</th>\n",
       "      <td>1.0</td>\n",
       "      <td>0.128342</td>\n",
       "    </tr>\n",
       "    <tr>\n",
       "      <th>1</th>\n",
       "      <td>1.0</td>\n",
       "      <td>0.355556</td>\n",
       "    </tr>\n",
       "    <tr>\n",
       "      <th rowspan=\"2\" valign=\"top\">1</th>\n",
       "      <th>0</th>\n",
       "      <td>1.0</td>\n",
       "      <td>0.315364</td>\n",
       "    </tr>\n",
       "    <tr>\n",
       "      <th>1</th>\n",
       "      <td>1.0</td>\n",
       "      <td>0.468453</td>\n",
       "    </tr>\n",
       "    <tr>\n",
       "      <th rowspan=\"4\" valign=\"top\">1</th>\n",
       "      <th rowspan=\"2\" valign=\"top\">0</th>\n",
       "      <th>0</th>\n",
       "      <td>1.0</td>\n",
       "      <td>0.250000</td>\n",
       "    </tr>\n",
       "    <tr>\n",
       "      <th>1</th>\n",
       "      <td>1.0</td>\n",
       "      <td>0.466513</td>\n",
       "    </tr>\n",
       "    <tr>\n",
       "      <th rowspan=\"2\" valign=\"top\">1</th>\n",
       "      <th>0</th>\n",
       "      <td>1.0</td>\n",
       "      <td>0.443662</td>\n",
       "    </tr>\n",
       "    <tr>\n",
       "      <th>1</th>\n",
       "      <td>1.0</td>\n",
       "      <td>0.575377</td>\n",
       "    </tr>\n",
       "    <tr>\n",
       "      <th rowspan=\"8\" valign=\"top\">1</th>\n",
       "      <th rowspan=\"4\" valign=\"top\">0</th>\n",
       "      <th rowspan=\"2\" valign=\"top\">0</th>\n",
       "      <th>0</th>\n",
       "      <td>1.0</td>\n",
       "      <td>0.290323</td>\n",
       "    </tr>\n",
       "    <tr>\n",
       "      <th>1</th>\n",
       "      <td>1.0</td>\n",
       "      <td>0.426573</td>\n",
       "    </tr>\n",
       "    <tr>\n",
       "      <th rowspan=\"2\" valign=\"top\">1</th>\n",
       "      <th>0</th>\n",
       "      <td>1.0</td>\n",
       "      <td>0.490566</td>\n",
       "    </tr>\n",
       "    <tr>\n",
       "      <th>1</th>\n",
       "      <td>1.0</td>\n",
       "      <td>0.539394</td>\n",
       "    </tr>\n",
       "    <tr>\n",
       "      <th rowspan=\"4\" valign=\"top\">1</th>\n",
       "      <th rowspan=\"2\" valign=\"top\">0</th>\n",
       "      <th>0</th>\n",
       "      <td>1.0</td>\n",
       "      <td>0.391304</td>\n",
       "    </tr>\n",
       "    <tr>\n",
       "      <th>1</th>\n",
       "      <td>1.0</td>\n",
       "      <td>0.546875</td>\n",
       "    </tr>\n",
       "    <tr>\n",
       "      <th rowspan=\"2\" valign=\"top\">1</th>\n",
       "      <th>0</th>\n",
       "      <td>1.0</td>\n",
       "      <td>0.666667</td>\n",
       "    </tr>\n",
       "    <tr>\n",
       "      <th>1</th>\n",
       "      <td>1.0</td>\n",
       "      <td>0.685185</td>\n",
       "    </tr>\n",
       "  </tbody>\n",
       "</table>\n",
       "</div>"
      ],
      "text/plain": [
       "                                                             null   outcome\n",
       "Incentive_1 Incentive_2 Incentive_3 Incentive_4 Incentive_5                \n",
       "0           0           0           0           0             1.0  0.051335\n",
       "                                                1             1.0  0.288072\n",
       "                                    1           0             1.0  0.254143\n",
       "                                                1             1.0  0.434582\n",
       "                        1           0           0             1.0  0.213943\n",
       "                                                1             1.0  0.403989\n",
       "                                    1           0             1.0  0.373984\n",
       "                                                1             1.0  0.541502\n",
       "            1           0           0           0             1.0  0.178551\n",
       "                                                1             1.0  0.375337\n",
       "                                    1           0             1.0  0.350427\n",
       "                                                1             1.0  0.514096\n",
       "                        1           0           0             1.0  0.311404\n",
       "                                                1             1.0  0.493123\n",
       "                                    1           0             1.0  0.452830\n",
       "                                                1             1.0  0.588300\n",
       "1           0           0           0           0             1.0  0.128342\n",
       "                                                1             1.0  0.355556\n",
       "                                    1           0             1.0  0.315364\n",
       "                                                1             1.0  0.468453\n",
       "                        1           0           0             1.0  0.250000\n",
       "                                                1             1.0  0.466513\n",
       "                                    1           0             1.0  0.443662\n",
       "                                                1             1.0  0.575377\n",
       "            1           0           0           0             1.0  0.290323\n",
       "                                                1             1.0  0.426573\n",
       "                                    1           0             1.0  0.490566\n",
       "                                                1             1.0  0.539394\n",
       "                        1           0           0             1.0  0.391304\n",
       "                                                1             1.0  0.546875\n",
       "                                    1           0             1.0  0.666667\n",
       "                                                1             1.0  0.685185"
      ]
     },
     "execution_count": 111,
     "metadata": {},
     "output_type": "execute_result"
    }
   ],
   "source": [
    "df.groupby([f'Incentive_{i}' for i in range(1,df.shape[1]-1)]).mean()"
   ]
  },
  {
   "cell_type": "code",
   "execution_count": 112,
   "id": "e6f0fb17",
   "metadata": {},
   "outputs": [
    {
     "data": {
      "text/plain": [
       "array([[-1.97702449,  0.25968166,  0.39729436,  0.5378332 ,  0.71394489,\n",
       "         1.00814042]])"
      ]
     },
     "execution_count": 112,
     "metadata": {},
     "output_type": "execute_result"
    }
   ],
   "source": [
    "lr = LR(fit_intercept=False, penalty=None).fit(df.iloc[:,:-1], df.iloc[:,-1])\n",
    "lr.coef_"
   ]
  },
  {
   "cell_type": "code",
   "execution_count": 7,
   "id": "bd1ba4a4",
   "metadata": {},
   "outputs": [
    {
     "data": {
      "text/plain": [
       "array([[0.15217599, 0.57134089, 0.58499253, 0.63058005, 0.64451337,\n",
       "        0.6841824 ]])"
      ]
     },
     "execution_count": 7,
     "metadata": {},
     "output_type": "execute_result"
    }
   ],
   "source": [
    "1/(1+np.exp(-lr.coef_))"
   ]
  },
  {
   "cell_type": "code",
   "execution_count": 8,
   "id": "c312a90f",
   "metadata": {},
   "outputs": [
    {
     "data": {
      "text/plain": [
       "array([-0.05129329, -0.09431068, -0.13926207, -0.18632958, -0.23572233,\n",
       "       -0.28768207])"
      ]
     },
     "execution_count": 8,
     "metadata": {},
     "output_type": "execute_result"
    }
   ],
   "source": [
    "np.log(1-probabilities)"
   ]
  },
  {
   "cell_type": "code",
   "execution_count": 9,
   "id": "edcf1cca",
   "metadata": {},
   "outputs": [
    {
     "data": {
      "text/plain": [
       "(array([[0.15217599, 0.57134089, 0.58499253, 0.63058005, 0.64451337,\n",
       "         0.6841824 ]]),\n",
       " array([0.05, 0.09, 0.13, 0.17, 0.21, 0.25]))"
      ]
     },
     "execution_count": 9,
     "metadata": {},
     "output_type": "execute_result"
    }
   ],
   "source": [
    "1/(1+np.exp(-lr.coef_)), probabilities"
   ]
  },
  {
   "cell_type": "code",
   "execution_count": 10,
   "id": "3fdcaa54",
   "metadata": {},
   "outputs": [
    {
     "data": {
      "text/plain": [
       "array([[ 0.82050993, -0.33285604, -0.4095952 , -0.70694638, -0.81304533,\n",
       "        -1.16638467]])"
      ]
     },
     "execution_count": 10,
     "metadata": {},
     "output_type": "execute_result"
    }
   ],
   "source": [
    "1-np.exp(lr.coef_)"
   ]
  },
  {
   "cell_type": "code",
   "execution_count": 11,
   "id": "b012cb6c",
   "metadata": {},
   "outputs": [
    {
     "data": {
      "text/plain": [
       "<matplotlib.collections.PathCollection at 0x7f2166846b00>"
      ]
     },
     "execution_count": 11,
     "metadata": {},
     "output_type": "execute_result"
    },
    {
     "data": {
      "image/png": "[encoded data removed]",
      "text/plain": [
       "<Figure size 640x480 with 1 Axes>"
      ]
     },
     "metadata": {},
     "output_type": "display_data"
    }
   ],
   "source": [
    "plt.scatter(probabilities, lr.coef_)"
   ]
  },
  {
   "cell_type": "code",
   "execution_count": 12,
   "id": "ae6de7b1",
   "metadata": {},
   "outputs": [
    {
     "data": {
      "text/plain": [
       "<matplotlib.collections.PathCollection at 0x7f21627989d0>"
      ]
     },
     "execution_count": 12,
     "metadata": {},
     "output_type": "execute_result"
    },
    {
     "data": {
      "image/png": "[encoded data removed]",
      "text/plain": [
       "<Figure size 640x480 with 1 Axes>"
      ]
     },
     "metadata": {},
     "output_type": "display_data"
    }
   ],
   "source": [
    "plt.scatter(probabilities, np.exp(lr.coef_))"
   ]
  },
  {
   "cell_type": "code",
   "execution_count": 13,
   "id": "ae68a8f2",
   "metadata": {},
   "outputs": [
    {
     "data": {
      "text/plain": [
       "<matplotlib.collections.PathCollection at 0x7f21626295a0>"
      ]
     },
     "execution_count": 13,
     "metadata": {},
     "output_type": "execute_result"
    },
    {
     "data": {
      "image/png": "[encoded data removed]",
      "text/plain": [
       "<Figure size 640x480 with 1 Axes>"
      ]
     },
     "metadata": {},
     "output_type": "display_data"
    }
   ],
   "source": [
    "plt.scatter(probabilities, np.exp(-lr.coef_))"
   ]
  },
  {
   "cell_type": "code",
   "execution_count": 14,
   "id": "7c1bd724",
   "metadata": {},
   "outputs": [
    {
     "data": {
      "text/plain": [
       "<matplotlib.collections.PathCollection at 0x7f21626bc2e0>"
      ]
     },
     "execution_count": 14,
     "metadata": {},
     "output_type": "execute_result"
    },
    {
     "data": {
      "image/png": "[encoded data removed]",
      "text/plain": [
       "<Figure size 640x480 with 1 Axes>"
      ]
     },
     "metadata": {},
     "output_type": "display_data"
    }
   ],
   "source": [
    "plt.scatter(probabilities, 1/(1+np.exp(lr.coef_)))"
   ]
  },
  {
   "cell_type": "code",
   "execution_count": 15,
   "id": "0fbedab2",
   "metadata": {},
   "outputs": [
    {
     "data": {
      "text/plain": [
       "[<matplotlib.lines.Line2D at 0x7f2162527b80>]"
      ]
     },
     "execution_count": 15,
     "metadata": {},
     "output_type": "execute_result"
    },
    {
     "data": {
      "image/png": "[encoded data removed]",
      "text/plain": [
       "<Figure size 640x480 with 1 Axes>"
      ]
     },
     "metadata": {},
     "output_type": "display_data"
    }
   ],
   "source": [
    "plt.scatter(probabilities, (1/(1+np.exp(-lr.coef_))/1))\n",
    "plt.plot([0,.05],[0,.05])"
   ]
  },
  {
   "cell_type": "code",
   "execution_count": 16,
   "id": "73922c39",
   "metadata": {},
   "outputs": [
    {
     "data": {
      "text/plain": [
       "array([0.5])"
      ]
     },
     "execution_count": 16,
     "metadata": {},
     "output_type": "execute_result"
    }
   ],
   "source": [
    "1/(1+np.exp(-lr.intercept_))"
   ]
  },
  {
   "cell_type": "code",
   "execution_count": 17,
   "id": "a2d91870",
   "metadata": {},
   "outputs": [
    {
     "data": {
      "text/plain": [
       "((6, 1),\n",
       " array([[-1.71763537,  0.28732404,  0.34330257,  0.53470603,  0.59500793,\n",
       "          0.77305973]]),\n",
       " array([0.]))"
      ]
     },
     "execution_count": 17,
     "metadata": {},
     "output_type": "execute_result"
    }
   ],
   "source": [
    "probabilities.reshape(-1,1).shape, lr.coef_, lr.intercept_"
   ]
  },
  {
   "cell_type": "code",
   "execution_count": 18,
   "id": "28d76123",
   "metadata": {},
   "outputs": [
    {
     "data": {
      "text/plain": [
       "0.23122333626809183"
      ]
     },
     "execution_count": 18,
     "metadata": {},
     "output_type": "execute_result"
    }
   ],
   "source": [
    "from sklearn.linear_model import LinearRegression \n",
    "ll = LinearRegression().fit(probabilities.reshape(-1,1), 1/(1+np.exp(-lr.coef_)[0]))\n",
    "ll.intercept_"
   ]
  },
  {
   "cell_type": "code",
   "execution_count": 19,
   "id": "621615cd",
   "metadata": {},
   "outputs": [
    {
     "data": {
      "text/plain": [
       "array([2.08938358])"
      ]
     },
     "execution_count": 19,
     "metadata": {},
     "output_type": "execute_result"
    }
   ],
   "source": [
    "ll.coef_"
   ]
  },
  {
   "cell_type": "code",
   "execution_count": 20,
   "id": "507adc03",
   "metadata": {},
   "outputs": [],
   "source": [
    "# row = df.iloc[4,:]\n",
    "# def find_p(row):\n",
    "#     p_not = 1-(row * probabilities)\n",
    "#     p_not = reduce(lambda a,b:a*b, p_not)\n",
    "#     p = 1-p_not\n",
    "#     return p\n",
    "\n",
    "# p = df.apply(find_p, axis=1)\n",
    "# p"
   ]
  },
  {
   "cell_type": "code",
   "execution_count": null,
   "id": "bf98ef70",
   "metadata": {},
   "outputs": [],
   "source": []
  },
  {
   "cell_type": "code",
   "execution_count": 21,
   "id": "f2344bb8",
   "metadata": {},
   "outputs": [],
   "source": [
    "# plt.hist(p);"
   ]
  },
  {
   "cell_type": "code",
   "execution_count": 22,
   "id": "8a9b2bfe",
   "metadata": {},
   "outputs": [],
   "source": [
    "# df['outcome'] = bernoulli(p).rvs()\n",
    "# df.head()"
   ]
  },
  {
   "cell_type": "code",
   "execution_count": 23,
   "id": "4e55dbe4",
   "metadata": {},
   "outputs": [
    {
     "data": {
      "text/plain": [
       "0.3975"
      ]
     },
     "execution_count": 23,
     "metadata": {},
     "output_type": "execute_result"
    }
   ],
   "source": [
    "df.outcome.mean()"
   ]
  },
  {
   "cell_type": "code",
   "execution_count": 24,
   "id": "789ae2be",
   "metadata": {},
   "outputs": [],
   "source": [
    "# def calculate_beta(i):\n",
    "#     fig, ax = plt.subplots()\n",
    "#     Exp_ = df[df[f'Experiment_{i}']==1]['outcome']\n",
    "#     Exp_ = beta(Exp_.sum(), len(Exp_)-Exp_.sum())\n",
    "#     Exp_control = df[df[f'Experiment_{i}']==0]['outcome']\n",
    "#     Exp_control = beta(Exp_control.sum(), len(Exp_control)-Exp_control.sum())\n",
    "#     ax.plot(x, Exp_.pdf(x))\n",
    "#     ax.plot(x, Exp_control.pdf(x))\n",
    "#     ax.set_xlim([0,.3])\n",
    "#     confidence = (Exp_.rvs(N)>Exp_control.rvs(N)).mean()\n",
    "#     ax.set_title(f'Chance that experiment {i} is better than control:{confidence}');\n",
    "#     return ax\n"
   ]
  },
  {
   "cell_type": "code",
   "execution_count": 25,
   "id": "f1408883",
   "metadata": {
    "scrolled": false
   },
   "outputs": [],
   "source": [
    "# [calculate_beta(i) for i in range(1,e+1)];"
   ]
  },
  {
   "cell_type": "code",
   "execution_count": 26,
   "id": "296ee067",
   "metadata": {},
   "outputs": [],
   "source": [
    "# lr = LR(fit_intercept=False).fit(df.iloc[:,:-1], df.iloc[:,-1])\n",
    "# lr.intercept_, lr.coef_\n",
    "\n"
   ]
  },
  {
   "cell_type": "code",
   "execution_count": 27,
   "id": "92f980ab",
   "metadata": {},
   "outputs": [],
   "source": [
    "# for i in (1,2,3,4):\n",
    "#     lr= LR().fit(df[df[f'Experiment_{i}']==0].iloc[:,:-1],\n",
    "#             df[df[f'Experiment_{i}']==0].iloc[:,-1])\n",
    "    \n",
    "#     predicted = lr.predict_proba(df[df[f'Experiment_{i}']==1].iloc[:,:-1])[:,1]\n",
    "#     actual = df[df[f'Experiment_{i}']==1]['outcome']\n",
    "    \n",
    "#     print((actual.sum()-predicted.sum())/(len(df)/2))\n",
    "    "
   ]
  },
  {
   "cell_type": "code",
   "execution_count": 28,
   "id": "eeb7f7f6",
   "metadata": {},
   "outputs": [
    {
     "data": {
      "text/plain": [
       "array([0.05, 0.09, 0.13, 0.17, 0.21, 0.25])"
      ]
     },
     "execution_count": 28,
     "metadata": {},
     "output_type": "execute_result"
    }
   ],
   "source": [
    "probabilities"
   ]
  },
  {
   "cell_type": "code",
   "execution_count": 29,
   "id": "44f3b64c",
   "metadata": {},
   "outputs": [],
   "source": [
    "# for i in (1,2,3):\n",
    "#     lr= LR().fit(df[df[f'Experiment_{i}']==1].iloc[:,:-1],\n",
    "#             df[df[f'Experiment_{i}']==1].iloc[:,-1])\n",
    "    \n",
    "#     predicted = lr.predict_proba(df[df[f'Experiment_{i}']==0].iloc[:,:-1])[:,1]\n",
    "#     actual = df[df[f'Experiment_{i}']==0]['outcome']\n",
    "    \n",
    "#     print((predicted.sum()-actual.sum())/(df[f'Experiment_{i}']))"
   ]
  },
  {
   "cell_type": "code",
   "execution_count": 30,
   "id": "d4f7347d",
   "metadata": {},
   "outputs": [],
   "source": [
    "def causal_probability(with_factor, without_factor, interval):\n",
    "#     interval =interval**(2)\n",
    "    α = 1-interval\n",
    "    α = α\n",
    "    lo, hi = α, 1-α\n",
    "    print(lo,hi, hi-lo)\n",
    "    \n",
    "    return 1-(1-with_factor.ppf([lo,hi]))/\\\n",
    "            (1-without_factor.ppf([hi,lo]))\n",
    "\n",
    "# causal_probability(with_1, without_1, .9)"
   ]
  },
  {
   "cell_type": "code",
   "execution_count": 31,
   "id": "374e9711",
   "metadata": {},
   "outputs": [],
   "source": [
    "# s = 1-(1-with_1.rvs(100000))/(1-without_1.rvs(100000))\n",
    "# plt.hist(s, bins=1000)\n",
    "# interval = .9\n",
    "# print(50*(1-interval), 50*(1+interval))\n",
    "# [plt.axvline(i, color='red') for i in causal_probability(with_1, without_1, interval)]\n",
    "# [plt.axvline(i, color='green') for i in np.percentile(s, [50*(1-interval), 50*(1+interval)])];"
   ]
  },
  {
   "cell_type": "code",
   "execution_count": 32,
   "id": "66542f68",
   "metadata": {},
   "outputs": [
    {
     "data": {
      "text/plain": [
       "array([[0.0569617 , 0.10050911, 0.1420882 ],\n",
       "       [0.07637352, 0.11904375, 0.15979263],\n",
       "       [0.1405025 , 0.18030207, 0.2183319 ],\n",
       "       [0.16007156, 0.19900342, 0.23621069],\n",
       "       [0.21641524, 0.25287009, 0.28772747]])"
      ]
     },
     "execution_count": 32,
     "metadata": {},
     "output_type": "execute_result"
    }
   ],
   "source": [
    "\n",
    "def attribution(df, i, interval):\n",
    "    \n",
    "    α = [.5-interval/2, .5, .5+interval/2]\n",
    "    \n",
    "    summary = df.groupby([f'Incentive_{i}','outcome'])['null'].sum().values\n",
    "    wo_b, wo_a, w_b, w_a = summary\n",
    "    w = beta(w_a, w_b)\n",
    "    wo = beta(wo_a, wo_b)\n",
    "    result = (1-(1-w.ppf(α))/(1-wo.ppf(α[::-1])))\n",
    "    return result\n",
    "\n",
    "credible_intervals = np.array([attribution(df, i, .9) for i in range(1,e+1)])\n",
    "credible_intervals\n",
    "\n",
    "# for i in range(1, e+1):\n",
    "#     print(attribution(i, .9))"
   ]
  },
  {
   "cell_type": "code",
   "execution_count": 33,
   "id": "867a705b",
   "metadata": {},
   "outputs": [
    {
     "data": {
      "text/plain": [
       "array([0.05, 0.09, 0.13, 0.17, 0.21, 0.25])"
      ]
     },
     "execution_count": 33,
     "metadata": {},
     "output_type": "execute_result"
    }
   ],
   "source": [
    "probabilities"
   ]
  },
  {
   "cell_type": "code",
   "execution_count": 34,
   "id": "a8fe83de",
   "metadata": {},
   "outputs": [
    {
     "data": {
      "text/plain": [
       "Text(0, 0.5, 'Estimated Independent Probability')"
      ]
     },
     "execution_count": 34,
     "metadata": {},
     "output_type": "execute_result"
    },
    {
     "data": {
      "image/png": "[encoded data removed]",
      "text/plain": [
       "<Figure size 640x480 with 1 Axes>"
      ]
     },
     "metadata": {},
     "output_type": "display_data"
    }
   ],
   "source": [
    "for (i, (lo, mid, hi)),p in zip(enumerate(credible_intervals,1),\n",
    "                            probabilities[1:]):\n",
    "    m = '_'\n",
    "    plt.scatter(i, mid, c='red', marker=m)\n",
    "    plt.scatter(i, lo, c='blue', marker=m)\n",
    "    plt.scatter(i, hi, c='blue', marker=m)\n",
    "    plt.scatter(i, p, c='green')\n",
    "    \n",
    "plt.xlabel('Experiment')\n",
    "plt.ylabel('Estimated Independent Probability')"
   ]
  },
  {
   "cell_type": "code",
   "execution_count": 35,
   "id": "1606972b",
   "metadata": {},
   "outputs": [
    {
     "data": {
      "text/plain": [
       "0.36016622007812493"
      ]
     },
     "execution_count": 35,
     "metadata": {},
     "output_type": "execute_result"
    }
   ],
   "source": [
    "without_null = 1-np.cumprod(\n",
    "1-df[[i for i in df.columns if 'Incentive' in i]]*probabilities[1:],\n",
    "    axis=1).iloc[:,-1].mean()\n",
    "without_null"
   ]
  },
  {
   "cell_type": "code",
   "execution_count": null,
   "id": "ee0150b4",
   "metadata": {},
   "outputs": [],
   "source": []
  },
  {
   "cell_type": "code",
   "execution_count": 36,
   "id": "2526492f",
   "metadata": {},
   "outputs": [],
   "source": [
    "e = 10\n",
    "N = 10*2**(e)"
   ]
  },
  {
   "cell_type": "code",
   "execution_count": 37,
   "id": "59ed3edd",
   "metadata": {},
   "outputs": [
    {
     "data": {
      "text/plain": [
       "array([0.03770337, 0.04749356, 0.03257685, 0.03122425, 0.03099919,\n",
       "       0.02457322, 0.01517045, 0.03026368, 0.01965459, 0.03032291,\n",
       "       0.04710875])"
      ]
     },
     "execution_count": 37,
     "metadata": {},
     "output_type": "execute_result"
    }
   ],
   "source": [
    "probabilities = np.random.uniform(0, .05, e+1)\n",
    "probabilities"
   ]
  },
  {
   "cell_type": "code",
   "execution_count": 38,
   "id": "98111eab",
   "metadata": {},
   "outputs": [
    {
     "data": {
      "text/html": [
       "<div>\n",
       "<style scoped>\n",
       "    .dataframe tbody tr th:only-of-type {\n",
       "        vertical-align: middle;\n",
       "    }\n",
       "\n",
       "    .dataframe tbody tr th {\n",
       "        vertical-align: top;\n",
       "    }\n",
       "\n",
       "    .dataframe thead th {\n",
       "        text-align: right;\n",
       "    }\n",
       "</style>\n",
       "<table border=\"1\" class=\"dataframe\">\n",
       "  <thead>\n",
       "    <tr style=\"text-align: right;\">\n",
       "      <th></th>\n",
       "      <th>null</th>\n",
       "      <th>Incentive_1</th>\n",
       "      <th>Incentive_2</th>\n",
       "      <th>Incentive_3</th>\n",
       "      <th>Incentive_4</th>\n",
       "      <th>Incentive_5</th>\n",
       "      <th>Incentive_6</th>\n",
       "      <th>Incentive_7</th>\n",
       "      <th>Incentive_8</th>\n",
       "      <th>Incentive_9</th>\n",
       "      <th>Incentive_10</th>\n",
       "      <th>outcome</th>\n",
       "    </tr>\n",
       "  </thead>\n",
       "  <tbody>\n",
       "    <tr>\n",
       "      <th>0</th>\n",
       "      <td>1.0</td>\n",
       "      <td>0</td>\n",
       "      <td>0</td>\n",
       "      <td>0</td>\n",
       "      <td>0</td>\n",
       "      <td>0</td>\n",
       "      <td>0</td>\n",
       "      <td>0</td>\n",
       "      <td>1</td>\n",
       "      <td>0</td>\n",
       "      <td>1</td>\n",
       "      <td>0</td>\n",
       "    </tr>\n",
       "    <tr>\n",
       "      <th>1</th>\n",
       "      <td>1.0</td>\n",
       "      <td>1</td>\n",
       "      <td>0</td>\n",
       "      <td>1</td>\n",
       "      <td>0</td>\n",
       "      <td>0</td>\n",
       "      <td>0</td>\n",
       "      <td>0</td>\n",
       "      <td>0</td>\n",
       "      <td>0</td>\n",
       "      <td>0</td>\n",
       "      <td>0</td>\n",
       "    </tr>\n",
       "    <tr>\n",
       "      <th>2</th>\n",
       "      <td>1.0</td>\n",
       "      <td>1</td>\n",
       "      <td>1</td>\n",
       "      <td>1</td>\n",
       "      <td>0</td>\n",
       "      <td>0</td>\n",
       "      <td>0</td>\n",
       "      <td>0</td>\n",
       "      <td>0</td>\n",
       "      <td>1</td>\n",
       "      <td>0</td>\n",
       "      <td>0</td>\n",
       "    </tr>\n",
       "    <tr>\n",
       "      <th>3</th>\n",
       "      <td>1.0</td>\n",
       "      <td>0</td>\n",
       "      <td>1</td>\n",
       "      <td>0</td>\n",
       "      <td>0</td>\n",
       "      <td>0</td>\n",
       "      <td>0</td>\n",
       "      <td>0</td>\n",
       "      <td>1</td>\n",
       "      <td>0</td>\n",
       "      <td>0</td>\n",
       "      <td>0</td>\n",
       "    </tr>\n",
       "    <tr>\n",
       "      <th>4</th>\n",
       "      <td>1.0</td>\n",
       "      <td>1</td>\n",
       "      <td>0</td>\n",
       "      <td>0</td>\n",
       "      <td>0</td>\n",
       "      <td>0</td>\n",
       "      <td>1</td>\n",
       "      <td>0</td>\n",
       "      <td>0</td>\n",
       "      <td>0</td>\n",
       "      <td>0</td>\n",
       "      <td>0</td>\n",
       "    </tr>\n",
       "    <tr>\n",
       "      <th>...</th>\n",
       "      <td>...</td>\n",
       "      <td>...</td>\n",
       "      <td>...</td>\n",
       "      <td>...</td>\n",
       "      <td>...</td>\n",
       "      <td>...</td>\n",
       "      <td>...</td>\n",
       "      <td>...</td>\n",
       "      <td>...</td>\n",
       "      <td>...</td>\n",
       "      <td>...</td>\n",
       "      <td>...</td>\n",
       "    </tr>\n",
       "    <tr>\n",
       "      <th>10235</th>\n",
       "      <td>1.0</td>\n",
       "      <td>0</td>\n",
       "      <td>0</td>\n",
       "      <td>0</td>\n",
       "      <td>1</td>\n",
       "      <td>0</td>\n",
       "      <td>0</td>\n",
       "      <td>1</td>\n",
       "      <td>1</td>\n",
       "      <td>0</td>\n",
       "      <td>0</td>\n",
       "      <td>1</td>\n",
       "    </tr>\n",
       "    <tr>\n",
       "      <th>10236</th>\n",
       "      <td>1.0</td>\n",
       "      <td>1</td>\n",
       "      <td>0</td>\n",
       "      <td>0</td>\n",
       "      <td>1</td>\n",
       "      <td>0</td>\n",
       "      <td>1</td>\n",
       "      <td>0</td>\n",
       "      <td>0</td>\n",
       "      <td>1</td>\n",
       "      <td>0</td>\n",
       "      <td>0</td>\n",
       "    </tr>\n",
       "    <tr>\n",
       "      <th>10237</th>\n",
       "      <td>1.0</td>\n",
       "      <td>0</td>\n",
       "      <td>0</td>\n",
       "      <td>0</td>\n",
       "      <td>0</td>\n",
       "      <td>0</td>\n",
       "      <td>0</td>\n",
       "      <td>0</td>\n",
       "      <td>1</td>\n",
       "      <td>0</td>\n",
       "      <td>0</td>\n",
       "      <td>0</td>\n",
       "    </tr>\n",
       "    <tr>\n",
       "      <th>10238</th>\n",
       "      <td>1.0</td>\n",
       "      <td>0</td>\n",
       "      <td>1</td>\n",
       "      <td>0</td>\n",
       "      <td>1</td>\n",
       "      <td>0</td>\n",
       "      <td>0</td>\n",
       "      <td>0</td>\n",
       "      <td>1</td>\n",
       "      <td>0</td>\n",
       "      <td>0</td>\n",
       "      <td>0</td>\n",
       "    </tr>\n",
       "    <tr>\n",
       "      <th>10239</th>\n",
       "      <td>1.0</td>\n",
       "      <td>0</td>\n",
       "      <td>1</td>\n",
       "      <td>0</td>\n",
       "      <td>0</td>\n",
       "      <td>0</td>\n",
       "      <td>0</td>\n",
       "      <td>0</td>\n",
       "      <td>1</td>\n",
       "      <td>0</td>\n",
       "      <td>0</td>\n",
       "      <td>0</td>\n",
       "    </tr>\n",
       "  </tbody>\n",
       "</table>\n",
       "<p>10240 rows × 12 columns</p>\n",
       "</div>"
      ],
      "text/plain": [
       "       null  Incentive_1  Incentive_2  Incentive_3  Incentive_4  Incentive_5  \\\n",
       "0       1.0            0            0            0            0            0   \n",
       "1       1.0            1            0            1            0            0   \n",
       "2       1.0            1            1            1            0            0   \n",
       "3       1.0            0            1            0            0            0   \n",
       "4       1.0            1            0            0            0            0   \n",
       "...     ...          ...          ...          ...          ...          ...   \n",
       "10235   1.0            0            0            0            1            0   \n",
       "10236   1.0            1            0            0            1            0   \n",
       "10237   1.0            0            0            0            0            0   \n",
       "10238   1.0            0            1            0            1            0   \n",
       "10239   1.0            0            1            0            0            0   \n",
       "\n",
       "       Incentive_6  Incentive_7  Incentive_8  Incentive_9  Incentive_10  \\\n",
       "0                0            0            1            0             1   \n",
       "1                0            0            0            0             0   \n",
       "2                0            0            0            1             0   \n",
       "3                0            0            1            0             0   \n",
       "4                1            0            0            0             0   \n",
       "...            ...          ...          ...          ...           ...   \n",
       "10235            0            1            1            0             0   \n",
       "10236            1            0            0            1             0   \n",
       "10237            0            0            1            0             0   \n",
       "10238            0            0            1            0             0   \n",
       "10239            0            0            1            0             0   \n",
       "\n",
       "       outcome  \n",
       "0            0  \n",
       "1            0  \n",
       "2            0  \n",
       "3            0  \n",
       "4            0  \n",
       "...        ...  \n",
       "10235        1  \n",
       "10236        0  \n",
       "10237        0  \n",
       "10238        0  \n",
       "10239        0  \n",
       "\n",
       "[10240 rows x 12 columns]"
      ]
     },
     "execution_count": 38,
     "metadata": {},
     "output_type": "execute_result"
    }
   ],
   "source": [
    "d2 = pd.DataFrame()\n",
    "d2['null'] = np.ones(N)\n",
    "d2[[f'Incentive_{i}' for i in range(1,e+1)]] = np.random.choice((0,1),p=(.7,.3), size=(N,e))\n",
    "d2['outcome'] = \\\n",
    "bernoulli(1-np.exp(np.log(1-d2*probabilities).sum(axis=1))).rvs()\n",
    "d2"
   ]
  },
  {
   "cell_type": "code",
   "execution_count": 39,
   "id": "e8ac416f",
   "metadata": {},
   "outputs": [
    {
     "data": {
      "text/html": [
       "<div>\n",
       "<style scoped>\n",
       "    .dataframe tbody tr th:only-of-type {\n",
       "        vertical-align: middle;\n",
       "    }\n",
       "\n",
       "    .dataframe tbody tr th {\n",
       "        vertical-align: top;\n",
       "    }\n",
       "\n",
       "    .dataframe thead th {\n",
       "        text-align: right;\n",
       "    }\n",
       "</style>\n",
       "<table border=\"1\" class=\"dataframe\">\n",
       "  <thead>\n",
       "    <tr style=\"text-align: right;\">\n",
       "      <th></th>\n",
       "      <th>null</th>\n",
       "      <th>Incentive_1</th>\n",
       "      <th>Incentive_2</th>\n",
       "      <th>Incentive_3</th>\n",
       "      <th>Incentive_4</th>\n",
       "      <th>Incentive_5</th>\n",
       "      <th>Incentive_6</th>\n",
       "      <th>Incentive_7</th>\n",
       "      <th>Incentive_8</th>\n",
       "      <th>Incentive_9</th>\n",
       "      <th>Incentive_10</th>\n",
       "      <th>outcome</th>\n",
       "    </tr>\n",
       "  </thead>\n",
       "  <tbody>\n",
       "    <tr>\n",
       "      <th>count</th>\n",
       "      <td>10240.0</td>\n",
       "      <td>10240.000000</td>\n",
       "      <td>10240.000000</td>\n",
       "      <td>10240.000000</td>\n",
       "      <td>10240.000000</td>\n",
       "      <td>10240.000000</td>\n",
       "      <td>10240.000000</td>\n",
       "      <td>10240.000000</td>\n",
       "      <td>10240.00000</td>\n",
       "      <td>10240.000000</td>\n",
       "      <td>10240.000000</td>\n",
       "      <td>10240.000000</td>\n",
       "    </tr>\n",
       "    <tr>\n",
       "      <th>mean</th>\n",
       "      <td>1.0</td>\n",
       "      <td>0.298047</td>\n",
       "      <td>0.307227</td>\n",
       "      <td>0.300293</td>\n",
       "      <td>0.300684</td>\n",
       "      <td>0.292676</td>\n",
       "      <td>0.300684</td>\n",
       "      <td>0.294043</td>\n",
       "      <td>0.30000</td>\n",
       "      <td>0.300879</td>\n",
       "      <td>0.301367</td>\n",
       "      <td>0.123633</td>\n",
       "    </tr>\n",
       "    <tr>\n",
       "      <th>std</th>\n",
       "      <td>0.0</td>\n",
       "      <td>0.457423</td>\n",
       "      <td>0.461367</td>\n",
       "      <td>0.458408</td>\n",
       "      <td>0.458578</td>\n",
       "      <td>0.455013</td>\n",
       "      <td>0.458578</td>\n",
       "      <td>0.455634</td>\n",
       "      <td>0.45828</td>\n",
       "      <td>0.458663</td>\n",
       "      <td>0.458874</td>\n",
       "      <td>0.329178</td>\n",
       "    </tr>\n",
       "    <tr>\n",
       "      <th>min</th>\n",
       "      <td>1.0</td>\n",
       "      <td>0.000000</td>\n",
       "      <td>0.000000</td>\n",
       "      <td>0.000000</td>\n",
       "      <td>0.000000</td>\n",
       "      <td>0.000000</td>\n",
       "      <td>0.000000</td>\n",
       "      <td>0.000000</td>\n",
       "      <td>0.00000</td>\n",
       "      <td>0.000000</td>\n",
       "      <td>0.000000</td>\n",
       "      <td>0.000000</td>\n",
       "    </tr>\n",
       "    <tr>\n",
       "      <th>25%</th>\n",
       "      <td>1.0</td>\n",
       "      <td>0.000000</td>\n",
       "      <td>0.000000</td>\n",
       "      <td>0.000000</td>\n",
       "      <td>0.000000</td>\n",
       "      <td>0.000000</td>\n",
       "      <td>0.000000</td>\n",
       "      <td>0.000000</td>\n",
       "      <td>0.00000</td>\n",
       "      <td>0.000000</td>\n",
       "      <td>0.000000</td>\n",
       "      <td>0.000000</td>\n",
       "    </tr>\n",
       "    <tr>\n",
       "      <th>50%</th>\n",
       "      <td>1.0</td>\n",
       "      <td>0.000000</td>\n",
       "      <td>0.000000</td>\n",
       "      <td>0.000000</td>\n",
       "      <td>0.000000</td>\n",
       "      <td>0.000000</td>\n",
       "      <td>0.000000</td>\n",
       "      <td>0.000000</td>\n",
       "      <td>0.00000</td>\n",
       "      <td>0.000000</td>\n",
       "      <td>0.000000</td>\n",
       "      <td>0.000000</td>\n",
       "    </tr>\n",
       "    <tr>\n",
       "      <th>75%</th>\n",
       "      <td>1.0</td>\n",
       "      <td>1.000000</td>\n",
       "      <td>1.000000</td>\n",
       "      <td>1.000000</td>\n",
       "      <td>1.000000</td>\n",
       "      <td>1.000000</td>\n",
       "      <td>1.000000</td>\n",
       "      <td>1.000000</td>\n",
       "      <td>1.00000</td>\n",
       "      <td>1.000000</td>\n",
       "      <td>1.000000</td>\n",
       "      <td>0.000000</td>\n",
       "    </tr>\n",
       "    <tr>\n",
       "      <th>max</th>\n",
       "      <td>1.0</td>\n",
       "      <td>1.000000</td>\n",
       "      <td>1.000000</td>\n",
       "      <td>1.000000</td>\n",
       "      <td>1.000000</td>\n",
       "      <td>1.000000</td>\n",
       "      <td>1.000000</td>\n",
       "      <td>1.000000</td>\n",
       "      <td>1.00000</td>\n",
       "      <td>1.000000</td>\n",
       "      <td>1.000000</td>\n",
       "      <td>1.000000</td>\n",
       "    </tr>\n",
       "  </tbody>\n",
       "</table>\n",
       "</div>"
      ],
      "text/plain": [
       "          null   Incentive_1   Incentive_2   Incentive_3   Incentive_4  \\\n",
       "count  10240.0  10240.000000  10240.000000  10240.000000  10240.000000   \n",
       "mean       1.0      0.298047      0.307227      0.300293      0.300684   \n",
       "std        0.0      0.457423      0.461367      0.458408      0.458578   \n",
       "min        1.0      0.000000      0.000000      0.000000      0.000000   \n",
       "25%        1.0      0.000000      0.000000      0.000000      0.000000   \n",
       "50%        1.0      0.000000      0.000000      0.000000      0.000000   \n",
       "75%        1.0      1.000000      1.000000      1.000000      1.000000   \n",
       "max        1.0      1.000000      1.000000      1.000000      1.000000   \n",
       "\n",
       "        Incentive_5   Incentive_6   Incentive_7  Incentive_8   Incentive_9  \\\n",
       "count  10240.000000  10240.000000  10240.000000  10240.00000  10240.000000   \n",
       "mean       0.292676      0.300684      0.294043      0.30000      0.300879   \n",
       "std        0.455013      0.458578      0.455634      0.45828      0.458663   \n",
       "min        0.000000      0.000000      0.000000      0.00000      0.000000   \n",
       "25%        0.000000      0.000000      0.000000      0.00000      0.000000   \n",
       "50%        0.000000      0.000000      0.000000      0.00000      0.000000   \n",
       "75%        1.000000      1.000000      1.000000      1.00000      1.000000   \n",
       "max        1.000000      1.000000      1.000000      1.00000      1.000000   \n",
       "\n",
       "       Incentive_10       outcome  \n",
       "count  10240.000000  10240.000000  \n",
       "mean       0.301367      0.123633  \n",
       "std        0.458874      0.329178  \n",
       "min        0.000000      0.000000  \n",
       "25%        0.000000      0.000000  \n",
       "50%        0.000000      0.000000  \n",
       "75%        1.000000      0.000000  \n",
       "max        1.000000      1.000000  "
      ]
     },
     "execution_count": 39,
     "metadata": {},
     "output_type": "execute_result"
    }
   ],
   "source": [
    "d2.describe()"
   ]
  },
  {
   "cell_type": "code",
   "execution_count": null,
   "id": "c43c972d",
   "metadata": {},
   "outputs": [],
   "source": []
  },
  {
   "cell_type": "code",
   "execution_count": 40,
   "id": "f57a9fe4",
   "metadata": {},
   "outputs": [
    {
     "data": {
      "image/png": "[encoded data removed]",
      "text/plain": [
       "<Figure size 640x480 with 1 Axes>"
      ]
     },
     "metadata": {},
     "output_type": "display_data"
    }
   ],
   "source": [
    "credible_intervals = np.array([attribution(d2, i, .9) for i in range(1,e+1)])\n",
    "for (i, (lo, mid, hi)),p in zip(enumerate(credible_intervals,1),\n",
    "                            probabilities[1:]):\n",
    "    m = '_'\n",
    "    plt.scatter(i, mid, c='red', marker=m)\n",
    "    plt.scatter(i, lo, c='blue', marker=m)\n",
    "    plt.scatter(i, hi, c='blue', marker=m)\n",
    "    plt.vlines(i, lo, hi, alpha=.5)\n",
    "    plt.scatter(i, p, c='green', marker='x')\n",
    "    \n",
    "plt.xlabel('Experiment')\n",
    "plt.ylabel('Estimated Independent Probability');"
   ]
  },
  {
   "cell_type": "code",
   "execution_count": 41,
   "id": "b80707be",
   "metadata": {},
   "outputs": [
    {
     "data": {
      "text/plain": [
       "array([0.03770337, 0.04749356, 0.03257685, 0.03122425, 0.03099919,\n",
       "       0.02457322, 0.01517045, 0.03026368, 0.01965459, 0.03032291,\n",
       "       0.04710875])"
      ]
     },
     "execution_count": 41,
     "metadata": {},
     "output_type": "execute_result"
    }
   ],
   "source": [
    "probabilities"
   ]
  },
  {
   "cell_type": "code",
   "execution_count": 42,
   "id": "2b4793e4",
   "metadata": {},
   "outputs": [
    {
     "data": {
      "text/plain": [
       "array([[ 0.02741479,  0.04600885,  0.06460058],\n",
       "       [ 0.00753495,  0.02594862,  0.04435404],\n",
       "       [-0.00017772,  0.018319  ,  0.03682397],\n",
       "       [ 0.01361545,  0.0321413 ,  0.05066737],\n",
       "       [ 0.00878878,  0.02743217,  0.04609291],\n",
       "       [-0.01040108,  0.00805492,  0.02652407],\n",
       "       [ 0.02356641,  0.04222566,  0.0608915 ],\n",
       "       [ 0.00159117,  0.02009755,  0.03861176],\n",
       "       [ 0.01710522,  0.0356345 ,  0.05416185],\n",
       "       [ 0.01365455,  0.03216949,  0.05068343]])"
      ]
     },
     "execution_count": 42,
     "metadata": {},
     "output_type": "execute_result"
    }
   ],
   "source": [
    "credible_intervals"
   ]
  },
  {
   "cell_type": "code",
   "execution_count": 43,
   "id": "f05647e0",
   "metadata": {},
   "outputs": [
    {
     "data": {
      "text/plain": [
       "array([0.04600885, 0.02594862, 0.018319  , 0.0321413 , 0.02743217,\n",
       "       0.00805492, 0.04222566, 0.02009755, 0.0356345 , 0.03216949])"
      ]
     },
     "execution_count": 43,
     "metadata": {},
     "output_type": "execute_result"
    }
   ],
   "source": [
    "median_ps = credible_intervals[:,1]\n",
    "median_ps"
   ]
  },
  {
   "cell_type": "code",
   "execution_count": 44,
   "id": "d95d0391",
   "metadata": {},
   "outputs": [
    {
     "data": {
      "text/html": [
       "<div>\n",
       "<style scoped>\n",
       "    .dataframe tbody tr th:only-of-type {\n",
       "        vertical-align: middle;\n",
       "    }\n",
       "\n",
       "    .dataframe tbody tr th {\n",
       "        vertical-align: top;\n",
       "    }\n",
       "\n",
       "    .dataframe thead th {\n",
       "        text-align: right;\n",
       "    }\n",
       "</style>\n",
       "<table border=\"1\" class=\"dataframe\">\n",
       "  <thead>\n",
       "    <tr style=\"text-align: right;\">\n",
       "      <th></th>\n",
       "      <th>null</th>\n",
       "      <th>Incentive_1</th>\n",
       "      <th>Incentive_2</th>\n",
       "      <th>Incentive_3</th>\n",
       "      <th>Incentive_4</th>\n",
       "      <th>Incentive_5</th>\n",
       "      <th>Incentive_6</th>\n",
       "      <th>Incentive_7</th>\n",
       "      <th>Incentive_8</th>\n",
       "      <th>Incentive_9</th>\n",
       "      <th>Incentive_10</th>\n",
       "      <th>outcome</th>\n",
       "    </tr>\n",
       "  </thead>\n",
       "  <tbody>\n",
       "    <tr>\n",
       "      <th>0</th>\n",
       "      <td>1.0</td>\n",
       "      <td>0</td>\n",
       "      <td>0</td>\n",
       "      <td>0</td>\n",
       "      <td>0</td>\n",
       "      <td>0</td>\n",
       "      <td>0</td>\n",
       "      <td>0</td>\n",
       "      <td>1</td>\n",
       "      <td>0</td>\n",
       "      <td>1</td>\n",
       "      <td>0</td>\n",
       "    </tr>\n",
       "    <tr>\n",
       "      <th>1</th>\n",
       "      <td>1.0</td>\n",
       "      <td>1</td>\n",
       "      <td>0</td>\n",
       "      <td>1</td>\n",
       "      <td>0</td>\n",
       "      <td>0</td>\n",
       "      <td>0</td>\n",
       "      <td>0</td>\n",
       "      <td>0</td>\n",
       "      <td>0</td>\n",
       "      <td>0</td>\n",
       "      <td>0</td>\n",
       "    </tr>\n",
       "    <tr>\n",
       "      <th>2</th>\n",
       "      <td>1.0</td>\n",
       "      <td>1</td>\n",
       "      <td>1</td>\n",
       "      <td>1</td>\n",
       "      <td>0</td>\n",
       "      <td>0</td>\n",
       "      <td>0</td>\n",
       "      <td>0</td>\n",
       "      <td>0</td>\n",
       "      <td>1</td>\n",
       "      <td>0</td>\n",
       "      <td>0</td>\n",
       "    </tr>\n",
       "    <tr>\n",
       "      <th>3</th>\n",
       "      <td>1.0</td>\n",
       "      <td>0</td>\n",
       "      <td>1</td>\n",
       "      <td>0</td>\n",
       "      <td>0</td>\n",
       "      <td>0</td>\n",
       "      <td>0</td>\n",
       "      <td>0</td>\n",
       "      <td>1</td>\n",
       "      <td>0</td>\n",
       "      <td>0</td>\n",
       "      <td>0</td>\n",
       "    </tr>\n",
       "    <tr>\n",
       "      <th>4</th>\n",
       "      <td>1.0</td>\n",
       "      <td>1</td>\n",
       "      <td>0</td>\n",
       "      <td>0</td>\n",
       "      <td>0</td>\n",
       "      <td>0</td>\n",
       "      <td>1</td>\n",
       "      <td>0</td>\n",
       "      <td>0</td>\n",
       "      <td>0</td>\n",
       "      <td>0</td>\n",
       "      <td>0</td>\n",
       "    </tr>\n",
       "    <tr>\n",
       "      <th>...</th>\n",
       "      <td>...</td>\n",
       "      <td>...</td>\n",
       "      <td>...</td>\n",
       "      <td>...</td>\n",
       "      <td>...</td>\n",
       "      <td>...</td>\n",
       "      <td>...</td>\n",
       "      <td>...</td>\n",
       "      <td>...</td>\n",
       "      <td>...</td>\n",
       "      <td>...</td>\n",
       "      <td>...</td>\n",
       "    </tr>\n",
       "    <tr>\n",
       "      <th>10235</th>\n",
       "      <td>1.0</td>\n",
       "      <td>0</td>\n",
       "      <td>0</td>\n",
       "      <td>0</td>\n",
       "      <td>1</td>\n",
       "      <td>0</td>\n",
       "      <td>0</td>\n",
       "      <td>1</td>\n",
       "      <td>1</td>\n",
       "      <td>0</td>\n",
       "      <td>0</td>\n",
       "      <td>1</td>\n",
       "    </tr>\n",
       "    <tr>\n",
       "      <th>10236</th>\n",
       "      <td>1.0</td>\n",
       "      <td>1</td>\n",
       "      <td>0</td>\n",
       "      <td>0</td>\n",
       "      <td>1</td>\n",
       "      <td>0</td>\n",
       "      <td>1</td>\n",
       "      <td>0</td>\n",
       "      <td>0</td>\n",
       "      <td>1</td>\n",
       "      <td>0</td>\n",
       "      <td>0</td>\n",
       "    </tr>\n",
       "    <tr>\n",
       "      <th>10237</th>\n",
       "      <td>1.0</td>\n",
       "      <td>0</td>\n",
       "      <td>0</td>\n",
       "      <td>0</td>\n",
       "      <td>0</td>\n",
       "      <td>0</td>\n",
       "      <td>0</td>\n",
       "      <td>0</td>\n",
       "      <td>1</td>\n",
       "      <td>0</td>\n",
       "      <td>0</td>\n",
       "      <td>0</td>\n",
       "    </tr>\n",
       "    <tr>\n",
       "      <th>10238</th>\n",
       "      <td>1.0</td>\n",
       "      <td>0</td>\n",
       "      <td>1</td>\n",
       "      <td>0</td>\n",
       "      <td>1</td>\n",
       "      <td>0</td>\n",
       "      <td>0</td>\n",
       "      <td>0</td>\n",
       "      <td>1</td>\n",
       "      <td>0</td>\n",
       "      <td>0</td>\n",
       "      <td>0</td>\n",
       "    </tr>\n",
       "    <tr>\n",
       "      <th>10239</th>\n",
       "      <td>1.0</td>\n",
       "      <td>0</td>\n",
       "      <td>1</td>\n",
       "      <td>0</td>\n",
       "      <td>0</td>\n",
       "      <td>0</td>\n",
       "      <td>0</td>\n",
       "      <td>0</td>\n",
       "      <td>1</td>\n",
       "      <td>0</td>\n",
       "      <td>0</td>\n",
       "      <td>0</td>\n",
       "    </tr>\n",
       "  </tbody>\n",
       "</table>\n",
       "<p>10240 rows × 12 columns</p>\n",
       "</div>"
      ],
      "text/plain": [
       "       null  Incentive_1  Incentive_2  Incentive_3  Incentive_4  Incentive_5  \\\n",
       "0       1.0            0            0            0            0            0   \n",
       "1       1.0            1            0            1            0            0   \n",
       "2       1.0            1            1            1            0            0   \n",
       "3       1.0            0            1            0            0            0   \n",
       "4       1.0            1            0            0            0            0   \n",
       "...     ...          ...          ...          ...          ...          ...   \n",
       "10235   1.0            0            0            0            1            0   \n",
       "10236   1.0            1            0            0            1            0   \n",
       "10237   1.0            0            0            0            0            0   \n",
       "10238   1.0            0            1            0            1            0   \n",
       "10239   1.0            0            1            0            0            0   \n",
       "\n",
       "       Incentive_6  Incentive_7  Incentive_8  Incentive_9  Incentive_10  \\\n",
       "0                0            0            1            0             1   \n",
       "1                0            0            0            0             0   \n",
       "2                0            0            0            1             0   \n",
       "3                0            0            1            0             0   \n",
       "4                1            0            0            0             0   \n",
       "...            ...          ...          ...          ...           ...   \n",
       "10235            0            1            1            0             0   \n",
       "10236            1            0            0            1             0   \n",
       "10237            0            0            1            0             0   \n",
       "10238            0            0            1            0             0   \n",
       "10239            0            0            1            0             0   \n",
       "\n",
       "       outcome  \n",
       "0            0  \n",
       "1            0  \n",
       "2            0  \n",
       "3            0  \n",
       "4            0  \n",
       "...        ...  \n",
       "10235        1  \n",
       "10236        0  \n",
       "10237        0  \n",
       "10238        0  \n",
       "10239        0  \n",
       "\n",
       "[10240 rows x 12 columns]"
      ]
     },
     "execution_count": 44,
     "metadata": {},
     "output_type": "execute_result"
    }
   ],
   "source": [
    "d2"
   ]
  },
  {
   "cell_type": "code",
   "execution_count": 45,
   "id": "1f693f4b",
   "metadata": {},
   "outputs": [
    {
     "data": {
      "text/plain": [
       "(849.287826503418, 1266)"
      ]
     },
     "execution_count": 45,
     "metadata": {},
     "output_type": "execute_result"
    }
   ],
   "source": [
    "predicted_without_null = (1-np.exp(\n",
    "    np.log(1-d2[[i for i in d2.columns if 'Incentive' in i]\n",
    "                              ]*median_ps).sum(axis=1))).sum()\n",
    "predicted_without_null\n",
    "\n",
    "actual_with_null = d2['outcome'].sum()\n",
    "predicted_without_null, actual_with_null"
   ]
  },
  {
   "cell_type": "code",
   "execution_count": 46,
   "id": "bde7a817",
   "metadata": {},
   "outputs": [
    {
     "data": {
      "text/plain": [
       "(0.08293826430697442, 0.1236328125)"
      ]
     },
     "execution_count": 46,
     "metadata": {},
     "output_type": "execute_result"
    }
   ],
   "source": [
    "without_null = beta(predicted_without_null, len(d2)-predicted_without_null)\n",
    "\n",
    "with_null = beta(actual_with_null, len(d2)-actual_with_null)\n",
    "without_null.mean(), with_null.mean()"
   ]
  },
  {
   "cell_type": "code",
   "execution_count": 47,
   "id": "4f270298",
   "metadata": {},
   "outputs": [
    {
     "data": {
      "text/plain": [
       "array([0.03381574, 0.0443765 , 0.05482605])"
      ]
     },
     "execution_count": 47,
     "metadata": {},
     "output_type": "execute_result"
    }
   ],
   "source": [
    "α = [.05, .5, .95]\n",
    "p_null_estimates = (1-(1-with_null.ppf(α))/(1-without_null.ppf(α[::-1])))\n",
    "p_null_estimates"
   ]
  },
  {
   "cell_type": "code",
   "execution_count": 48,
   "id": "4fdbed3b",
   "metadata": {},
   "outputs": [
    {
     "data": {
      "text/plain": [
       "array([0.03770337, 0.04749356, 0.03257685, 0.03122425, 0.03099919,\n",
       "       0.02457322, 0.01517045, 0.03026368, 0.01965459, 0.03032291,\n",
       "       0.04710875])"
      ]
     },
     "execution_count": 48,
     "metadata": {},
     "output_type": "execute_result"
    }
   ],
   "source": [
    "probabilities"
   ]
  },
  {
   "cell_type": "code",
   "execution_count": 49,
   "id": "deb7b65b",
   "metadata": {},
   "outputs": [
    {
     "data": {
      "image/png": "[encoded data removed]",
      "text/plain": [
       "<Figure size 640x480 with 1 Axes>"
      ]
     },
     "metadata": {},
     "output_type": "display_data"
    }
   ],
   "source": [
    "m = '_'\n",
    "lo, mid, hi = p_null_estimates\n",
    "plt.scatter(0, mid, c='red', marker=m)\n",
    "plt.scatter(0, lo, c='blue', marker=m)\n",
    "plt.scatter(0, hi, c='blue', marker=m)\n",
    "plt.vlines(0, lo, hi, alpha=.5)\n",
    "plt.scatter(0, probabilities[0], c='green', marker='x')\n",
    "\n",
    "credible_intervals = np.array([attribution(d2, i, .9) for i in range(1,e+1)])\n",
    "for (i, (lo, mid, hi)),p in zip(enumerate(credible_intervals,1),\n",
    "                            probabilities[1:]):\n",
    " \n",
    "    plt.scatter(i, mid, c='red', marker=m)\n",
    "    plt.scatter(i, lo, c='blue', marker=m)\n",
    "    plt.scatter(i, hi, c='blue', marker=m)\n",
    "    plt.vlines(i, lo, hi, alpha=.5)\n",
    "    plt.scatter(i, p, c='green', marker='x')\n",
    "    \n",
    "plt.xlabel('Experiment')\n",
    "plt.ylabel('Estimated Independent Probability');"
   ]
  },
  {
   "cell_type": "code",
   "execution_count": 50,
   "id": "e6830060",
   "metadata": {},
   "outputs": [
    {
     "data": {
      "text/plain": [
       "0.04437650213342359"
      ]
     },
     "execution_count": 50,
     "metadata": {},
     "output_type": "execute_result"
    }
   ],
   "source": [
    "p_null_estimates[1]"
   ]
  },
  {
   "cell_type": "code",
   "execution_count": 51,
   "id": "466a4cdf",
   "metadata": {},
   "outputs": [
    {
     "data": {
      "text/plain": [
       "array([0.04600885, 0.02594862, 0.018319  , 0.0321413 , 0.02743217,\n",
       "       0.00805492, 0.04222566, 0.02009755, 0.0356345 , 0.03216949])"
      ]
     },
     "execution_count": 51,
     "metadata": {},
     "output_type": "execute_result"
    }
   ],
   "source": [
    "credible_intervals[:,1]"
   ]
  },
  {
   "cell_type": "code",
   "execution_count": 52,
   "id": "2bcf78c0",
   "metadata": {},
   "outputs": [],
   "source": [
    "estimated_ps = np.hstack([p_null_estimates[1], credible_intervals[:,1]])"
   ]
  },
  {
   "cell_type": "code",
   "execution_count": 53,
   "id": "70f0e670",
   "metadata": {},
   "outputs": [
    {
     "data": {
      "text/plain": [
       "0        0.093706\n",
       "1        0.105044\n",
       "2        0.159331\n",
       "3        0.087881\n",
       "4        0.095687\n",
       "           ...   \n",
       "10235    0.131950\n",
       "10236    0.155942\n",
       "10237    0.063582\n",
       "10238    0.117198\n",
       "10239    0.087881\n",
       "Length: 10240, dtype: float64"
      ]
     },
     "execution_count": 53,
     "metadata": {},
     "output_type": "execute_result"
    }
   ],
   "source": [
    "1-np.exp(np.log(1-d2.iloc[:,:-1]*estimated_ps).sum(axis=1))"
   ]
  },
  {
   "cell_type": "code",
   "execution_count": 54,
   "id": "5656f5c8",
   "metadata": {},
   "outputs": [
    {
     "data": {
      "text/plain": [
       "1266.0147853049561"
      ]
     },
     "execution_count": 54,
     "metadata": {},
     "output_type": "execute_result"
    }
   ],
   "source": [
    "(1-np.exp(np.log(1-d2.iloc[:,:-1]*estimated_ps).sum(axis=1))).sum()"
   ]
  },
  {
   "cell_type": "code",
   "execution_count": 55,
   "id": "8e6618dd",
   "metadata": {},
   "outputs": [
    {
     "data": {
      "text/plain": [
       "1266"
      ]
     },
     "execution_count": 55,
     "metadata": {},
     "output_type": "execute_result"
    }
   ],
   "source": [
    "d2['outcome'].sum()"
   ]
  },
  {
   "cell_type": "code",
   "execution_count": 56,
   "id": "f6c19146",
   "metadata": {},
   "outputs": [],
   "source": [
    "N = 10000\n",
    "# cov = np.random.random((3,3))\n",
    "cov = np.eye(3)\n",
    "cov[0,-1] =cov[-1,0]= .4\n",
    "cov[1,1] = cov[1,1] = .3\n",
    "\n",
    "cov = cov*cov.T\n",
    "z = np.random.multivariate_normal(mean = [.4,.6,.8], cov=cov, size = N)\n",
    "z = 1*(z>.5)\n",
    "z = pd.DataFrame(z)\n",
    "z['null'] = 1\n",
    "\n",
    "ps = [.2, .03, .07, .005]\n",
    "z['outcome'] = bernoulli(1-np.exp(np.log(1-z*ps).sum(axis=1))).rvs()\n",
    "z.rename({0:'Incentive_0',\n",
    "         1:'Incentive_1',\n",
    "         2:'Incentive_2'}, axis=1, inplace=True)"
   ]
  },
  {
   "cell_type": "code",
   "execution_count": 57,
   "id": "ad964218",
   "metadata": {},
   "outputs": [
    {
     "data": {
      "text/html": [
       "<div>\n",
       "<style scoped>\n",
       "    .dataframe tbody tr th:only-of-type {\n",
       "        vertical-align: middle;\n",
       "    }\n",
       "\n",
       "    .dataframe tbody tr th {\n",
       "        vertical-align: top;\n",
       "    }\n",
       "\n",
       "    .dataframe thead th {\n",
       "        text-align: right;\n",
       "    }\n",
       "</style>\n",
       "<table border=\"1\" class=\"dataframe\">\n",
       "  <thead>\n",
       "    <tr style=\"text-align: right;\">\n",
       "      <th></th>\n",
       "      <th>Incentive_0</th>\n",
       "      <th>Incentive_1</th>\n",
       "      <th>Incentive_2</th>\n",
       "      <th>null</th>\n",
       "      <th>outcome</th>\n",
       "    </tr>\n",
       "  </thead>\n",
       "  <tbody>\n",
       "    <tr>\n",
       "      <th>0</th>\n",
       "      <td>0</td>\n",
       "      <td>0</td>\n",
       "      <td>1</td>\n",
       "      <td>1</td>\n",
       "      <td>0</td>\n",
       "    </tr>\n",
       "    <tr>\n",
       "      <th>1</th>\n",
       "      <td>1</td>\n",
       "      <td>0</td>\n",
       "      <td>1</td>\n",
       "      <td>1</td>\n",
       "      <td>0</td>\n",
       "    </tr>\n",
       "    <tr>\n",
       "      <th>2</th>\n",
       "      <td>0</td>\n",
       "      <td>0</td>\n",
       "      <td>1</td>\n",
       "      <td>1</td>\n",
       "      <td>0</td>\n",
       "    </tr>\n",
       "    <tr>\n",
       "      <th>3</th>\n",
       "      <td>0</td>\n",
       "      <td>1</td>\n",
       "      <td>0</td>\n",
       "      <td>1</td>\n",
       "      <td>0</td>\n",
       "    </tr>\n",
       "    <tr>\n",
       "      <th>4</th>\n",
       "      <td>1</td>\n",
       "      <td>1</td>\n",
       "      <td>1</td>\n",
       "      <td>1</td>\n",
       "      <td>1</td>\n",
       "    </tr>\n",
       "    <tr>\n",
       "      <th>...</th>\n",
       "      <td>...</td>\n",
       "      <td>...</td>\n",
       "      <td>...</td>\n",
       "      <td>...</td>\n",
       "      <td>...</td>\n",
       "    </tr>\n",
       "    <tr>\n",
       "      <th>9995</th>\n",
       "      <td>1</td>\n",
       "      <td>0</td>\n",
       "      <td>1</td>\n",
       "      <td>1</td>\n",
       "      <td>1</td>\n",
       "    </tr>\n",
       "    <tr>\n",
       "      <th>9996</th>\n",
       "      <td>1</td>\n",
       "      <td>1</td>\n",
       "      <td>1</td>\n",
       "      <td>1</td>\n",
       "      <td>0</td>\n",
       "    </tr>\n",
       "    <tr>\n",
       "      <th>9997</th>\n",
       "      <td>0</td>\n",
       "      <td>1</td>\n",
       "      <td>1</td>\n",
       "      <td>1</td>\n",
       "      <td>0</td>\n",
       "    </tr>\n",
       "    <tr>\n",
       "      <th>9998</th>\n",
       "      <td>0</td>\n",
       "      <td>0</td>\n",
       "      <td>1</td>\n",
       "      <td>1</td>\n",
       "      <td>0</td>\n",
       "    </tr>\n",
       "    <tr>\n",
       "      <th>9999</th>\n",
       "      <td>1</td>\n",
       "      <td>1</td>\n",
       "      <td>0</td>\n",
       "      <td>1</td>\n",
       "      <td>0</td>\n",
       "    </tr>\n",
       "  </tbody>\n",
       "</table>\n",
       "<p>10000 rows × 5 columns</p>\n",
       "</div>"
      ],
      "text/plain": [
       "      Incentive_0  Incentive_1  Incentive_2  null  outcome\n",
       "0               0            0            1     1        0\n",
       "1               1            0            1     1        0\n",
       "2               0            0            1     1        0\n",
       "3               0            1            0     1        0\n",
       "4               1            1            1     1        1\n",
       "...           ...          ...          ...   ...      ...\n",
       "9995            1            0            1     1        1\n",
       "9996            1            1            1     1        0\n",
       "9997            0            1            1     1        0\n",
       "9998            0            0            1     1        0\n",
       "9999            1            1            0     1        0\n",
       "\n",
       "[10000 rows x 5 columns]"
      ]
     },
     "execution_count": 57,
     "metadata": {},
     "output_type": "execute_result"
    }
   ],
   "source": [
    "z"
   ]
  },
  {
   "cell_type": "code",
   "execution_count": null,
   "id": "13f98df9",
   "metadata": {},
   "outputs": [],
   "source": []
  },
  {
   "cell_type": "code",
   "execution_count": 58,
   "id": "edaea61c",
   "metadata": {},
   "outputs": [
    {
     "name": "stdout",
     "output_type": "stream",
     "text": [
      "[[0.21176765 0.22755562 0.24311535]\n",
      " [0.0062013  0.0262113  0.04561144]\n",
      " [0.06539064 0.08338861 0.10089069]] [0.2, 0.03, 0.07]\n"
     ]
    },
    {
     "data": {
      "image/png": "[encoded data removed]",
      "text/plain": [
       "<Figure size 640x480 with 1 Axes>"
      ]
     },
     "metadata": {},
     "output_type": "display_data"
    }
   ],
   "source": [
    "credible_intervals = np.array([attribution(z, i, .9) for i in range(3)])\n",
    "print(credible_intervals,ps[:-1])\n",
    "for (i, (lo, mid, hi)),p in zip(enumerate(credible_intervals),\n",
    "                            ps[:-1]):\n",
    "    m = '_'\n",
    "    plt.scatter(i, mid, c='red', marker=m)\n",
    "    plt.scatter(i, lo, c='blue', marker=m)\n",
    "    plt.scatter(i, hi, c='blue', marker=m)\n",
    "    plt.vlines(i, lo, hi, alpha=.5)\n",
    "    plt.scatter(i, p, c='green', marker='x')\n",
    "    \n",
    "plt.xlabel('Experiment')\n",
    "plt.ylabel('Estimated Independent Probability');"
   ]
  },
  {
   "cell_type": "code",
   "execution_count": 59,
   "id": "54258861",
   "metadata": {},
   "outputs": [
    {
     "data": {
      "text/plain": [
       "array([0.22755562, 0.0262113 , 0.08338861])"
      ]
     },
     "execution_count": 59,
     "metadata": {},
     "output_type": "execute_result"
    }
   ],
   "source": [
    "credible_intervals[:,1]"
   ]
  },
  {
   "cell_type": "code",
   "execution_count": 60,
   "id": "7249c700",
   "metadata": {},
   "outputs": [
    {
     "data": {
      "text/plain": [
       "1646.3225039910758"
      ]
     },
     "execution_count": 60,
     "metadata": {},
     "output_type": "execute_result"
    }
   ],
   "source": [
    "predicited_without_null = (1-np.exp(np.log(1-z.iloc[:,:3]*credible_intervals[:,1]).sum(axis=1))).sum()\n",
    "predicited_without_null"
   ]
  },
  {
   "cell_type": "code",
   "execution_count": 61,
   "id": "2ea574f7",
   "metadata": {},
   "outputs": [
    {
     "data": {
      "text/plain": [
       "1565"
      ]
     },
     "execution_count": 61,
     "metadata": {},
     "output_type": "execute_result"
    }
   ],
   "source": [
    "z['outcome'].sum()"
   ]
  },
  {
   "cell_type": "code",
   "execution_count": 62,
   "id": "bb32ec4b",
   "metadata": {},
   "outputs": [
    {
     "data": {
      "text/plain": [
       "10000"
      ]
     },
     "execution_count": 62,
     "metadata": {},
     "output_type": "execute_result"
    }
   ],
   "source": [
    "len(z)"
   ]
  },
  {
   "cell_type": "code",
   "execution_count": 63,
   "id": "18a4e486",
   "metadata": {},
   "outputs": [
    {
     "data": {
      "text/plain": [
       "array([0.15857097, 0.16460989, 0.1707698 ])"
      ]
     },
     "execution_count": 63,
     "metadata": {},
     "output_type": "execute_result"
    }
   ],
   "source": [
    "aa = beta(predicited_without_null, len(z)-predicited_without_null).ppf([.05,.5,.95])\n",
    "aa"
   ]
  },
  {
   "cell_type": "code",
   "execution_count": 64,
   "id": "c6da460a",
   "metadata": {},
   "outputs": [
    {
     "data": {
      "text/plain": [
       "array([0.16251477, 0.1564771 , 0.15056334])"
      ]
     },
     "execution_count": 64,
     "metadata": {},
     "output_type": "execute_result"
    }
   ],
   "source": [
    "bb = beta(z['outcome'].sum(), (1-z['outcome']).sum()).ppf([.95,.5,.05])\n",
    "bb"
   ]
  },
  {
   "cell_type": "code",
   "execution_count": 65,
   "id": "dd73628b",
   "metadata": {},
   "outputs": [
    {
     "data": {
      "text/plain": [
       "array([-0.0047091 ,  0.00964146,  0.02378807])"
      ]
     },
     "execution_count": 65,
     "metadata": {},
     "output_type": "execute_result"
    }
   ],
   "source": [
    "1-(1-aa)/(1-bb)"
   ]
  },
  {
   "cell_type": "code",
   "execution_count": 66,
   "id": "6940274c",
   "metadata": {},
   "outputs": [
    {
     "data": {
      "text/plain": [
       "[0.2, 0.03, 0.07, 0.005]"
      ]
     },
     "execution_count": 66,
     "metadata": {},
     "output_type": "execute_result"
    }
   ],
   "source": [
    "ps"
   ]
  },
  {
   "cell_type": "code",
   "execution_count": 67,
   "id": "8996bb31",
   "metadata": {},
   "outputs": [
    {
     "data": {
      "text/plain": [
       "[array([0.0588094 , 0.57903126, 0.59240122, 0.5128092 , 0.58502693,\n",
       "        0.53643952, 0.5085542 , 0.58440225, 0.57917835, 0.55891484,\n",
       "        0.56554261]),\n",
       " array([0.06162935, 0.58727308, 0.57470853, 0.54933487, 0.54945245,\n",
       "        0.52989881, 0.51241827, 0.59416586, 0.54054494, 0.57159171,\n",
       "        0.56383323]),\n",
       " array([0.06682792, 0.58985245, 0.55393581, 0.55385819, 0.54705434,\n",
       "        0.55413792, 0.51545885, 0.56345085, 0.5487551 , 0.55639901,\n",
       "        0.55163961]),\n",
       " array([0.07030875, 0.57800139, 0.54080648, 0.53293943, 0.54226013,\n",
       "        0.56104437, 0.50425959, 0.57685458, 0.53134002, 0.55944821,\n",
       "        0.55879283]),\n",
       " array([0.06644202, 0.56735651, 0.55568562, 0.52208976, 0.55905783,\n",
       "        0.49262253, 0.53780856, 0.58088318, 0.53026897, 0.60577038,\n",
       "        0.56859882]),\n",
       " array([0.07476546, 0.59002882, 0.50930702, 0.51492791, 0.54602771,\n",
       "        0.55031118, 0.52145616, 0.5762078 , 0.53782085, 0.57142647,\n",
       "        0.54242321]),\n",
       " array([0.06992043, 0.57343443, 0.52984689, 0.51535712, 0.53536659,\n",
       "        0.54856025, 0.50651198, 0.61672195, 0.54214083, 0.56488327,\n",
       "        0.56542218]),\n",
       " array([0.06131015, 0.59741325, 0.58132991, 0.54779987, 0.58300054,\n",
       "        0.54045388, 0.50963844, 0.6035573 , 0.52712877, 0.56236913,\n",
       "        0.55663939]),\n",
       " array([0.06579956, 0.60769662, 0.53978645, 0.5327278 , 0.57454965,\n",
       "        0.53593994, 0.51351984, 0.59403151, 0.51476782, 0.57006338,\n",
       "        0.56457158]),\n",
       " array([0.06419763, 0.55466338, 0.54798267, 0.53802841, 0.57739428,\n",
       "        0.55499988, 0.51537532, 0.5860645 , 0.54229148, 0.55577288,\n",
       "        0.58356579]),\n",
       " array([0.05984876, 0.59110104, 0.54415997, 0.56788177, 0.55115709,\n",
       "        0.53846555, 0.51629926, 0.60219959, 0.54495256, 0.56730755,\n",
       "        0.5882627 ]),\n",
       " array([0.06609523, 0.58501125, 0.54313925, 0.51527523, 0.54073753,\n",
       "        0.57140059, 0.51249052, 0.55934216, 0.5418297 , 0.57594122,\n",
       "        0.58001388]),\n",
       " array([0.06202135, 0.58240251, 0.55917557, 0.54090984, 0.5484594 ,\n",
       "        0.56438492, 0.51832664, 0.60600754, 0.53601049, 0.56054918,\n",
       "        0.56630151]),\n",
       " array([0.06003597, 0.58047833, 0.56734626, 0.54230447, 0.57276036,\n",
       "        0.51822781, 0.51721329, 0.60245459, 0.55983045, 0.57030135,\n",
       "        0.56920012]),\n",
       " array([0.05881915, 0.60871149, 0.54841392, 0.52853104, 0.57084189,\n",
       "        0.53127817, 0.50305337, 0.60233412, 0.55123977, 0.57861841,\n",
       "        0.58326753]),\n",
       " array([0.06248613, 0.58012888, 0.5531349 , 0.50378319, 0.56668709,\n",
       "        0.56605122, 0.50866105, 0.61336441, 0.53157682, 0.55958618,\n",
       "        0.57494654]),\n",
       " array([0.06485014, 0.58161202, 0.52150499, 0.54424461, 0.52952757,\n",
       "        0.56920557, 0.52262707, 0.58930376, 0.54721763, 0.55477045,\n",
       "        0.55840977]),\n",
       " array([0.06248255, 0.61563192, 0.54563394, 0.5234535 , 0.54094914,\n",
       "        0.56788282, 0.52101161, 0.60172215, 0.53311916, 0.59956516,\n",
       "        0.5579018 ]),\n",
       " array([0.05996963, 0.59092919, 0.54761605, 0.50108385, 0.57215431,\n",
       "        0.56547259, 0.51583153, 0.59867562, 0.5457356 , 0.57569951,\n",
       "        0.56966648]),\n",
       " array([0.06309506, 0.62890351, 0.53513779, 0.53244989, 0.55669386,\n",
       "        0.56237565, 0.50952688, 0.58128154, 0.55024144, 0.57079147,\n",
       "        0.52596153]),\n",
       " array([0.06727294, 0.58934902, 0.54452188, 0.5341761 , 0.55602118,\n",
       "        0.53682429, 0.49789598, 0.57901328, 0.53472008, 0.57358571,\n",
       "        0.55263962]),\n",
       " array([0.06379769, 0.55656643, 0.55594492, 0.55625197, 0.56038126,\n",
       "        0.52747813, 0.53161461, 0.56783048, 0.5708003 , 0.54926372,\n",
       "        0.58121883]),\n",
       " array([0.06830385, 0.60506278, 0.53934771, 0.54178836, 0.56946792,\n",
       "        0.53632179, 0.5039581 , 0.57511123, 0.53637661, 0.56876399,\n",
       "        0.53444379]),\n",
       " array([0.07137956, 0.5712838 , 0.55349838, 0.54419144, 0.58815025,\n",
       "        0.5464198 , 0.50941951, 0.57947441, 0.51319784, 0.56577089,\n",
       "        0.52735372]),\n",
       " array([0.06529226, 0.60404808, 0.51380117, 0.53096675, 0.56463571,\n",
       "        0.53157533, 0.50591109, 0.5672781 , 0.55605126, 0.57906739,\n",
       "        0.56253549]),\n",
       " array([0.0600132 , 0.5778899 , 0.55498   , 0.57551644, 0.57308568,\n",
       "        0.57091   , 0.53973897, 0.57970841, 0.5234678 , 0.56654366,\n",
       "        0.55275706]),\n",
       " array([0.06542425, 0.5791214 , 0.53281409, 0.5278716 , 0.54961046,\n",
       "        0.56187025, 0.52437254, 0.57720784, 0.5609337 , 0.57983086,\n",
       "        0.5513784 ]),\n",
       " array([0.06130751, 0.58113827, 0.56933552, 0.54814346, 0.57447939,\n",
       "        0.5573861 , 0.51702035, 0.57760901, 0.54354505, 0.56663459,\n",
       "        0.56218308]),\n",
       " array([0.0571967 , 0.61315333, 0.56674119, 0.55459983, 0.56378348,\n",
       "        0.5476793 , 0.50498837, 0.57527222, 0.56690678, 0.57226941,\n",
       "        0.57298353]),\n",
       " array([0.05864421, 0.57585927, 0.57143607, 0.52335466, 0.56759966,\n",
       "        0.58842684, 0.53699613, 0.58314541, 0.54158383, 0.57973056,\n",
       "        0.55719485]),\n",
       " array([0.05903492, 0.59242841, 0.53620675, 0.54053844, 0.57429252,\n",
       "        0.56438538, 0.4981197 , 0.59127608, 0.53728699, 0.57451409,\n",
       "        0.58436053]),\n",
       " array([0.06708445, 0.56357657, 0.56290166, 0.4938046 , 0.56475189,\n",
       "        0.56579267, 0.5157424 , 0.56215435, 0.53811986, 0.57045493,\n",
       "        0.61037538]),\n",
       " array([0.07166057, 0.57061989, 0.56745166, 0.54311692, 0.53549604,\n",
       "        0.54180794, 0.49713506, 0.58280377, 0.53455409, 0.5683523 ,\n",
       "        0.55767635]),\n",
       " array([0.06428289, 0.59368439, 0.54150092, 0.52580602, 0.5257122 ,\n",
       "        0.55737976, 0.48906717, 0.61512035, 0.5548936 , 0.58596833,\n",
       "        0.56004191]),\n",
       " array([0.06678305, 0.6004187 , 0.5683454 , 0.52827784, 0.53085481,\n",
       "        0.5504847 , 0.50723695, 0.56768547, 0.5573593 , 0.55050199,\n",
       "        0.55724256]),\n",
       " array([0.06640751, 0.58632683, 0.50530361, 0.53485391, 0.57261152,\n",
       "        0.5311483 , 0.53188581, 0.5921697 , 0.55535588, 0.56026238,\n",
       "        0.56598553]),\n",
       " array([0.05852864, 0.58323762, 0.56271374, 0.55679635, 0.58265359,\n",
       "        0.51906712, 0.54025867, 0.58005841, 0.53525326, 0.57719015,\n",
       "        0.58326521]),\n",
       " array([0.06219308, 0.59250947, 0.54910322, 0.53997431, 0.56934757,\n",
       "        0.53149748, 0.48884919, 0.60856205, 0.54945554, 0.59953631,\n",
       "        0.56074622]),\n",
       " array([0.06481484, 0.5777989 , 0.54653436, 0.53399593, 0.55641105,\n",
       "        0.55993328, 0.5110648 , 0.60821888, 0.52373273, 0.58079319,\n",
       "        0.57168275]),\n",
       " array([0.06203584, 0.56165578, 0.57116105, 0.53284381, 0.59590115,\n",
       "        0.56560133, 0.49741448, 0.58371691, 0.55106934, 0.57568159,\n",
       "        0.56970593]),\n",
       " array([0.06741115, 0.60300521, 0.53850374, 0.53314484, 0.52707559,\n",
       "        0.57706436, 0.52906979, 0.56256615, 0.54000066, 0.58133945,\n",
       "        0.5651528 ]),\n",
       " array([0.06396732, 0.58903864, 0.54294235, 0.50564023, 0.57965512,\n",
       "        0.55450326, 0.53881961, 0.60611501, 0.53347209, 0.56093087,\n",
       "        0.56410269]),\n",
       " array([0.06358964, 0.59714263, 0.5511277 , 0.53155986, 0.57505679,\n",
       "        0.5417263 , 0.5158157 , 0.57696822, 0.52466473, 0.56728423,\n",
       "        0.56781779]),\n",
       " array([0.06279878, 0.5804094 , 0.54944114, 0.53037632, 0.55909601,\n",
       "        0.55677767, 0.50491626, 0.59479538, 0.55660507, 0.55470141,\n",
       "        0.58661852]),\n",
       " array([0.06498789, 0.57225092, 0.52139786, 0.52182676, 0.57234589,\n",
       "        0.56750743, 0.49917004, 0.59925928, 0.53116447, 0.56456899,\n",
       "        0.56732524]),\n",
       " array([0.0608112 , 0.59215878, 0.53370306, 0.53591984, 0.55255076,\n",
       "        0.54509827, 0.50697125, 0.59086067, 0.55106009, 0.58233679,\n",
       "        0.58638593]),\n",
       " array([0.06626491, 0.5914382 , 0.5574291 , 0.5112189 , 0.54657918,\n",
       "        0.56399178, 0.51526071, 0.57199913, 0.52370686, 0.55651075,\n",
       "        0.59454778]),\n",
       " array([0.06363633, 0.60061358, 0.54088334, 0.51955643, 0.56809455,\n",
       "        0.55944973, 0.52105215, 0.56788249, 0.53120085, 0.58417424,\n",
       "        0.55711659]),\n",
       " array([0.06115763, 0.60947522, 0.57373577, 0.54385357, 0.53943627,\n",
       "        0.54838015, 0.5051062 , 0.58227649, 0.56918306, 0.59053596,\n",
       "        0.54305637]),\n",
       " array([0.0605488 , 0.60979006, 0.53826073, 0.54522702, 0.56482626,\n",
       "        0.55632457, 0.51132269, 0.59494371, 0.57077674, 0.5693898 ,\n",
       "        0.54002445]),\n",
       " array([0.06919868, 0.58721179, 0.52187964, 0.49793485, 0.55191944,\n",
       "        0.58727829, 0.50232542, 0.59515812, 0.52459963, 0.59073271,\n",
       "        0.56881287]),\n",
       " array([0.06042678, 0.59001577, 0.56001522, 0.51810793, 0.57210804,\n",
       "        0.56417956, 0.49630852, 0.58221183, 0.56572967, 0.56945498,\n",
       "        0.60252679]),\n",
       " array([0.06582532, 0.61436324, 0.56572674, 0.54090258, 0.55210688,\n",
       "        0.55299588, 0.50671906, 0.59230485, 0.52493832, 0.56633389,\n",
       "        0.54461963]),\n",
       " array([0.06392474, 0.58764335, 0.52510005, 0.53695316, 0.56916204,\n",
       "        0.5687472 , 0.52007459, 0.59282001, 0.53463373, 0.55589878,\n",
       "        0.57262432]),\n",
       " array([0.06702437, 0.58598005, 0.56079595, 0.5148976 , 0.56243781,\n",
       "        0.55463809, 0.50606947, 0.57503673, 0.52233867, 0.59994822,\n",
       "        0.57690894]),\n",
       " array([0.05873139, 0.6073571 , 0.55171207, 0.53205077, 0.54482077,\n",
       "        0.52231775, 0.51583666, 0.58327146, 0.5530881 , 0.61077898,\n",
       "        0.57431037]),\n",
       " array([0.06592938, 0.58754616, 0.56451225, 0.54228814, 0.55989843,\n",
       "        0.56709692, 0.504142  , 0.53852105, 0.54591326, 0.53888777,\n",
       "        0.57374779]),\n",
       " array([0.06027359, 0.61829106, 0.53353328, 0.51565333, 0.55862479,\n",
       "        0.53173023, 0.51643233, 0.56407214, 0.53168267, 0.59756565,\n",
       "        0.59234647]),\n",
       " array([0.0674007 , 0.56714074, 0.53446061, 0.52022836, 0.5950696 ,\n",
       "        0.55395432, 0.52768732, 0.57165667, 0.52495348, 0.56860516,\n",
       "        0.55942226]),\n",
       " array([0.0575845 , 0.58232073, 0.54297075, 0.54690985, 0.57199851,\n",
       "        0.57952906, 0.49317171, 0.59857351, 0.55713703, 0.59047666,\n",
       "        0.56632674]),\n",
       " array([0.07171141, 0.57679575, 0.54840154, 0.51758986, 0.55430226,\n",
       "        0.56596145, 0.4997349 , 0.58555701, 0.51332287, 0.5711713 ,\n",
       "        0.52928969]),\n",
       " array([0.05863818, 0.59043985, 0.54368417, 0.54311518, 0.5672018 ,\n",
       "        0.55047565, 0.50942513, 0.5908304 , 0.54489706, 0.60742942,\n",
       "        0.55932125]),\n",
       " array([0.05893949, 0.60509251, 0.54017914, 0.55749077, 0.55869259,\n",
       "        0.58173595, 0.53459691, 0.57725318, 0.5175202 , 0.59187858,\n",
       "        0.56164923]),\n",
       " array([0.0620043 , 0.61095333, 0.55237888, 0.52195175, 0.56737149,\n",
       "        0.55284814, 0.52397342, 0.58853161, 0.53923219, 0.56198214,\n",
       "        0.56525931]),\n",
       " array([0.07399973, 0.56370492, 0.54190941, 0.51908343, 0.58899611,\n",
       "        0.56098341, 0.47454297, 0.60353202, 0.50726671, 0.56510215,\n",
       "        0.52886331]),\n",
       " array([0.06454473, 0.5935377 , 0.54461842, 0.52081278, 0.5417138 ,\n",
       "        0.56422677, 0.54015699, 0.5641644 , 0.54585789, 0.56974567,\n",
       "        0.56525121]),\n",
       " array([0.06316625, 0.59993276, 0.56413171, 0.55659561, 0.571218  ,\n",
       "        0.51937559, 0.51113843, 0.57988046, 0.54456073, 0.54196922,\n",
       "        0.57582876]),\n",
       " array([0.06912659, 0.59404196, 0.55478414, 0.53208233, 0.5516139 ,\n",
       "        0.55100752, 0.47560205, 0.57425578, 0.51157925, 0.58729265,\n",
       "        0.55202919]),\n",
       " array([0.06351032, 0.60167166, 0.55325784, 0.51443289, 0.58102452,\n",
       "        0.55678255, 0.52528782, 0.59133847, 0.53376461, 0.56608819,\n",
       "        0.55822177]),\n",
       " array([0.06606124, 0.58952872, 0.55434715, 0.53201929, 0.58487025,\n",
       "        0.53101809, 0.49859822, 0.5889774 , 0.54427694, 0.54712972,\n",
       "        0.59390199]),\n",
       " array([0.06938153, 0.61953475, 0.52196749, 0.53218895, 0.54846336,\n",
       "        0.54870394, 0.48901747, 0.57938429, 0.52332282, 0.55689341,\n",
       "        0.56913793]),\n",
       " array([0.06586625, 0.57256512, 0.56280342, 0.52801332, 0.55532812,\n",
       "        0.54128963, 0.51669346, 0.58126992, 0.54379208, 0.5778696 ,\n",
       "        0.55429813]),\n",
       " array([0.05780618, 0.5890274 , 0.54184765, 0.54836041, 0.58261474,\n",
       "        0.56779465, 0.52006323, 0.59802105, 0.55276784, 0.57856467,\n",
       "        0.5723477 ]),\n",
       " array([0.06448586, 0.6064152 , 0.54852345, 0.52046332, 0.55621485,\n",
       "        0.56556079, 0.49837055, 0.58736234, 0.54915467, 0.57274044,\n",
       "        0.58250281]),\n",
       " array([0.06321081, 0.5836797 , 0.58676379, 0.52694596, 0.56519526,\n",
       "        0.55349826, 0.511971  , 0.55928422, 0.55625338, 0.57936902,\n",
       "        0.57349773]),\n",
       " array([0.05842805, 0.57218401, 0.55791056, 0.51219219, 0.59115034,\n",
       "        0.56259903, 0.51425875, 0.57144139, 0.54349979, 0.56960174,\n",
       "        0.59796847]),\n",
       " array([0.07089317, 0.59431295, 0.53885595, 0.54523073, 0.54756871,\n",
       "        0.53300345, 0.49525206, 0.59696705, 0.54466082, 0.57814653,\n",
       "        0.55285571]),\n",
       " array([0.06976884, 0.59956034, 0.53845422, 0.54868434, 0.54720324,\n",
       "        0.54719453, 0.50824801, 0.59378947, 0.53628214, 0.57772666,\n",
       "        0.54775153]),\n",
       " array([0.06271314, 0.57710559, 0.54676023, 0.53332541, 0.5670137 ,\n",
       "        0.55896727, 0.47274644, 0.58194085, 0.53800871, 0.59578239,\n",
       "        0.57457679]),\n",
       " array([0.07048291, 0.58350845, 0.53825381, 0.52792245, 0.54752401,\n",
       "        0.53731233, 0.5033236 , 0.60038335, 0.51949625, 0.56974111,\n",
       "        0.54990854]),\n",
       " array([0.07224556, 0.5894963 , 0.54155528, 0.51557876, 0.55268092,\n",
       "        0.52522967, 0.49604053, 0.58314682, 0.53941368, 0.5913228 ,\n",
       "        0.55832622]),\n",
       " array([0.07363525, 0.56630481, 0.54381501, 0.55513083, 0.55197662,\n",
       "        0.55953988, 0.516201  , 0.56620584, 0.53786519, 0.53872368,\n",
       "        0.56785879]),\n",
       " array([0.06417525, 0.61525048, 0.52653604, 0.52153858, 0.59289635,\n",
       "        0.52900101, 0.49894308, 0.58675541, 0.53540122, 0.56963464,\n",
       "        0.57837843]),\n",
       " array([0.06725015, 0.57153144, 0.54207874, 0.52871403, 0.56591426,\n",
       "        0.56055062, 0.52241676, 0.57850478, 0.54153803, 0.56704143,\n",
       "        0.57703511]),\n",
       " array([0.06795669, 0.60890286, 0.5671087 , 0.51927966, 0.54906464,\n",
       "        0.55866296, 0.48021658, 0.54740397, 0.58327699, 0.57741918,\n",
       "        0.52505932]),\n",
       " array([0.07153555, 0.60608175, 0.53760461, 0.53378783, 0.5409586 ,\n",
       "        0.55381211, 0.48290695, 0.5923431 , 0.5324592 , 0.57620664,\n",
       "        0.54642762]),\n",
       " array([0.06660911, 0.57508865, 0.57109539, 0.54570807, 0.55455151,\n",
       "        0.54065875, 0.50842969, 0.54864266, 0.52952221, 0.56739081,\n",
       "        0.5625106 ]),\n",
       " array([0.05200648, 0.60457992, 0.54308733, 0.57019839, 0.59627541,\n",
       "        0.57712688, 0.5403932 , 0.57517119, 0.55149208, 0.57011757,\n",
       "        0.57899714]),\n",
       " array([0.06111355, 0.610345  , 0.58487002, 0.53454363, 0.53903948,\n",
       "        0.54607061, 0.49630728, 0.57930467, 0.55627377, 0.594632  ,\n",
       "        0.57243948]),\n",
       " array([0.06329849, 0.58685685, 0.54942427, 0.52890273, 0.55473512,\n",
       "        0.54404151, 0.53308549, 0.56704068, 0.5307287 , 0.58118959,\n",
       "        0.58099275]),\n",
       " array([0.07146523, 0.59118378, 0.5296286 , 0.53584907, 0.5641314 ,\n",
       "        0.52434137, 0.47969585, 0.59948013, 0.523276  , 0.55498591,\n",
       "        0.56495124]),\n",
       " array([0.06149153, 0.59289064, 0.55142737, 0.52076477, 0.58668993,\n",
       "        0.55027067, 0.52428374, 0.58621369, 0.53513999, 0.55796526,\n",
       "        0.58762475]),\n",
       " array([0.06353171, 0.58909828, 0.56827287, 0.5230693 , 0.57458325,\n",
       "        0.53408293, 0.53099468, 0.58310921, 0.54387632, 0.55410753,\n",
       "        0.54501378]),\n",
       " array([0.06054721, 0.57830303, 0.5877517 , 0.51907325, 0.58069676,\n",
       "        0.56288647, 0.5040125 , 0.57946272, 0.51464551, 0.60507595,\n",
       "        0.56145028]),\n",
       " array([0.064325  , 0.58396627, 0.51397456, 0.52437722, 0.59478916,\n",
       "        0.56563894, 0.51393826, 0.59233203, 0.55252343, 0.58442679,\n",
       "        0.54404038]),\n",
       " array([0.0613927 , 0.61724874, 0.55032658, 0.54674584, 0.57153212,\n",
       "        0.54670874, 0.51325758, 0.60276602, 0.52784106, 0.57018498,\n",
       "        0.5533081 ]),\n",
       " array([0.06033619, 0.60651265, 0.54170181, 0.54125126, 0.54632222,\n",
       "        0.58417926, 0.53375372, 0.56481723, 0.52584995, 0.57951524,\n",
       "        0.57228613]),\n",
       " array([0.06501944, 0.61072955, 0.5504801 , 0.53383456, 0.56500878,\n",
       "        0.5299865 , 0.49961476, 0.59764579, 0.54167746, 0.55842539,\n",
       "        0.58847294]),\n",
       " array([0.06061058, 0.59721905, 0.55836475, 0.53658605, 0.56420851,\n",
       "        0.55697348, 0.53575126, 0.58798771, 0.53517644, 0.5795384 ,\n",
       "        0.57903582]),\n",
       " array([0.06050695, 0.58291796, 0.54142874, 0.52988088, 0.56386512,\n",
       "        0.55809141, 0.50950054, 0.59200105, 0.53513978, 0.59673656,\n",
       "        0.5683856 ])]"
      ]
     },
     "execution_count": 67,
     "metadata": {},
     "output_type": "execute_result"
    }
   ],
   "source": [
    "coefs = []\n",
    "for _ in range(100):\n",
    "    d3 = d2.sample(frac=1, replace=True)\n",
    "    cs = LR(fit_intercept=False, penalty=None).fit(d3.iloc[:,:-1], d3.iloc[:,-1]).coef_\n",
    "    coefs.append(1/(1+np.exp(-cs))[0])\n",
    "coefs"
   ]
  },
  {
   "cell_type": "code",
   "execution_count": 68,
   "id": "ea76ec19",
   "metadata": {},
   "outputs": [
    {
     "data": {
      "text/plain": [
       "(100, 11)"
      ]
     },
     "execution_count": 68,
     "metadata": {},
     "output_type": "execute_result"
    }
   ],
   "source": [
    "coefs = np.array(coefs)\n",
    "coefs.shape"
   ]
  },
  {
   "cell_type": "code",
   "execution_count": 69,
   "id": "9e6c76ad",
   "metadata": {},
   "outputs": [
    {
     "data": {
      "image/png": "[encoded data removed]",
      "text/plain": [
       "<Figure size 600x2000 with 11 Axes>"
      ]
     },
     "metadata": {},
     "output_type": "display_data"
    }
   ],
   "source": [
    "fig, axs = plt.subplots(coefs.shape[1], figsize=(6,20))\n",
    "for i, ax in zip(range(coefs.shape[1]), axs):\n",
    "    ax.hist(coefs[:,i])\n",
    "    ax.axvline(probabilities[i])\n",
    "    "
   ]
  },
  {
   "cell_type": "code",
   "execution_count": null,
   "id": "a0aa8b35",
   "metadata": {},
   "outputs": [],
   "source": []
  }
 ],
 "metadata": {
  "kernelspec": {
   "display_name": "Python 3 (ipykernel)",
   "language": "python",
   "name": "python3"
  },
  "language_info": {
   "codemirror_mode": {
    "name": "ipython",
    "version": 3
   },
   "file_extension": ".py",
   "mimetype": "text/x-python",
   "name": "python",
   "nbconvert_exporter": "python",
   "pygments_lexer": "ipython3",
   "version": "3.10.9"
  }
 },
 "nbformat": 4,
 "nbformat_minor": 5
}
