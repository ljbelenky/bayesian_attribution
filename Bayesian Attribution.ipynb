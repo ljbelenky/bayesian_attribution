{
 "cells": [
  {
   "cell_type": "code",
   "execution_count": 1,
   "id": "f5ad9933",
   "metadata": {},
   "outputs": [],
   "source": [
    "import pandas as pd\n",
    "import numpy as np\n",
    "import matplotlib.pyplot as plt\n",
    "from scipy.stats import beta\n",
    "np.random.seed(2)"
   ]
  },
  {
   "cell_type": "markdown",
   "id": "cc0deaad",
   "metadata": {
    "slideshow": {
     "slide_type": "slide"
    }
   },
   "source": [
    "# Bayesian Attribution\n",
    "\n",
    "### Distinguishing between \"because of\" and \"in the presences of'\n",
    "\n",
    "## Problem Statement:\n",
    "\n",
    "We want to incentivize members to do a certain action (e.g, complete a telehealth session).\n",
    "We offer a range of incentives and would like to assess the effectiveness of each program.\n",
    "\n",
    "Some members will convert without any incentive (spontaneous of baseline conversion).\n",
    "Many members will be offered more than one incentive."
   ]
  },
  {
   "cell_type": "markdown",
   "id": "a01de2a9",
   "metadata": {
    "slideshow": {
     "slide_type": "slide"
    }
   },
   "source": [
    "## Four Types of Incentives or Promoting Factors:\n",
    "\n",
    "#### 1. Direct Incentives - Things we do intentionally\n",
    "\n",
    "* The member is offered cash to convert. \n",
    "* We send them a reminder email. \n",
    "* We put the link at the top of their homepage.\n",
    "\n",
    "#### 2. Contributing Factors - Things we know about but have no control over.\n",
    "\n",
    "* The member is a parent of young children. \n",
    "* The member had surgery within the last year. \n",
    "* The member has met their deductible for the year.\n",
    "\n",
    "#### 3. Interaction Factors - Combinations of incentives and factors that work well together.\n",
    "\n",
    "* The member is a mother AND received a Mother's Day promotion\n",
    "* The member uses an Android phone AND received promotional message X.\n",
    "\n",
    "#### 4. Baseline Factors - Everything Else\n",
    "\n",
    "* The member already knew about our services and decided to use it on their own\n",
    "* All other factors that we don't know about.\n",
    "* All factors that we do know about but elected not to include in our model"
   ]
  },
  {
   "cell_type": "markdown",
   "id": "0f75378b",
   "metadata": {
    "slideshow": {
     "slide_type": "slide"
    }
   },
   "source": [
    "## Challenges:\n",
    "\n",
    "### Getting a 'clean' read.\n",
    "\n",
    "Ideally, we would have one group that received Incentive A and nothing else, and another that received Incentive B and nothing else, etc.\n",
    "Realistically, most members will receive multple direct incentives and have multiple contributing factors outside of our control.\n",
    "\n",
    "There are no members who aren't subject to spontaneous conversion, so we have no direct way to do a WITH/WITHOUT comparison on baseline."
   ]
  },
  {
   "cell_type": "markdown",
   "id": "cabf7c22",
   "metadata": {
    "slideshow": {
     "slide_type": "slide"
    }
   },
   "source": [
    "## Procedure\n",
    "\n",
    "Each incentive or factor has a fixed probability $P_i$ of causing conversion.\n",
    "\n",
    "Each member has a vector with a $0$ for each incentive/factor they do not have and a $1$ for those they do have.\n",
    "\n",
    "For convenience, we also include a 'NULL' value of $1$ for every member to account for the baseline that is true for everyone.\n",
    "\n",
    "We mark the outcome as $0$ if they did not complete the desired outcome and $1$ if they did.\n",
    "\n",
    "For example:\n",
    "* member $1$ has factors A,B and E and had a positive outcome\n",
    "* member $2$ has factors B, C and D and did not convert\n",
    "* member $3$ has facotres A and C and did convert"
   ]
  },
  {
   "cell_type": "code",
   "execution_count": 2,
   "id": "40e45697",
   "metadata": {
    "slideshow": {
     "slide_type": "slide"
    }
   },
   "outputs": [
    {
     "data": {
      "text/html": [
       "<div>\n",
       "<style scoped>\n",
       "    .dataframe tbody tr th:only-of-type {\n",
       "        vertical-align: middle;\n",
       "    }\n",
       "\n",
       "    .dataframe tbody tr th {\n",
       "        vertical-align: top;\n",
       "    }\n",
       "\n",
       "    .dataframe thead th {\n",
       "        text-align: right;\n",
       "    }\n",
       "</style>\n",
       "<table border=\"1\" class=\"dataframe\">\n",
       "  <thead>\n",
       "    <tr style=\"text-align: right;\">\n",
       "      <th></th>\n",
       "      <th>null</th>\n",
       "      <th>A</th>\n",
       "      <th>B</th>\n",
       "      <th>C</th>\n",
       "      <th>D</th>\n",
       "      <th>E</th>\n",
       "      <th>outcome</th>\n",
       "    </tr>\n",
       "  </thead>\n",
       "  <tbody>\n",
       "    <tr>\n",
       "      <th>Member_1</th>\n",
       "      <td>1</td>\n",
       "      <td>1</td>\n",
       "      <td>1</td>\n",
       "      <td>0</td>\n",
       "      <td>0</td>\n",
       "      <td>1</td>\n",
       "      <td>1</td>\n",
       "    </tr>\n",
       "    <tr>\n",
       "      <th>Member_2</th>\n",
       "      <td>1</td>\n",
       "      <td>0</td>\n",
       "      <td>1</td>\n",
       "      <td>1</td>\n",
       "      <td>1</td>\n",
       "      <td>0</td>\n",
       "      <td>0</td>\n",
       "    </tr>\n",
       "    <tr>\n",
       "      <th>Member_3</th>\n",
       "      <td>1</td>\n",
       "      <td>1</td>\n",
       "      <td>0</td>\n",
       "      <td>1</td>\n",
       "      <td>0</td>\n",
       "      <td>0</td>\n",
       "      <td>1</td>\n",
       "    </tr>\n",
       "  </tbody>\n",
       "</table>\n",
       "</div>"
      ],
      "text/plain": [
       "          null  A  B  C  D  E  outcome\n",
       "Member_1     1  1  1  0  0  1        1\n",
       "Member_2     1  0  1  1  1  0        0\n",
       "Member_3     1  1  0  1  0  0        1"
      ]
     },
     "execution_count": 2,
     "metadata": {},
     "output_type": "execute_result"
    }
   ],
   "source": [
    "df = pd.DataFrame(dtype=int, columns = ['null','A','B','C','D','E','outcome'])\n",
    "df.loc['Member_1'] = (1,1,1,0,0,1,1)\n",
    "df.loc['Member_2'] = (1,0,1,1,1,0,0)\n",
    "df.loc['Member_3'] = (1,1,0,1,0,0,1)\n",
    "df=df.astype(int)\n",
    "df"
   ]
  },
  {
   "cell_type": "markdown",
   "id": "2b95b82e",
   "metadata": {
    "slideshow": {
     "slide_type": "slide"
    }
   },
   "source": [
    "## Additive Probability\n",
    "\n",
    "Unfortunately, probabilites do not add simply. \n",
    "If a member is offered $4$ incentives that are each known to be $30\\%$ effective, they don't have a $120\\%$ probability of conversion.\n",
    "\n",
    "Probabilities add \"in the negative\". That is, you add up all the things that don't happen and what is left over is what does happen.\n",
    "\n",
    "### The probability that a member will convert when presented with several incentives is one minus the probability that they will *not* convert due to all of the incentives.\n",
    "\n",
    "If $P_i$ is the probability of conversion due to factor $i$, then $(1-P_i)$ is the probability of not converting due to that factor.\n",
    "\n",
    "$P_{total}$ is the probability of converting due to a combination of factors\n",
    "\n",
    "$$P_{total} = 1 -\\underbrace {(1-P_{null})}_\\text {Doesn't spontaneously convert}\\cdot \\underbrace {(1-P_A)}_\\text {Doesn't convert because of A}\\cdot \\underbrace {(1-P_B)}_\\text {Doesn't convert because of B}\\cdot \\underbrace {(1-P_C)}_\\text {Doesn't conver becaues of C}...$$\n",
    "\n",
    "Therefore, the conversion rate if offered $4$ incentives at $30\\%$ each is:\n",
    "\n",
    "$$P_{total} = 1 - (1-.3)\\cdot (1-.3)\\cdot (1-.3)\\cdot (1-.3)$$\n",
    "\n",
    "$$P_{total} = 1 - (.7)\\cdot (.7)\\cdot (.7)\\cdot (.7) = 76\\%$$\n"
   ]
  },
  {
   "cell_type": "markdown",
   "id": "a32905a9",
   "metadata": {
    "slideshow": {
     "slide_type": "slide"
    }
   },
   "source": [
    "To account for factors that the member does/does not have, we raise each factor to $0$ or $1$ indicating presence or absence of a factor.\n",
    "\n",
    "\n",
    "$$\\large P_{total} = 1 - (1-P_A)^{X_A}\\cdot (1-P_B)^{X_B}\\cdot (1-P_C)^{X_C}\\cdot (1-P_D)^{X_D}\\cdot(1-P_E)^{X_E}...$$\n",
    "\n",
    "\n",
    "$$\\large P_{total} = 1 - \\prod_{i=A,B,C,D,E...}(1-P_i)^{X_i}$$\n",
    "\n",
    "This may be simplified by using the logarithm rule and representing $[X_A, X_B, X_C]$ as $\\vec X$ (and the same for $\\vec P$\n",
    "\n",
    "$$\\large P_{total} = 1-e^{\\vec X \\cdot {ln(1-\\vec P)}}$$\n",
    "\n"
   ]
  },
  {
   "cell_type": "markdown",
   "id": "8b475f3f",
   "metadata": {
    "slideshow": {
     "slide_type": "slide"
    }
   },
   "source": [
    "### This gives us the ability to distinguish between conversion *because of* a factor vs. conversion *with a factor* \n",
    "\n",
    "$$\\large \\underbrace {P_\\text{(A and other factors)}}_\\text {conversion with A and other factors} = 1 - \\underbrace {(1-P_A)}_\\text {due to A alone}\\cdot \\underbrace {\\prod_{i\\ne A}(1-P_i)^{X_i}}_\\text {conversion due to all factors execpt A}$$\n",
    "\n",
    "$$ $$\n",
    "\n",
    "Rearrange to isolate $P_A$:\n",
    "\n",
    "$$\\large \\underbrace {P_{A}}_\\text{because of A} = 1-\\frac{1-P_\\text{(with A)}}{1-P_\\text{(without A)}}$$\n",
    "\n",
    "#### Note: For a first approximation, we assume that $X_i$ is independent of $A$. That is to say, the presence of factors *B,C,D,E, etc* are distributed the same for people with factor *A* and those without it.  (We will correct for this later)\n",
    "\n",
    "$\\large P_\\text{(with A)}$ and $\\large P_\\text{(without A)}$ can be read directly from our results table, e.g:\n",
    "```SQL\n",
    "\n",
    "SELECT\n",
    "    A,\n",
    "    AVERAGE(OUTCOME) \n",
    "FROM results\n",
    "GROUP BY A\n",
    "```"
   ]
  },
  {
   "cell_type": "markdown",
   "id": "f95961c8",
   "metadata": {
    "slideshow": {
     "slide_type": "slide"
    }
   },
   "source": [
    "## The Bayesian Part\n",
    "\n",
    "$$\\large P_{A} = 1-\\frac{1-P_\\text{(A=1)}}{1-P_\\text{(A=0)}}$$\n",
    "\n",
    "However, as we learned last time, $P$ is not just a single value. Estimates of $\\hat P$ are distributed over a range of values in the vicinity of true $P$.\n",
    "\n",
    "So we replace $\\hat P$ (a point estimate) with $\\beta$, a distrbution of values and take the Expectation Value.\n",
    "\n",
    "$$\\large P_{A} = 1- \\frac{1-E( {\\beta (a_{with}, b_{with})})}{1- E(\\beta (a_{without}, b_{without}))}$$\n",
    "\n",
    "The values $a$ and $b$ correspond to number of successes and number of failures and can be read directly from the results table:\n",
    "\n",
    "```SQL\n",
    "\n",
    "SELECT\n",
    "    A,\n",
    "    OUTCOME,\n",
    "    COUNT(*)\n",
    "FROM\n",
    "    RESULTS\n",
    "GROUP BY A, OUTCOME\n",
    "```\n"
   ]
  },
  {
   "cell_type": "markdown",
   "id": "5ca561a2",
   "metadata": {
    "slideshow": {
     "slide_type": "slide"
    }
   },
   "source": [
    "## Procedure:\n",
    "\n",
    "### Step 1: First Approximation for each identifiable cause:\n",
    "\n",
    "For each factor (or incentive):\n",
    "* Use the GROUP BY logic to obtain counts of success and failure for WITH and WITHOUT groupings.\n",
    "* Use the formula above to calculate a point estimate $\\hat P$ for BECAUSE\n",
    "* Use the number of observations ($N$) from the WITH group to estimate:\n",
    "$$\\large a_{because} = \\hat P_A \\cdot N_{A}$$\n",
    "$$\\large b_{because} = (1-\\hat P_A) \\cdot N_{A}$$\n",
    "\n",
    "We now have a distribution estimate for each factor: \n",
    "$$\\large P_i = \\beta \\left (N_i\\cdot \\left (1- \\frac{1-E[{\\beta (a_{with}, b_{with})}]}{1- E[\\beta (a_{without}, b_{without})]}\\right ), N_i \\cdot \\left (\\frac{1-E[ {\\beta (a_{with}, b_{with})}]}{1- E[\\beta (a_{without}, b_{without})]}\\right )\\right )$$"
   ]
  },
  {
   "cell_type": "markdown",
   "id": "e27def8a",
   "metadata": {
    "slideshow": {
     "slide_type": "slide"
    }
   },
   "source": [
    "### Step 2:\n",
    "\n",
    "Tally up the total effect of all of these *known* causes:\n",
    "\n",
    "$$\\text {Conversions due to known incentives} = \\large \\sum_i P = \\sum_i 1- e^{\\vec X_i \\cdot ln(1-\\vec P_i)}$$\n",
    "\n",
    "Generally, this value will be different than the total number of conversions observed.\n",
    "The difference is the number of *spontaneous* conversions, or (e.g, conversions due to causes that cannot be independently assessed)\n",
    "\n",
    "We again apply the WITH/WITHOUT/BECAUSE equation:\n",
    "\n",
    "$$\\Large P_{spontaneous} = 1 - \\frac {1- P_\\text {all causes}}{1- P_\\text{ known causes}}$$"
   ]
  },
  {
   "cell_type": "markdown",
   "id": "347ede68",
   "metadata": {
    "slideshow": {
     "slide_type": "slide"
    }
   },
   "source": [
    "### Step 3: (Optional)\n",
    "\n",
    "We now know every incentive that every member was offered *and* the estimates of their effectiveness.\n",
    "\n",
    "Therefore, we don't need to assume (as we did previously) identical distribtuion of incentives when doing the WITH/WITHOUT analysis.\n",
    "\n",
    "We can repeate Step 1 using estimates of $P$ for all factors rather than coarse GROUP BY statements.\n"
   ]
  },
  {
   "cell_type": "code",
   "execution_count": null,
   "id": "bfc45a9f",
   "metadata": {
    "slideshow": {
     "slide_type": "skip"
    }
   },
   "outputs": [],
   "source": []
  },
  {
   "cell_type": "code",
   "execution_count": 3,
   "id": "0e2e3ad1",
   "metadata": {
    "slideshow": {
     "slide_type": "skip"
    }
   },
   "outputs": [
    {
     "data": {
      "image/png": "[encoded data removed]",
      "text/plain": [
       "<Figure size 640x480 with 1 Axes>"
      ]
     },
     "metadata": {},
     "output_type": "display_data"
    }
   ],
   "source": [
    "x = np.linspace(0,1,1000)\n",
    "[plt.plot(x, beta(3*i,7*i).pdf(x), color='green', label=f'{i*10} Observations' ) for i in (1,10,30)]\n",
    "plt.title('Estimates of P for a process with 30% conversion rate \\n with different numbers of observations')\n",
    "plt.legend()\n",
    "plt.xlabel('Estimated value of P')\n",
    "plt.ylabel('Likelihood');"
   ]
  },
  {
   "cell_type": "markdown",
   "id": "13512520",
   "metadata": {
    "slideshow": {
     "slide_type": "slide"
    }
   },
   "source": [
    "# Let's look at some experimental data.\n",
    "\n",
    "### 160,000 Members received between 0 and 5 Incentives (plus the null incentive)\n",
    "\n",
    "Since I created this data myself, I happen to know the *true* effectiveness of all the incentives.\n",
    "* Spontanous conversion = 5%\n",
    "* Incentives 1-5: (11%, 18%, 8%, 15%, 21%)\n",
    "\n",
    "(Naturally we wouldn't know this in the real world)\n"
   ]
  },
  {
   "cell_type": "code",
   "execution_count": 138,
   "id": "d680e4d6",
   "metadata": {
    "slideshow": {
     "slide_type": "slide"
    }
   },
   "outputs": [
    {
     "data": {
      "text/html": [
       "<div>\n",
       "<style scoped>\n",
       "    .dataframe tbody tr th:only-of-type {\n",
       "        vertical-align: middle;\n",
       "    }\n",
       "\n",
       "    .dataframe tbody tr th {\n",
       "        vertical-align: top;\n",
       "    }\n",
       "\n",
       "    .dataframe thead th {\n",
       "        text-align: right;\n",
       "    }\n",
       "</style>\n",
       "<table border=\"1\" class=\"dataframe\">\n",
       "  <thead>\n",
       "    <tr style=\"text-align: right;\">\n",
       "      <th></th>\n",
       "      <th>null</th>\n",
       "      <th>Incentive_1</th>\n",
       "      <th>Incentive_2</th>\n",
       "      <th>Incentive_3</th>\n",
       "      <th>Incentive_4</th>\n",
       "      <th>Incentive_5</th>\n",
       "      <th>outcome</th>\n",
       "    </tr>\n",
       "  </thead>\n",
       "  <tbody>\n",
       "    <tr>\n",
       "      <th>0</th>\n",
       "      <td>1</td>\n",
       "      <td>0</td>\n",
       "      <td>0</td>\n",
       "      <td>0</td>\n",
       "      <td>1</td>\n",
       "      <td>1</td>\n",
       "      <td>0</td>\n",
       "    </tr>\n",
       "    <tr>\n",
       "      <th>1</th>\n",
       "      <td>1</td>\n",
       "      <td>0</td>\n",
       "      <td>0</td>\n",
       "      <td>0</td>\n",
       "      <td>0</td>\n",
       "      <td>1</td>\n",
       "      <td>0</td>\n",
       "    </tr>\n",
       "    <tr>\n",
       "      <th>2</th>\n",
       "      <td>1</td>\n",
       "      <td>0</td>\n",
       "      <td>0</td>\n",
       "      <td>0</td>\n",
       "      <td>0</td>\n",
       "      <td>0</td>\n",
       "      <td>0</td>\n",
       "    </tr>\n",
       "    <tr>\n",
       "      <th>3</th>\n",
       "      <td>1</td>\n",
       "      <td>0</td>\n",
       "      <td>0</td>\n",
       "      <td>1</td>\n",
       "      <td>1</td>\n",
       "      <td>1</td>\n",
       "      <td>0</td>\n",
       "    </tr>\n",
       "    <tr>\n",
       "      <th>4</th>\n",
       "      <td>1</td>\n",
       "      <td>0</td>\n",
       "      <td>0</td>\n",
       "      <td>0</td>\n",
       "      <td>1</td>\n",
       "      <td>0</td>\n",
       "      <td>0</td>\n",
       "    </tr>\n",
       "    <tr>\n",
       "      <th>...</th>\n",
       "      <td>...</td>\n",
       "      <td>...</td>\n",
       "      <td>...</td>\n",
       "      <td>...</td>\n",
       "      <td>...</td>\n",
       "      <td>...</td>\n",
       "      <td>...</td>\n",
       "    </tr>\n",
       "    <tr>\n",
       "      <th>63995</th>\n",
       "      <td>1</td>\n",
       "      <td>0</td>\n",
       "      <td>1</td>\n",
       "      <td>0</td>\n",
       "      <td>0</td>\n",
       "      <td>1</td>\n",
       "      <td>0</td>\n",
       "    </tr>\n",
       "    <tr>\n",
       "      <th>63996</th>\n",
       "      <td>1</td>\n",
       "      <td>0</td>\n",
       "      <td>0</td>\n",
       "      <td>0</td>\n",
       "      <td>1</td>\n",
       "      <td>1</td>\n",
       "      <td>0</td>\n",
       "    </tr>\n",
       "    <tr>\n",
       "      <th>63997</th>\n",
       "      <td>1</td>\n",
       "      <td>0</td>\n",
       "      <td>0</td>\n",
       "      <td>0</td>\n",
       "      <td>1</td>\n",
       "      <td>0</td>\n",
       "      <td>0</td>\n",
       "    </tr>\n",
       "    <tr>\n",
       "      <th>63998</th>\n",
       "      <td>1</td>\n",
       "      <td>0</td>\n",
       "      <td>0</td>\n",
       "      <td>0</td>\n",
       "      <td>1</td>\n",
       "      <td>1</td>\n",
       "      <td>1</td>\n",
       "    </tr>\n",
       "    <tr>\n",
       "      <th>63999</th>\n",
       "      <td>1</td>\n",
       "      <td>0</td>\n",
       "      <td>0</td>\n",
       "      <td>0</td>\n",
       "      <td>0</td>\n",
       "      <td>1</td>\n",
       "      <td>1</td>\n",
       "    </tr>\n",
       "  </tbody>\n",
       "</table>\n",
       "<p>64000 rows × 7 columns</p>\n",
       "</div>"
      ],
      "text/plain": [
       "       null  Incentive_1  Incentive_2  Incentive_3  Incentive_4  Incentive_5  \\\n",
       "0         1            0            0            0            1            1   \n",
       "1         1            0            0            0            0            1   \n",
       "2         1            0            0            0            0            0   \n",
       "3         1            0            0            1            1            1   \n",
       "4         1            0            0            0            1            0   \n",
       "...     ...          ...          ...          ...          ...          ...   \n",
       "63995     1            0            1            0            0            1   \n",
       "63996     1            0            0            0            1            1   \n",
       "63997     1            0            0            0            1            0   \n",
       "63998     1            0            0            0            1            1   \n",
       "63999     1            0            0            0            0            1   \n",
       "\n",
       "       outcome  \n",
       "0            0  \n",
       "1            0  \n",
       "2            0  \n",
       "3            0  \n",
       "4            0  \n",
       "...        ...  \n",
       "63995        0  \n",
       "63996        0  \n",
       "63997        0  \n",
       "63998        1  \n",
       "63999        1  \n",
       "\n",
       "[64000 rows x 7 columns]"
      ]
     },
     "execution_count": 138,
     "metadata": {},
     "output_type": "execute_result"
    }
   ],
   "source": [
    "df = pd.read_csv('results_data2.csv')\n",
    "df"
   ]
  },
  {
   "cell_type": "code",
   "execution_count": 139,
   "id": "3fafc5bd",
   "metadata": {
    "slideshow": {
     "slide_type": "skip"
    }
   },
   "outputs": [
    {
     "data": {
      "text/plain": [
       "null           1.000000\n",
       "Incentive_1    0.031250\n",
       "Incentive_2    0.118156\n",
       "Incentive_3    0.269578\n",
       "Incentive_4    0.479766\n",
       "Incentive_5    0.751609\n",
       "outcome        0.293328\n",
       "Name: mean, dtype: float64"
      ]
     },
     "execution_count": 139,
     "metadata": {},
     "output_type": "execute_result"
    }
   ],
   "source": [
    "# Note that some incentives occur far more often than others and some are more effective than others\n",
    "df.describe().loc['mean']"
   ]
  },
  {
   "cell_type": "code",
   "execution_count": 140,
   "id": "110cd7fb",
   "metadata": {
    "slideshow": {
     "slide_type": "skip"
    }
   },
   "outputs": [],
   "source": [
    "## The \"true\" effectiveness of the incentives.\n",
    "## In application, these values are not known in advance.\n",
    "\n",
    "true = np.array([0.05, 0.11, 0.18, 0.08, 0.15, 0.21])"
   ]
  },
  {
   "cell_type": "code",
   "execution_count": 141,
   "id": "3490344c",
   "metadata": {
    "slideshow": {
     "slide_type": "skip"
    }
   },
   "outputs": [
    {
     "data": {
      "text/plain": [
       "Incentive_1  outcome\n",
       "0            0          43946\n",
       "             1          18054\n",
       "1            0           1281\n",
       "             1            719\n",
       "Name: null, dtype: int64"
      ]
     },
     "execution_count": 141,
     "metadata": {},
     "output_type": "execute_result"
    }
   ],
   "source": [
    "df.groupby(['Incentive_1','outcome']).sum()['null']"
   ]
  },
  {
   "cell_type": "code",
   "execution_count": 142,
   "id": "e814ebcd",
   "metadata": {
    "slideshow": {
     "slide_type": "slide"
    }
   },
   "outputs": [
    {
     "data": {
      "image/png": "[encoded data removed]",
      "text/plain": [
       "<Figure size 640x480 with 1 Axes>"
      ]
     },
     "metadata": {},
     "output_type": "display_data"
    }
   ],
   "source": [
    "estimated_probabilities = {}\n",
    "for i in (1,2,3,4,5):\n",
    "    (without_b,\n",
    "     without_a,\n",
    "     with_b,\n",
    "     with_a) = df.groupby([f'Incentive_{i}','outcome']).sum()['null'].values\n",
    "    with_=beta(with_a, with_b)\n",
    "    without_=beta(without_a, without_b)\n",
    "    P = 1-(1-with_.mean())/(1-without_.mean())\n",
    "    N = df[f'Incentive_{i}'].sum()\n",
    "    because_a = P*N\n",
    "    because_b = (1-P)*N\n",
    "    because = beta(because_a,because_b)\n",
    "    estimated_probabilities[i] = because.mean()\n",
    "\n",
    "    plt.plot(x, because.pdf(x), label = f'Incentive_{i}: {100*because.mean():.1f}%')\n",
    "plt.xlim([0,.25])\n",
    "plt.legend(loc=[1.1,0])\n",
    "[plt.axvline(i, color='orange', alpha=.85) for i in true[1:]]\n",
    "plt.title('First approximation of $P_i$ for known incentives \\n Known true values in orange');"
   ]
  },
  {
   "cell_type": "code",
   "execution_count": 143,
   "id": "34d7bac7",
   "metadata": {},
   "outputs": [
    {
     "data": {
      "text/plain": [
       "({1: 0.09636827014972915,\n",
       "  2: 0.18694216861806934,\n",
       "  3: 0.08516016432188023,\n",
       "  4: 0.1487649272371211,\n",
       "  5: 0.20878647090111013},\n",
       " array([0.11, 0.18, 0.08, 0.15, 0.21]))"
      ]
     },
     "execution_count": 143,
     "metadata": {},
     "output_type": "execute_result"
    }
   ],
   "source": [
    "estimated_probabilities, true[1:]"
   ]
  },
  {
   "cell_type": "markdown",
   "id": "8edc86b9",
   "metadata": {
    "slideshow": {
     "slide_type": "slide"
    }
   },
   "source": [
    "## Use these values to tally how many conversions are expected due to these *known* causes"
   ]
  },
  {
   "cell_type": "code",
   "execution_count": 144,
   "id": "719e9511",
   "metadata": {
    "slideshow": {
     "slide_type": "subslide"
    }
   },
   "outputs": [
    {
     "data": {
      "text/plain": [
       "16268.915133218085"
      ]
     },
     "execution_count": 144,
     "metadata": {},
     "output_type": "execute_result"
    }
   ],
   "source": [
    "expected_conversions_from_known_causes = (1-np.exp(np.log(1-df.iloc[:,1:-1]*\n",
    "                                                          estimated_probabilities.values()).sum(axis=1))).sum()\n",
    "\n",
    "expected_conversions_from_known_causes"
   ]
  },
  {
   "cell_type": "markdown",
   "id": "906ef709",
   "metadata": {
    "slideshow": {
     "slide_type": "slide"
    }
   },
   "source": [
    "## Compare to actual conversions from all causes (including spontaneous)"
   ]
  },
  {
   "cell_type": "code",
   "execution_count": 145,
   "id": "b22313b8",
   "metadata": {
    "slideshow": {
     "slide_type": "subslide"
    }
   },
   "outputs": [
    {
     "name": "stdout",
     "output_type": "stream",
     "text": [
      "Actual conversions: 18773 \n",
      "Expected conversions: 16268.915133218085\n"
     ]
    }
   ],
   "source": [
    "print(f'''Actual conversions: {df['outcome'].sum()} \n",
    "Expected conversions: {expected_conversions_from_known_causes}''')"
   ]
  },
  {
   "cell_type": "code",
   "execution_count": 146,
   "id": "6ca56a2a",
   "metadata": {
    "slideshow": {
     "slide_type": "slide"
    }
   },
   "outputs": [
    {
     "data": {
      "image/png": "[encoded data removed]",
      "text/plain": [
       "<Figure size 640x480 with 1 Axes>"
      ]
     },
     "metadata": {},
     "output_type": "display_data"
    }
   ],
   "source": [
    "spontaneous = 1 - (1-beta(df['outcome'].sum(), len(df)-df['outcome'].sum()).mean())/(1-beta(expected_conversions_from_known_causes.sum(),len(df)-expected_conversions_from_known_causes.sum()).mean())\n",
    "spontaneous= beta(len(df)*spontaneous, len(df)*(1-spontaneous))\n",
    "plt.plot(x, spontaneous.pdf(x), label=f'Spontaneous: {100*spontaneous.mean():.1f}%');\n",
    "spontaneous.interval(.9)\n",
    "\n",
    "for i in (1,2,3,4,5):\n",
    "    (without_b,\n",
    "     without_a,\n",
    "     with_b,\n",
    "     with_a) = df.groupby([f'Incentive_{i}','outcome']).sum()['null'].values\n",
    "    with_=beta(with_a, with_b)\n",
    "    without_=beta(without_a, without_b)\n",
    "    P = 1-(1-with_.mean())/(1-without_.mean())\n",
    "    N = df[f'Incentive_{i}'].sum()\n",
    "    because_a = P*N\n",
    "    because_b = (1-P)*N\n",
    "    because = beta(because_a,because_b)\n",
    "    \n",
    "\n",
    "    plt.plot(x, because.pdf(x), label = f'Incentive_{i}: {100*because.mean():.1f}%')\n",
    "plt.xlim([0,.25])\n",
    "plt.legend(loc=[1.1,0])\n",
    "[plt.axvline(i, color='orange', alpha=.85) for i in true]\n",
    "plt.title('$P_i$ (Spontaneous and identified)\\n Known true values in orange');"
   ]
  },
  {
   "cell_type": "code",
   "execution_count": 147,
   "id": "ad749d43",
   "metadata": {},
   "outputs": [
    {
     "data": {
      "text/plain": [
       "array([0.05246235, 0.09636827, 0.18694217, 0.08516016, 0.14876493,\n",
       "       0.20878647])"
      ]
     },
     "execution_count": 147,
     "metadata": {},
     "output_type": "execute_result"
    }
   ],
   "source": [
    "estimated_probabilities[0] = spontaneous.mean()\n",
    "estimated = np.array([estimated_probabilities[i] for i in range(len(estimated_probabilities))])\n",
    "estimated"
   ]
  },
  {
   "cell_type": "code",
   "execution_count": 27,
   "id": "989e2e4c",
   "metadata": {},
   "outputs": [
    {
     "data": {
      "text/plain": [
       "11068.703015430237"
      ]
     },
     "execution_count": 27,
     "metadata": {},
     "output_type": "execute_result"
    }
   ],
   "source": [
    "f=1\n",
    "(1-np.exp(np.log(1-(df.iloc[:,:-1]*estimated).drop(f'Incentive_{f}',axis=1)).sum(axis=1))).sum()"
   ]
  },
  {
   "cell_type": "code",
   "execution_count": 28,
   "id": "cff223c0",
   "metadata": {},
   "outputs": [
    {
     "name": "stdout",
     "output_type": "stream",
     "text": [
      "with 391 565 0.4089958158995816\n",
      "0.09646735490921976 0.0960732794082747 0.09\n",
      "with 1620 2226 0.42121684867394693\n",
      "0.12603588938408694 0.12738830912291432 0.13\n",
      "with 3692 4839 0.43277458680107844\n",
      "0.1696473788444678 0.17098627197494298 0.17\n",
      "with 6489 8761 0.42550819672131146\n",
      "0.20538912428422518 0.20491891852030042 0.21\n",
      "with 9458 14420 0.3960968255297764\n",
      "0.23966802308988422 0.2396293094799955 0.25\n"
     ]
    },
    {
     "data": {
      "image/png": "[encoded data removed]",
      "text/plain": [
       "<Figure size 640x480 with 1 Axes>"
      ]
     },
     "metadata": {},
     "output_type": "display_data"
    }
   ],
   "source": [
    "plt.plot(x, spontaneous.pdf(x), label=f'Spontaneous {spontaneous.mean()}')\n",
    "plt.axvline(true[0], color='red')\n",
    "\n",
    "for i in (1,2,3,4,5):\n",
    "    subset = df[df[f'Incentive_{i}']==1]\n",
    "    \n",
    "    with_ = beta(subset['outcome'].sum(), (1-subset['outcome']).sum())\n",
    "    print('with',subset['outcome'].sum(), (1-subset['outcome']).sum(), with_.mean())\n",
    "    other_factors = (1-subset.iloc[:,:-1]*estimated).drop(f'Incentive_{i}',axis=1)\n",
    "#     print(other_factors)\n",
    "    predicted = (1-np.exp(np.log(other_factors).sum(axis=1))).sum()\n",
    "    \n",
    "    without_ = beta(predicted, len(subset)-predicted)\n",
    "#     print('predicted',predicted,len(subset)-predicted, without_.mean())\n",
    "    p = 1-(1-with_.mean())/(1-without_.mean())\n",
    "#     print('because',p, true[i], len(subset))\n",
    "#     print('a ',p*len(subset), ' b ',(1-p)*len(subset))\n",
    "    new_estimate = beta(p*len(subset),(1-p)*len(subset))\n",
    "    plt.plot(x, new_estimate.pdf(x))\n",
    "    print(estimated_probabilities[i],new_estimate.mean(), true[i])\n",
    "    plt.axvline(true[i], color='red')\n",
    "#     plt.axvline(estimated_probabilities[i])\n",
    "plt.xlim([0,.3]);"
   ]
  },
  {
   "cell_type": "code",
   "execution_count": 29,
   "id": "846783db",
   "metadata": {},
   "outputs": [
    {
     "data": {
      "text/plain": [
       "0.923076923076923"
      ]
     },
     "execution_count": 29,
     "metadata": {},
     "output_type": "execute_result"
    }
   ],
   "source": [
    ".6/.65"
   ]
  },
  {
   "cell_type": "code",
   "execution_count": 30,
   "id": "35c622b8",
   "metadata": {},
   "outputs": [
    {
     "data": {
      "text/plain": [
       "133428    0.528906\n",
       "21058     0.253823\n",
       "153630    0.286012\n",
       "158858    0.286012\n",
       "101206    0.432658\n",
       "            ...   \n",
       "9791      0.060953\n",
       "40607     0.347868\n",
       "43935     0.407139\n",
       "27912     0.458501\n",
       "20810     0.528906\n",
       "Length: 32000, dtype: float64"
      ]
     },
     "execution_count": 30,
     "metadata": {},
     "output_type": "execute_result"
    }
   ],
   "source": [
    "second_estimate = 1-np.exp((np.log(1-df.iloc[:,:-1]*estimated)).sum(axis=1))\n",
    "second_estimate"
   ]
  },
  {
   "cell_type": "code",
   "execution_count": null,
   "id": "5a6a9b40",
   "metadata": {},
   "outputs": [],
   "source": [
    "estimated_probabilities = {}\n",
    "plt.plot(x, spontaneous.pdf(x), label=f'Spontaneous {spontaneous.mean()} ')\n",
    "for i in (1,2,3,4,5):\n",
    "    without_b = (1-second_estimate[df[f'Incentive_{i}']==0]).sum()\n",
    "    without_a = second_estimate[df[f'Incentive_{i}']==0].sum()\n",
    "    with_b = (1-second_estimate[df[f'Incentive_{i}']==1]).sum()\n",
    "    with_a = second_estimate[df[f'Incentive_{i}']==1].sum()\n",
    "    with_=beta(with_a, with_b)\n",
    "    without_=beta(without_a, without_b)\n",
    "    P = 1-(1-with_.mean())/(1-without_.mean())\n",
    "    N = df[f'Incentive_{i}'].sum()\n",
    "    because_a = P*N\n",
    "    because_b = (1-P)*N\n",
    "    because = beta(because_a,because_b)\n",
    "    estimated_probabilities[i] = because.mean()\n",
    "\n",
    "    plt.plot(x, because.pdf(x), label = f'Incentive_{i}: {because.mean()}')\n",
    "plt.xlim([0,.4])\n",
    "plt.legend(loc=[1.1,0])\n",
    "[plt.axvline(i, color='orange', alpha=.5) for i in true];"
   ]
  },
  {
   "cell_type": "code",
   "execution_count": null,
   "id": "81122d4a",
   "metadata": {},
   "outputs": [],
   "source": []
  },
  {
   "cell_type": "code",
   "execution_count": null,
   "id": "45dde177",
   "metadata": {},
   "outputs": [],
   "source": []
  },
  {
   "cell_type": "code",
   "execution_count": null,
   "id": "2332fc4e",
   "metadata": {},
   "outputs": [],
   "source": []
  },
  {
   "cell_type": "code",
   "execution_count": null,
   "id": "59cc6a05",
   "metadata": {},
   "outputs": [],
   "source": [
    "def get_a(dist):\n",
    "    return ((dist.mean()*(1-dist.mean())/(dist.var())-1)*dist.mean())\n",
    "def get_b(dist):\n",
    "    return ((dist.mean()*(1-dist.mean()))/(dist.var())-1)*(1-dist.mean())"
   ]
  },
  {
   "cell_type": "code",
   "execution_count": null,
   "id": "280fd2b6",
   "metadata": {},
   "outputs": [],
   "source": [
    "get_a(without_), get_b(without_), get_a(with_), get_b(with_)"
   ]
  },
  {
   "cell_type": "code",
   "execution_count": null,
   "id": "b45289a9",
   "metadata": {},
   "outputs": [],
   "source": [
    "1-(1-with_.mean())/(1-without_.mean())"
   ]
  },
  {
   "cell_type": "code",
   "execution_count": null,
   "id": "ea849ef6",
   "metadata": {},
   "outputs": [],
   "source": [
    "with_.mean(), without_.mean()"
   ]
  },
  {
   "cell_type": "code",
   "execution_count": null,
   "id": "8c59bc6c",
   "metadata": {},
   "outputs": [],
   "source": [
    "1-(1-with_.ppf([.19/2,.5,1-.19/2]))/(1-without_.ppf([.19/2, .5, 1-.19/2]))"
   ]
  },
  {
   "cell_type": "code",
   "execution_count": null,
   "id": "ad573585",
   "metadata": {},
   "outputs": [],
   "source": [
    "A = 1-(1-with_.mean())/(1-without_.mean())\n",
    "A"
   ]
  },
  {
   "cell_type": "code",
   "execution_count": null,
   "id": "e8179c6f",
   "metadata": {},
   "outputs": [],
   "source": [
    "plt.plot(x,beta(A*30, (1-A)*30).pdf(x))\n",
    "[plt.axvline(i) for i in 1-(1-with_.ppf([.19/2,.5,1-.19/2]))/(1-without_.ppf([.19/2, .5, 1-.19/2]))]\n",
    "plt.axvline(A, color='red')"
   ]
  },
  {
   "cell_type": "code",
   "execution_count": null,
   "id": "1a3c1fc1",
   "metadata": {},
   "outputs": [],
   "source": [
    "plt.plot(x,[(with_.interval(i)[1]-with_.interval(i)[0]) for i in x])\n",
    "plt.ylabel('Credible Interval')\n",
    "plt.xlabel('credibility')\n",
    "plt.axhline(with_.var()**.5)\n",
    "plt.axhline(with_.var(), color='red')\n",
    "# plt.xlim([.3,.4])\n",
    "# plt.ylim([0,.2])\n",
    "plt.axvline(1/np.e)"
   ]
  },
  {
   "cell_type": "code",
   "execution_count": null,
   "id": "d20752f9",
   "metadata": {},
   "outputs": [],
   "source": [
    "1/np.exp(1)"
   ]
  },
  {
   "cell_type": "code",
   "execution_count": null,
   "id": "c76ed003",
   "metadata": {},
   "outputs": [],
   "source": [
    ".5-1/(2*np.e)"
   ]
  },
  {
   "cell_type": "code",
   "execution_count": null,
   "id": "43579dca",
   "metadata": {},
   "outputs": [],
   "source": [
    ".5+1/(2*np.e)"
   ]
  },
  {
   "cell_type": "code",
   "execution_count": null,
   "id": "813f30b4",
   "metadata": {},
   "outputs": [],
   "source": [
    "(with_.ppf(.5+1/(2*np.e))- with_.ppf(.5-1/(2*np.e)))**2"
   ]
  },
  {
   "cell_type": "code",
   "execution_count": null,
   "id": "b3981ee5",
   "metadata": {},
   "outputs": [],
   "source": [
    "with_.var()"
   ]
  },
  {
   "cell_type": "code",
   "execution_count": null,
   "id": "82d980aa",
   "metadata": {},
   "outputs": [],
   "source": [
    "lo = .5-1/(2*np.e)\n",
    "hi = .5+1/(2*np.e)\n",
    "lo, hi"
   ]
  },
  {
   "cell_type": "code",
   "execution_count": null,
   "id": "3fa7db9c",
   "metadata": {},
   "outputs": [],
   "source": [
    "with_.ppf(hi),with_.ppf(lo)"
   ]
  },
  {
   "cell_type": "code",
   "execution_count": null,
   "id": "040aa2fa",
   "metadata": {},
   "outputs": [],
   "source": [
    "plt.plot(x,with_.pdf(x))\n",
    "[plt.axvline(with_.ppf(i)) for i in (hi,lo)]"
   ]
  },
  {
   "cell_type": "code",
   "execution_count": null,
   "id": "de662b68",
   "metadata": {},
   "outputs": [],
   "source": [
    "with_.interval(1/np.e)"
   ]
  },
  {
   "cell_type": "code",
   "execution_count": null,
   "id": "27c6a333",
   "metadata": {},
   "outputs": [],
   "source": [
    "1-(1-with_.mean())/(1-without_.mean())"
   ]
  },
  {
   "cell_type": "code",
   "execution_count": null,
   "id": "1767ace0",
   "metadata": {},
   "outputs": [],
   "source": [
    "8/22"
   ]
  },
  {
   "cell_type": "code",
   "execution_count": null,
   "id": "e02ec6a3",
   "metadata": {},
   "outputs": [],
   "source": [
    "10/20"
   ]
  },
  {
   "cell_type": "code",
   "execution_count": null,
   "id": "2bbc689a",
   "metadata": {},
   "outputs": [],
   "source": [
    "1-(1-8/22)*(.9)"
   ]
  },
  {
   "cell_type": "code",
   "execution_count": null,
   "id": "51d3962b",
   "metadata": {},
   "outputs": [],
   "source": [
    "without_.mean()"
   ]
  },
  {
   "cell_type": "code",
   "execution_count": null,
   "id": "d68d38d2",
   "metadata": {},
   "outputs": [],
   "source": []
  }
 ],
 "metadata": {
  "celltoolbar": "Slideshow",
  "kernelspec": {
   "display_name": "Python 3 (ipykernel)",
   "language": "python",
   "name": "python3"
  },
  "language_info": {
   "codemirror_mode": {
    "name": "ipython",
    "version": 3
   },
   "file_extension": ".py",
   "mimetype": "text/x-python",
   "name": "python",
   "nbconvert_exporter": "python",
   "pygments_lexer": "ipython3",
   "version": "3.10.9"
  }
 },
 "nbformat": 4,
 "nbformat_minor": 5
}
