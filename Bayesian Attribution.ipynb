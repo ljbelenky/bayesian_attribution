{
 "cells": [
  {
   "cell_type": "code",
   "execution_count": 1,
   "id": "ea201954",
   "metadata": {},
   "outputs": [],
   "source": [
    "import pandas as pd\n",
    "import numpy as np\n",
    "import matplotlib.pyplot as plt\n",
    "from scipy.stats import beta\n",
    "np.random.seed(2)"
   ]
  },
  {
   "cell_type": "markdown",
   "id": "847afc8a",
   "metadata": {
    "slideshow": {
     "slide_type": "slide"
    }
   },
   "source": [
    "# Bayesian Attribution\n",
    "\n",
    "## Problem Statement:\n",
    "\n",
    "We want to incentivize members to do a certain action (e.g, complete a telehealth session).\n",
    "We offer a range of incentives and would like to assess the effectiveness of each program.\n",
    "Some members will convert without any incentive (spontaneous of baseline conversion).\n",
    "Many members will be offered more than one incentive."
   ]
  },
  {
   "cell_type": "markdown",
   "id": "38e1d903",
   "metadata": {
    "slideshow": {
     "slide_type": "slide"
    }
   },
   "source": [
    "## Four Types of Incentives or Promoting Factors:\n",
    "\n",
    "#### 1. Direct Incentives - Things we do intentionally\n",
    "\n",
    "* The member is offered cash to convert. \n",
    "* We send them a reminder email. \n",
    "* We put the link at the top of their homepage.\n",
    "\n",
    "#### 2. Contributing Factors - Things we know about but have not control over.\n",
    "\n",
    "* The member is a parent of young children. \n",
    "* The member had surgery within the last year. \n",
    "* The member has met their deductible for the year.\n",
    "\n",
    "#### 3. Interaction Factors - Combinations of incentives and factors that work well together.\n",
    "\n",
    "* The member is a mother AND received a Mother's Day promotion\n",
    "* The member uses an Android phone AND received promotional message X.\n",
    "\n",
    "#### 4. Baseline Factors - Everything Else\n",
    "\n",
    "* The member already knew about our services and decided to use it on their own\n",
    "* All other factors that we don't know about.\n",
    "* All factors that we do know about but elected not to include in our model"
   ]
  },
  {
   "cell_type": "markdown",
   "id": "a303f383",
   "metadata": {
    "slideshow": {
     "slide_type": "slide"
    }
   },
   "source": [
    "## Challenges:\n",
    "\n",
    "Ideally, we would have one group that received Incentive A and nothing else, and another that received Incentive B and nothing else, etc.\n",
    "Realistically, most members will receive multple direct incentives and have multiple contributing factors outside of our control\n",
    "\n",
    "There are no members who aren't subject to spontaneous conversion, so we have no direct way to do a WITH/WITHOUT comparison.\n",
    "\n",
    "Conversion rates tend to be pretty small (~1%), so few, if any, members are likely to convert ($p>0.5$). Small deviations from ideal outcomes result in large error bars."
   ]
  },
  {
   "cell_type": "markdown",
   "id": "38440376",
   "metadata": {
    "slideshow": {
     "slide_type": "slide"
    }
   },
   "source": [
    "## Procedure\n",
    "\n",
    "Each incentive or factor has a fixed probability of resulting in coversion, $P_i$.\n",
    "Each member has a vector with a $0$ for each incentive/factor they do not have and a $1$ for those they do have.\n",
    "\n",
    "For convenience, we also include a 'NULL' value of $1$ for every member to account for the baseline that is true for everyone.\n",
    "\n",
    "We mark the outcome as $0$ if they did not complete the desired outcome and $1$ if they did.\n",
    "\n",
    "For example:\n",
    "* member $A$ has factors A,B and E and had a positive outcome\n",
    "* member $B$ has factors B, C and D and did not convert"
   ]
  },
  {
   "cell_type": "code",
   "execution_count": 2,
   "id": "f5ecbc39",
   "metadata": {
    "slideshow": {
     "slide_type": "slide"
    }
   },
   "outputs": [
    {
     "data": {
      "text/html": [
       "<div>\n",
       "<style scoped>\n",
       "    .dataframe tbody tr th:only-of-type {\n",
       "        vertical-align: middle;\n",
       "    }\n",
       "\n",
       "    .dataframe tbody tr th {\n",
       "        vertical-align: top;\n",
       "    }\n",
       "\n",
       "    .dataframe thead th {\n",
       "        text-align: right;\n",
       "    }\n",
       "</style>\n",
       "<table border=\"1\" class=\"dataframe\">\n",
       "  <thead>\n",
       "    <tr style=\"text-align: right;\">\n",
       "      <th></th>\n",
       "      <th>null</th>\n",
       "      <th>A</th>\n",
       "      <th>B</th>\n",
       "      <th>C</th>\n",
       "      <th>D</th>\n",
       "      <th>E</th>\n",
       "      <th>outcome</th>\n",
       "    </tr>\n",
       "  </thead>\n",
       "  <tbody>\n",
       "    <tr>\n",
       "      <th>Member_1</th>\n",
       "      <td>1</td>\n",
       "      <td>1</td>\n",
       "      <td>1</td>\n",
       "      <td>0</td>\n",
       "      <td>0</td>\n",
       "      <td>1</td>\n",
       "      <td>1</td>\n",
       "    </tr>\n",
       "    <tr>\n",
       "      <th>Member_2</th>\n",
       "      <td>1</td>\n",
       "      <td>0</td>\n",
       "      <td>1</td>\n",
       "      <td>1</td>\n",
       "      <td>1</td>\n",
       "      <td>0</td>\n",
       "      <td>0</td>\n",
       "    </tr>\n",
       "  </tbody>\n",
       "</table>\n",
       "</div>"
      ],
      "text/plain": [
       "          null  A  B  C  D  E  outcome\n",
       "Member_1     1  1  1  0  0  1        1\n",
       "Member_2     1  0  1  1  1  0        0"
      ]
     },
     "execution_count": 2,
     "metadata": {},
     "output_type": "execute_result"
    }
   ],
   "source": [
    "df = pd.DataFrame(dtype=int, columns = ['null','A','B','C','D','E','outcome'])\n",
    "df.loc['Member_1'] = (1,1,1,0,0,1,1)\n",
    "df.loc['Member_2'] = (1,0,1,1,1,0,0)\n",
    "df=df.astype(int)\n",
    "df"
   ]
  },
  {
   "cell_type": "markdown",
   "id": "d63acb90",
   "metadata": {
    "slideshow": {
     "slide_type": "slide"
    }
   },
   "source": [
    "## Additive Probability\n",
    "\n",
    "Unfortunately, probabilites do not add simply. If a member is offered $4$ incentives that are each known to be $30%$ effective, they don't have a $120%$ probability of conversion.\n",
    "\n",
    "The probability that a member will convert when presented with several incentives is one minus the probability that they will not convert due to any of the incentives.\n",
    "\n",
    "$$P_{total} = 1 -(1-P_{null})\\cdot (1-P_A)\\cdot (1-P_B)\\cdot (1-P_C)\\cdot (1-P_D)...$$\n",
    "\n",
    "$$P_i = \\text {Success rate of factor i in isolation}$$\n",
    "\n",
    "$$(1-P_i) = \\text {Probability that factor i does not result in conversion}$$\n",
    "\n",
    "Therefore, the conversion rate if offered $4$ incentives at $30%$ each is:\n",
    "\n",
    "$$P_{total} = 1 - (1-.3)\\cdot (1-.3)\\cdot (1-.3)\\cdot (1-.3)$$\n",
    "\n",
    "$$P_{total} = 1 - (.7)\\cdot (.7)\\cdot (.7)\\cdot (.7) = 76\\%$$\n"
   ]
  },
  {
   "cell_type": "markdown",
   "id": "0a716ff9",
   "metadata": {
    "slideshow": {
     "slide_type": "slide"
    }
   },
   "source": [
    "To account for factors that the member does/does not have, we raise each factor to $0$ or $1$ indicating presence or absence of a factor.\n",
    "\n",
    "\n",
    "$$P_{total} = 1 - (1-P_A)^{X_A}\\cdot (1-P_B)^{X_B}\\cdot (1-P_C)^{X_C)}\\cdot (1-P_D)^{X_D}\\cdot(1-P_E)^{X_E}...$$\n",
    "\n",
    "So for member $A$:\n",
    "\n",
    "$$\\large P = 1 -(1-P_{null})^1\\cdot (1-P_A)^1\\cdot (1-P_B)^1\\cdot (1-P_C)^0\\cdot (1-P_D)^0\\cdot (1-P_E)^1$$\n",
    "\n",
    "$$\\large P = 1 -(1-P_{null})\\cdot (1-P_A)\\cdot (1-P_B)\\cdot (1-P_E)$$\n",
    "\n",
    "\n",
    "\n"
   ]
  },
  {
   "cell_type": "markdown",
   "id": "cddeff31",
   "metadata": {
    "slideshow": {
     "slide_type": "skip"
    }
   },
   "source": [
    "A convenient way to handle the product of multiple terms is $e$ raised to the sum of the logarithms of the terms:\n",
    "\n",
    "$$\\large \\prod_{i}(x) = e^{\\sum_{i}ln(x)}$$\n",
    "\n",
    "So $P_{total}$ becomes:\n",
    "\n",
    "$$\\large P_{total} = 1 - \\prod_{i=A,B,C,D,E...}(1-P_i)^{X_i}$$\n",
    "\n",
    "\n",
    "$$\\large P_{total} = 1 - e^{\\sum_{i}X_i\\cdot ln(1-P_i)}$$\n",
    "\n",
    "$$\\large P_{total} = 1-e^{\\vec X \\cdot {ln(1-\\vec P)}}$$"
   ]
  },
  {
   "cell_type": "markdown",
   "id": "1b1266d4",
   "metadata": {},
   "source": [
    "### This gives us the ability to distinguish between conversion *because of* a factor vs. conversion *with a factor*\n",
    "\n",
    "$$\\large \\underbrace {P_\\text{(A and other factors)}}_\\text {conversion with A and other factors} = 1 - \\underbrace {(1-P_A)}_\\text {conversion due to A alone}\\cdot \\underbrace {\\prod_{i\\ne A}(1-P_i)^{X_i}}_\\text {conversion due to all factors execpt A}$$\n",
    "\n",
    "$$ $$\n",
    "\n",
    "$$\\large \\underbrace {P_{A}}_\\text{conversion due to A alone} = 1-\\frac{1-P_\\text{(with A)}}{1-P_\\text{(without A)}}$$\n",
    "\n",
    "#### Note: For a first approximation, we assume that $X_i$ is independent of $A$. That is to say, the presence of factors *B,C,D,E, etc* are distribute the same for people with factor *A* and those without it.  (We will correct for this later)\n",
    "\n",
    "$\\large P_\\text{(with A)}$ and $\\large P_\\text{(without A)}$ can be read directly from our results table, e.g:\n",
    "```\n",
    "SQL:\n",
    "\n",
    "SELECT A, AVERAGE(OUTCOME) FROM results GROUP BY A\n",
    "```"
   ]
  },
  {
   "cell_type": "markdown",
   "id": "0a1b7e2a",
   "metadata": {},
   "source": [
    "## The Bayesian Part\n",
    "\n",
    "$$\\large P_{A} = 1-\\frac{1-P_\\text{(A=1)}}{1-P_\\text{(A=0)}}$$\n",
    "\n",
    "However, as we learned last time, $P$ is not just a single value. Estimates of $P$ are distributed over a range of values in the vicinity of true $P$.\n",
    "\n",
    "The width of this vicinity depends on how much data we have.\n"
   ]
  },
  {
   "cell_type": "code",
   "execution_count": 3,
   "id": "b10d5311",
   "metadata": {},
   "outputs": [
    {
     "data": {
      "image/png": "[encoded data removed]",
      "text/plain": [
       "<Figure size 640x480 with 1 Axes>"
      ]
     },
     "metadata": {},
     "output_type": "display_data"
    }
   ],
   "source": [
    "x = np.linspace(0,1,1000)\n",
    "[plt.plot(x, beta(3*i,7*i).pdf(x), color='green', label=f'{i*10} Observations' ) for i in (1,10,30)]\n",
    "plt.title('Estimates of P for a process with 30% conversion rate.\\n Different numbers of observations')\n",
    "plt.legend()\n",
    "plt.xlabel('Estimated value of P')\n",
    "plt.ylabel('Likelihood');"
   ]
  },
  {
   "cell_type": "markdown",
   "id": "65d78925",
   "metadata": {},
   "source": [
    "# Let's look at some experimental data.\n",
    "\n",
    "### 6,400 Members received between 2 and 5 Incentives (plus the null value)\n",
    "\n",
    "### In total, 2,502 members converted (46%)\n",
    "\n",
    "### Because all members received at least two incentives, we can't get a clean read on any of them."
   ]
  },
  {
   "cell_type": "code",
   "execution_count": 791,
   "id": "dbf65fe8",
   "metadata": {},
   "outputs": [
    {
     "data": {
      "text/html": [
       "<div>\n",
       "<style scoped>\n",
       "    .dataframe tbody tr th:only-of-type {\n",
       "        vertical-align: middle;\n",
       "    }\n",
       "\n",
       "    .dataframe tbody tr th {\n",
       "        vertical-align: top;\n",
       "    }\n",
       "\n",
       "    .dataframe thead th {\n",
       "        text-align: right;\n",
       "    }\n",
       "</style>\n",
       "<table border=\"1\" class=\"dataframe\">\n",
       "  <thead>\n",
       "    <tr style=\"text-align: right;\">\n",
       "      <th></th>\n",
       "      <th>null</th>\n",
       "      <th>Incentive_1</th>\n",
       "      <th>Incentive_2</th>\n",
       "      <th>Incentive_3</th>\n",
       "      <th>Incentive_4</th>\n",
       "      <th>Incentive_5</th>\n",
       "      <th>outcome</th>\n",
       "    </tr>\n",
       "  </thead>\n",
       "  <tbody>\n",
       "    <tr>\n",
       "      <th>0</th>\n",
       "      <td>1</td>\n",
       "      <td>0</td>\n",
       "      <td>0</td>\n",
       "      <td>1</td>\n",
       "      <td>1</td>\n",
       "      <td>1</td>\n",
       "      <td>1</td>\n",
       "    </tr>\n",
       "    <tr>\n",
       "      <th>1</th>\n",
       "      <td>1</td>\n",
       "      <td>0</td>\n",
       "      <td>0</td>\n",
       "      <td>1</td>\n",
       "      <td>0</td>\n",
       "      <td>1</td>\n",
       "      <td>0</td>\n",
       "    </tr>\n",
       "    <tr>\n",
       "      <th>2</th>\n",
       "      <td>1</td>\n",
       "      <td>0</td>\n",
       "      <td>0</td>\n",
       "      <td>0</td>\n",
       "      <td>0</td>\n",
       "      <td>1</td>\n",
       "      <td>0</td>\n",
       "    </tr>\n",
       "    <tr>\n",
       "      <th>3</th>\n",
       "      <td>1</td>\n",
       "      <td>0</td>\n",
       "      <td>0</td>\n",
       "      <td>0</td>\n",
       "      <td>1</td>\n",
       "      <td>0</td>\n",
       "      <td>0</td>\n",
       "    </tr>\n",
       "    <tr>\n",
       "      <th>4</th>\n",
       "      <td>1</td>\n",
       "      <td>0</td>\n",
       "      <td>0</td>\n",
       "      <td>0</td>\n",
       "      <td>1</td>\n",
       "      <td>1</td>\n",
       "      <td>0</td>\n",
       "    </tr>\n",
       "    <tr>\n",
       "      <th>...</th>\n",
       "      <td>...</td>\n",
       "      <td>...</td>\n",
       "      <td>...</td>\n",
       "      <td>...</td>\n",
       "      <td>...</td>\n",
       "      <td>...</td>\n",
       "      <td>...</td>\n",
       "    </tr>\n",
       "    <tr>\n",
       "      <th>159995</th>\n",
       "      <td>1</td>\n",
       "      <td>0</td>\n",
       "      <td>0</td>\n",
       "      <td>0</td>\n",
       "      <td>0</td>\n",
       "      <td>1</td>\n",
       "      <td>0</td>\n",
       "    </tr>\n",
       "    <tr>\n",
       "      <th>159996</th>\n",
       "      <td>1</td>\n",
       "      <td>0</td>\n",
       "      <td>0</td>\n",
       "      <td>1</td>\n",
       "      <td>1</td>\n",
       "      <td>0</td>\n",
       "      <td>0</td>\n",
       "    </tr>\n",
       "    <tr>\n",
       "      <th>159997</th>\n",
       "      <td>1</td>\n",
       "      <td>0</td>\n",
       "      <td>0</td>\n",
       "      <td>0</td>\n",
       "      <td>1</td>\n",
       "      <td>0</td>\n",
       "      <td>0</td>\n",
       "    </tr>\n",
       "    <tr>\n",
       "      <th>159998</th>\n",
       "      <td>1</td>\n",
       "      <td>0</td>\n",
       "      <td>0</td>\n",
       "      <td>0</td>\n",
       "      <td>0</td>\n",
       "      <td>1</td>\n",
       "      <td>1</td>\n",
       "    </tr>\n",
       "    <tr>\n",
       "      <th>159999</th>\n",
       "      <td>1</td>\n",
       "      <td>0</td>\n",
       "      <td>0</td>\n",
       "      <td>1</td>\n",
       "      <td>0</td>\n",
       "      <td>0</td>\n",
       "      <td>1</td>\n",
       "    </tr>\n",
       "  </tbody>\n",
       "</table>\n",
       "<p>160000 rows × 7 columns</p>\n",
       "</div>"
      ],
      "text/plain": [
       "        null  Incentive_1  Incentive_2  Incentive_3  Incentive_4  Incentive_5  \\\n",
       "0          1            0            0            1            1            1   \n",
       "1          1            0            0            1            0            1   \n",
       "2          1            0            0            0            0            1   \n",
       "3          1            0            0            0            1            0   \n",
       "4          1            0            0            0            1            1   \n",
       "...      ...          ...          ...          ...          ...          ...   \n",
       "159995     1            0            0            0            0            1   \n",
       "159996     1            0            0            1            1            0   \n",
       "159997     1            0            0            0            1            0   \n",
       "159998     1            0            0            0            0            1   \n",
       "159999     1            0            0            1            0            0   \n",
       "\n",
       "        outcome  \n",
       "0             1  \n",
       "1             0  \n",
       "2             0  \n",
       "3             0  \n",
       "4             0  \n",
       "...         ...  \n",
       "159995        0  \n",
       "159996        0  \n",
       "159997        0  \n",
       "159998        1  \n",
       "159999        1  \n",
       "\n",
       "[160000 rows x 7 columns]"
      ]
     },
     "execution_count": 791,
     "metadata": {},
     "output_type": "execute_result"
    }
   ],
   "source": [
    "df = pd.read_csv('results_data1.csv')#.sample(frac=.2)\n",
    "# df=df[df.iloc[:,:-1].sum(axis=1)>2]\n",
    "# df['Incentive_3']=np.random.choice((0,1), len(df))\n",
    "# df['Incentive_4']=np.random.choice((0,1), len(df))\n",
    "# df['Incentive_2']=np.random.choice((0,1), len(df))\n",
    "df"
   ]
  },
  {
   "cell_type": "code",
   "execution_count": 792,
   "id": "9d9c3f4a",
   "metadata": {},
   "outputs": [
    {
     "data": {
      "text/html": [
       "<div>\n",
       "<style scoped>\n",
       "    .dataframe tbody tr th:only-of-type {\n",
       "        vertical-align: middle;\n",
       "    }\n",
       "\n",
       "    .dataframe tbody tr th {\n",
       "        vertical-align: top;\n",
       "    }\n",
       "\n",
       "    .dataframe thead th {\n",
       "        text-align: right;\n",
       "    }\n",
       "</style>\n",
       "<table border=\"1\" class=\"dataframe\">\n",
       "  <thead>\n",
       "    <tr style=\"text-align: right;\">\n",
       "      <th></th>\n",
       "      <th>null</th>\n",
       "      <th>Incentive_1</th>\n",
       "      <th>Incentive_2</th>\n",
       "      <th>Incentive_3</th>\n",
       "      <th>Incentive_4</th>\n",
       "      <th>Incentive_5</th>\n",
       "      <th>outcome</th>\n",
       "    </tr>\n",
       "  </thead>\n",
       "  <tbody>\n",
       "    <tr>\n",
       "      <th>count</th>\n",
       "      <td>160000.0</td>\n",
       "      <td>160000.000000</td>\n",
       "      <td>160000.000000</td>\n",
       "      <td>160000.000000</td>\n",
       "      <td>160000.000000</td>\n",
       "      <td>160000.000000</td>\n",
       "      <td>160000.000000</td>\n",
       "    </tr>\n",
       "    <tr>\n",
       "      <th>mean</th>\n",
       "      <td>1.0</td>\n",
       "      <td>0.030194</td>\n",
       "      <td>0.119231</td>\n",
       "      <td>0.268694</td>\n",
       "      <td>0.480006</td>\n",
       "      <td>0.748463</td>\n",
       "      <td>0.349662</td>\n",
       "    </tr>\n",
       "    <tr>\n",
       "      <th>std</th>\n",
       "      <td>0.0</td>\n",
       "      <td>0.171121</td>\n",
       "      <td>0.324061</td>\n",
       "      <td>0.443282</td>\n",
       "      <td>0.499602</td>\n",
       "      <td>0.433898</td>\n",
       "      <td>0.476865</td>\n",
       "    </tr>\n",
       "    <tr>\n",
       "      <th>min</th>\n",
       "      <td>1.0</td>\n",
       "      <td>0.000000</td>\n",
       "      <td>0.000000</td>\n",
       "      <td>0.000000</td>\n",
       "      <td>0.000000</td>\n",
       "      <td>0.000000</td>\n",
       "      <td>0.000000</td>\n",
       "    </tr>\n",
       "    <tr>\n",
       "      <th>25%</th>\n",
       "      <td>1.0</td>\n",
       "      <td>0.000000</td>\n",
       "      <td>0.000000</td>\n",
       "      <td>0.000000</td>\n",
       "      <td>0.000000</td>\n",
       "      <td>0.000000</td>\n",
       "      <td>0.000000</td>\n",
       "    </tr>\n",
       "    <tr>\n",
       "      <th>50%</th>\n",
       "      <td>1.0</td>\n",
       "      <td>0.000000</td>\n",
       "      <td>0.000000</td>\n",
       "      <td>0.000000</td>\n",
       "      <td>0.000000</td>\n",
       "      <td>1.000000</td>\n",
       "      <td>0.000000</td>\n",
       "    </tr>\n",
       "    <tr>\n",
       "      <th>75%</th>\n",
       "      <td>1.0</td>\n",
       "      <td>0.000000</td>\n",
       "      <td>0.000000</td>\n",
       "      <td>1.000000</td>\n",
       "      <td>1.000000</td>\n",
       "      <td>1.000000</td>\n",
       "      <td>1.000000</td>\n",
       "    </tr>\n",
       "    <tr>\n",
       "      <th>max</th>\n",
       "      <td>1.0</td>\n",
       "      <td>1.000000</td>\n",
       "      <td>1.000000</td>\n",
       "      <td>1.000000</td>\n",
       "      <td>1.000000</td>\n",
       "      <td>1.000000</td>\n",
       "      <td>1.000000</td>\n",
       "    </tr>\n",
       "  </tbody>\n",
       "</table>\n",
       "</div>"
      ],
      "text/plain": [
       "           null    Incentive_1    Incentive_2    Incentive_3    Incentive_4  \\\n",
       "count  160000.0  160000.000000  160000.000000  160000.000000  160000.000000   \n",
       "mean        1.0       0.030194       0.119231       0.268694       0.480006   \n",
       "std         0.0       0.171121       0.324061       0.443282       0.499602   \n",
       "min         1.0       0.000000       0.000000       0.000000       0.000000   \n",
       "25%         1.0       0.000000       0.000000       0.000000       0.000000   \n",
       "50%         1.0       0.000000       0.000000       0.000000       0.000000   \n",
       "75%         1.0       0.000000       0.000000       1.000000       1.000000   \n",
       "max         1.0       1.000000       1.000000       1.000000       1.000000   \n",
       "\n",
       "         Incentive_5        outcome  \n",
       "count  160000.000000  160000.000000  \n",
       "mean        0.748463       0.349662  \n",
       "std         0.433898       0.476865  \n",
       "min         0.000000       0.000000  \n",
       "25%         0.000000       0.000000  \n",
       "50%         1.000000       0.000000  \n",
       "75%         1.000000       1.000000  \n",
       "max         1.000000       1.000000  "
      ]
     },
     "execution_count": 792,
     "metadata": {},
     "output_type": "execute_result"
    }
   ],
   "source": [
    "df.describe()"
   ]
  },
  {
   "cell_type": "code",
   "execution_count": 793,
   "id": "f5483aaf",
   "metadata": {},
   "outputs": [],
   "source": [
    "true = np.array([0.05, 0.09, 0.13, 0.17, 0.21, 0.25])"
   ]
  },
  {
   "cell_type": "code",
   "execution_count": 794,
   "id": "fbc988e6",
   "metadata": {},
   "outputs": [
    {
     "data": {
      "text/plain": [
       "Incentive_1  outcome\n",
       "0            0          101184\n",
       "             1           53985\n",
       "1            0            2870\n",
       "             1            1961\n",
       "Name: null, dtype: int64"
      ]
     },
     "execution_count": 794,
     "metadata": {},
     "output_type": "execute_result"
    }
   ],
   "source": [
    "df.groupby(['Incentive_1','outcome']).sum()['null']"
   ]
  },
  {
   "cell_type": "code",
   "execution_count": 795,
   "id": "a6ce744f",
   "metadata": {},
   "outputs": [
    {
     "data": {
      "text/plain": [
       "(0.40075811221727, 0.20580507944451396)"
      ]
     },
     "execution_count": 795,
     "metadata": {},
     "output_type": "execute_result"
    }
   ],
   "source": [
    "with_a/(with_a+with_b), without_a/(without_a+without_b)"
   ]
  },
  {
   "cell_type": "code",
   "execution_count": 796,
   "id": "8cf8fc09",
   "metadata": {},
   "outputs": [
    {
     "data": {
      "image/png": "[encoded data removed]",
      "text/plain": [
       "<Figure size 640x480 with 1 Axes>"
      ]
     },
     "metadata": {},
     "output_type": "display_data"
    }
   ],
   "source": [
    "estimated_probabilities = {}\n",
    "for i in (1,2,3,4,5):\n",
    "    (without_b,\n",
    "     without_a,\n",
    "     with_b,\n",
    "     with_a) = df.groupby([f'Incentive_{i}','outcome']).sum()['null'].values\n",
    "    with_=beta(with_a, with_b)\n",
    "    without_=beta(without_a, without_b)\n",
    "    P = 1-(1-with_.mean())/(1-without_.mean())\n",
    "    N = df[f'Incentive_{i}'].sum()\n",
    "    because_a = P*N\n",
    "    because_b = (1-P)*N\n",
    "    because = beta(because_a,because_b)\n",
    "    estimated_probabilities[i] = because.mean()\n",
    "\n",
    "    plt.plot(x, because.pdf(x), label = f'Incentive_{i}: {because.mean()}')\n",
    "plt.xlim([0,.4])\n",
    "plt.legend()\n",
    "[plt.axvline(i, color='orange', alpha=.5) for i in true[1:]];"
   ]
  },
  {
   "cell_type": "code",
   "execution_count": 797,
   "id": "700b0e48",
   "metadata": {},
   "outputs": [
    {
     "data": {
      "text/plain": [
       "({1: 0.08895888576583,\n",
       "  2: 0.13147047834568126,\n",
       "  3: 0.17175458934596144,\n",
       "  4: 0.21133955260573656,\n",
       "  5: 0.24748850675366674},\n",
       " array([0.09, 0.13, 0.17, 0.21, 0.25]))"
      ]
     },
     "execution_count": 797,
     "metadata": {},
     "output_type": "execute_result"
    }
   ],
   "source": [
    "estimated_probabilities, true[1:]"
   ]
  },
  {
   "cell_type": "code",
   "execution_count": 798,
   "id": "eb35b8d5",
   "metadata": {},
   "outputs": [
    {
     "data": {
      "text/plain": [
       "0         0.508456\n",
       "1         0.376736\n",
       "2         0.247489\n",
       "3         0.211340\n",
       "4         0.406524\n",
       "            ...   \n",
       "159995    0.247489\n",
       "159996    0.346796\n",
       "159997    0.211340\n",
       "159998    0.247489\n",
       "159999    0.171755\n",
       "Length: 160000, dtype: float64"
      ]
     },
     "execution_count": 798,
     "metadata": {},
     "output_type": "execute_result"
    }
   ],
   "source": [
    "first_estimate = 1-np.exp(np.log(1-df.iloc[:,1:-1]*estimated_probabilities.values()).sum(axis=1))\n",
    "first_estimate"
   ]
  },
  {
   "cell_type": "code",
   "execution_count": 799,
   "id": "e86eed2b",
   "metadata": {},
   "outputs": [
    {
     "data": {
      "text/plain": [
       "50315.00343492727"
      ]
     },
     "execution_count": 799,
     "metadata": {},
     "output_type": "execute_result"
    }
   ],
   "source": [
    "first_estimate.sum()"
   ]
  },
  {
   "cell_type": "code",
   "execution_count": 800,
   "id": "e4079ea7",
   "metadata": {},
   "outputs": [
    {
     "data": {
      "text/plain": [
       "55946"
      ]
     },
     "execution_count": 800,
     "metadata": {},
     "output_type": "execute_result"
    }
   ],
   "source": [
    "df['outcome'].sum()"
   ]
  },
  {
   "cell_type": "code",
   "execution_count": 801,
   "id": "d04dc51f",
   "metadata": {},
   "outputs": [
    {
     "data": {
      "text/plain": [
       "(0.05043360406274019, 0.0522485577423637)"
      ]
     },
     "execution_count": 801,
     "metadata": {},
     "output_type": "execute_result"
    },
    {
     "data": {
      "image/png": "[encoded data removed]",
      "text/plain": [
       "<Figure size 640x480 with 1 Axes>"
      ]
     },
     "metadata": {},
     "output_type": "display_data"
    }
   ],
   "source": [
    "spontaneous = 1 - (1-beta(df['outcome'].sum(), len(df)-df['outcome'].sum()).mean())/(1-beta(first_estimate.sum(),len(df)-first_estimate.sum()).mean())\n",
    "spontaneous= beta(len(df)*spontaneous, len(df)*(1-spontaneous))\n",
    "plt.plot(x, spontaneous.pdf(x));\n",
    "spontaneous.interval(.9)"
   ]
  },
  {
   "cell_type": "code",
   "execution_count": 802,
   "id": "99db73d6",
   "metadata": {},
   "outputs": [
    {
     "data": {
      "text/plain": [
       "array([0.05133789, 0.08895889, 0.13147048, 0.17175459, 0.21133955,\n",
       "       0.24748851])"
      ]
     },
     "execution_count": 802,
     "metadata": {},
     "output_type": "execute_result"
    }
   ],
   "source": [
    "estimated_probabilities[0] = spontaneous.mean()\n",
    "estimated = np.array([estimated_probabilities[i] for i in range(len(estimated_probabilities))])\n",
    "estimated"
   ]
  },
  {
   "cell_type": "code",
   "execution_count": 803,
   "id": "989793d9",
   "metadata": {},
   "outputs": [
    {
     "data": {
      "text/plain": [
       "55666.67652309359"
      ]
     },
     "execution_count": 803,
     "metadata": {},
     "output_type": "execute_result"
    }
   ],
   "source": [
    "f=1\n",
    "(1-np.exp(np.log(1-(df.iloc[:,:-1]*estimated).drop(f'Incentive_{f}',axis=1)).sum(axis=1))).sum()"
   ]
  },
  {
   "cell_type": "code",
   "execution_count": 804,
   "id": "2fc48914",
   "metadata": {},
   "outputs": [
    {
     "name": "stdout",
     "output_type": "stream",
     "text": [
      "with 1961 2870 0.4059200993583109\n",
      "0.08895888576583 0.0859629667523304 0.09\n",
      "with 8130 10947 0.4261676364208209\n",
      "0.13147047834568126 0.13128556394920443 0.13\n",
      "with 18714 24277 0.4353004117140797\n",
      "0.17175458934596144 0.1718253533062608 0.17\n",
      "with 32963 43838 0.42920014062316897\n",
      "0.21133955260573656 0.2113445852846737 0.21\n",
      "with 47824 71930 0.39935200494346745\n",
      "0.24748850675366674 0.24752977065747872 0.25\n"
     ]
    },
    {
     "data": {
      "image/png": "[encoded data removed]",
      "text/plain": [
       "<Figure size 640x480 with 1 Axes>"
      ]
     },
     "metadata": {},
     "output_type": "display_data"
    }
   ],
   "source": [
    "plt.plot(x, spontaneous.pdf(x), label=f'Spontaneous {spontaneous.mean()}')\n",
    "plt.axvline(true[0], color='red')\n",
    "\n",
    "for i in (1,2,3,4,5):\n",
    "    subset = df[df[f'Incentive_{i}']==1]\n",
    "    \n",
    "    with_ = beta(subset['outcome'].sum(), (1-subset['outcome']).sum())\n",
    "    print('with',subset['outcome'].sum(), (1-subset['outcome']).sum(), with_.mean())\n",
    "    other_factors = (1-subset.iloc[:,:-1]*estimated).drop(f'Incentive_{i}',axis=1)\n",
    "#     print(other_factors)\n",
    "    predicted = (1-np.exp(np.log(other_factors).sum(axis=1))).sum()\n",
    "    \n",
    "    without_ = beta(predicted, len(subset)-predicted)\n",
    "#     print('predicted',predicted,len(subset)-predicted, without_.mean())\n",
    "    p = 1-(1-with_.mean())/(1-without_.mean())\n",
    "#     print('because',p, true[i], len(subset))\n",
    "#     print('a ',p*len(subset), ' b ',(1-p)*len(subset))\n",
    "    new_estimate = beta(p*len(subset),(1-p)*len(subset))\n",
    "    plt.plot(x, new_estimate.pdf(x))\n",
    "    print(estimated_probabilities[i],new_estimate.mean(), true[i])\n",
    "    plt.axvline(true[i], color='red')\n",
    "#     plt.axvline(estimated_probabilities[i])\n",
    "plt.xlim([0,.4]);"
   ]
  },
  {
   "cell_type": "code",
   "execution_count": 805,
   "id": "616fc468",
   "metadata": {},
   "outputs": [
    {
     "data": {
      "text/plain": [
       "0.923076923076923"
      ]
     },
     "execution_count": 805,
     "metadata": {},
     "output_type": "execute_result"
    }
   ],
   "source": [
    ".6/.65"
   ]
  },
  {
   "cell_type": "code",
   "execution_count": 806,
   "id": "4be7a5a7",
   "metadata": {},
   "outputs": [
    {
     "data": {
      "text/plain": [
       "0         0.533691\n",
       "1         0.408733\n",
       "2         0.286121\n",
       "3         0.251828\n",
       "4         0.436992\n",
       "            ...   \n",
       "159995    0.286121\n",
       "159996    0.380330\n",
       "159997    0.251828\n",
       "159998    0.286121\n",
       "159999    0.214275\n",
       "Length: 160000, dtype: float64"
      ]
     },
     "execution_count": 806,
     "metadata": {},
     "output_type": "execute_result"
    }
   ],
   "source": [
    "second_estimate = 1-np.exp((np.log(1-df.iloc[:,:-1]*estimated)).sum(axis=1))\n",
    "second_estimate"
   ]
  },
  {
   "cell_type": "code",
   "execution_count": 807,
   "id": "13605545",
   "metadata": {},
   "outputs": [
    {
     "data": {
      "image/png": "[encoded data removed]",
      "text/plain": [
       "<Figure size 640x480 with 1 Axes>"
      ]
     },
     "metadata": {},
     "output_type": "display_data"
    }
   ],
   "source": [
    "estimated_probabilities = {}\n",
    "plt.plot(x, spontaneous.pdf(x), label=f'Spontaneous {spontaneous.mean()} ')\n",
    "for i in (1,2,3,4,5):\n",
    "    without_b = (1-second_estimate[df[f'Incentive_{i}']==0]).sum()\n",
    "    without_a = second_estimate[df[f'Incentive_{i}']==0].sum()\n",
    "    with_b = (1-second_estimate[df[f'Incentive_{i}']==1]).sum()\n",
    "    with_a = second_estimate[df[f'Incentive_{i}']==1].sum()\n",
    "    with_=beta(with_a, with_b)\n",
    "    without_=beta(without_a, without_b)\n",
    "    P = 1-(1-with_.mean())/(1-without_.mean())\n",
    "    N = df[f'Incentive_{i}'].sum()\n",
    "    because_a = P*N\n",
    "    because_b = (1-P)*N\n",
    "    because = beta(because_a,because_b)\n",
    "    estimated_probabilities[i] = because.mean()\n",
    "\n",
    "    plt.plot(x, because.pdf(x), label = f'Incentive_{i}: {because.mean()}')\n",
    "plt.xlim([0,.4])\n",
    "plt.legend(loc=[1.1,0])\n",
    "[plt.axvline(i, color='orange', alpha=.5) for i in true];"
   ]
  },
  {
   "cell_type": "code",
   "execution_count": null,
   "id": "f1a89169",
   "metadata": {},
   "outputs": [],
   "source": []
  },
  {
   "cell_type": "code",
   "execution_count": null,
   "id": "51c07444",
   "metadata": {},
   "outputs": [],
   "source": []
  },
  {
   "cell_type": "code",
   "execution_count": null,
   "id": "d6db3aa7",
   "metadata": {},
   "outputs": [],
   "source": []
  },
  {
   "cell_type": "code",
   "execution_count": 130,
   "id": "f40e270c",
   "metadata": {},
   "outputs": [],
   "source": [
    "def get_a(dist):\n",
    "    return ((dist.mean()*(1-dist.mean())/(dist.var())-1)*dist.mean())\n",
    "def get_b(dist):\n",
    "    return ((dist.mean()*(1-dist.mean()))/(dist.var())-1)*(1-dist.mean())"
   ]
  },
  {
   "cell_type": "code",
   "execution_count": 8,
   "id": "dc1bb784",
   "metadata": {},
   "outputs": [
    {
     "data": {
      "text/plain": [
       "(8.0, 22.0, 10.0, 20.000000000000004)"
      ]
     },
     "execution_count": 8,
     "metadata": {},
     "output_type": "execute_result"
    }
   ],
   "source": [
    "get_a(without_), get_b(without_), get_a(with_), get_b(with_)"
   ]
  },
  {
   "cell_type": "code",
   "execution_count": 9,
   "id": "88195eb8",
   "metadata": {},
   "outputs": [
    {
     "data": {
      "text/plain": [
       "0.09090909090909083"
      ]
     },
     "execution_count": 9,
     "metadata": {},
     "output_type": "execute_result"
    }
   ],
   "source": [
    "1-(1-with_.mean())/(1-without_.mean())"
   ]
  },
  {
   "cell_type": "code",
   "execution_count": 38,
   "id": "33adf6c6",
   "metadata": {},
   "outputs": [
    {
     "data": {
      "text/plain": [
       "(0.3333333333333333, 0.26666666666666666)"
      ]
     },
     "execution_count": 38,
     "metadata": {},
     "output_type": "execute_result"
    }
   ],
   "source": [
    "with_.mean(), without_.mean()"
   ]
  },
  {
   "cell_type": "code",
   "execution_count": 46,
   "id": "c5331696",
   "metadata": {},
   "outputs": [
    {
     "data": {
      "text/plain": [
       "array([0.0699218, 0.0922844, 0.1165074])"
      ]
     },
     "execution_count": 46,
     "metadata": {},
     "output_type": "execute_result"
    }
   ],
   "source": [
    "1-(1-with_.ppf([.19/2,.5,1-.19/2]))/(1-without_.ppf([.19/2, .5, 1-.19/2]))"
   ]
  },
  {
   "cell_type": "code",
   "execution_count": 48,
   "id": "9251a207",
   "metadata": {},
   "outputs": [
    {
     "data": {
      "text/plain": [
       "0.09090909090909083"
      ]
     },
     "execution_count": 48,
     "metadata": {},
     "output_type": "execute_result"
    }
   ],
   "source": [
    "A = 1-(1-with_.mean())/(1-without_.mean())\n",
    "A"
   ]
  },
  {
   "cell_type": "code",
   "execution_count": 55,
   "id": "ba0bd749",
   "metadata": {},
   "outputs": [
    {
     "data": {
      "text/plain": [
       "<matplotlib.lines.Line2D at 0x7faf9e4864d0>"
      ]
     },
     "execution_count": 55,
     "metadata": {},
     "output_type": "execute_result"
    },
    {
     "data": {
      "image/png": "[encoded data removed]",
      "text/plain": [
       "<Figure size 640x480 with 1 Axes>"
      ]
     },
     "metadata": {},
     "output_type": "display_data"
    }
   ],
   "source": [
    "plt.plot(x,beta(A*30, (1-A)*30).pdf(x))\n",
    "[plt.axvline(i) for i in 1-(1-with_.ppf([.19/2,.5,1-.19/2]))/(1-without_.ppf([.19/2, .5, 1-.19/2]))]\n",
    "plt.axvline(A, color='red')"
   ]
  },
  {
   "cell_type": "code",
   "execution_count": 37,
   "id": "4c94adc0",
   "metadata": {},
   "outputs": [
    {
     "data": {
      "text/plain": [
       "<matplotlib.lines.Line2D at 0x7faf9ed1a9e0>"
      ]
     },
     "execution_count": 37,
     "metadata": {},
     "output_type": "execute_result"
    },
    {
     "data": {
      "image/png": "[encoded data removed]",
      "text/plain": [
       "<Figure size 640x480 with 1 Axes>"
      ]
     },
     "metadata": {},
     "output_type": "display_data"
    }
   ],
   "source": [
    "plt.plot(x,[(with_.interval(i)[1]-with_.interval(i)[0]) for i in x])\n",
    "plt.ylabel('Credible Interval')\n",
    "plt.xlabel('credibility')\n",
    "plt.axhline(with_.var()**.5)\n",
    "plt.axhline(with_.var(), color='red')\n",
    "# plt.xlim([.3,.4])\n",
    "# plt.ylim([0,.2])\n",
    "plt.axvline(1/np.e)"
   ]
  },
  {
   "cell_type": "code",
   "execution_count": 12,
   "id": "fd3f25b0",
   "metadata": {},
   "outputs": [
    {
     "data": {
      "text/plain": [
       "0.36787944117144233"
      ]
     },
     "execution_count": 12,
     "metadata": {},
     "output_type": "execute_result"
    }
   ],
   "source": [
    "1/np.exp(1)"
   ]
  },
  {
   "cell_type": "code",
   "execution_count": 13,
   "id": "cec0c8d5",
   "metadata": {},
   "outputs": [
    {
     "data": {
      "text/plain": [
       "0.31606027941427883"
      ]
     },
     "execution_count": 13,
     "metadata": {},
     "output_type": "execute_result"
    }
   ],
   "source": [
    ".5-1/(2*np.e)"
   ]
  },
  {
   "cell_type": "code",
   "execution_count": 14,
   "id": "2b8199ae",
   "metadata": {},
   "outputs": [
    {
     "data": {
      "text/plain": [
       "0.6839397205857212"
      ]
     },
     "execution_count": 14,
     "metadata": {},
     "output_type": "execute_result"
    }
   ],
   "source": [
    ".5+1/(2*np.e)"
   ]
  },
  {
   "cell_type": "code",
   "execution_count": 15,
   "id": "13f88ad9",
   "metadata": {},
   "outputs": [
    {
     "data": {
      "text/plain": [
       "0.006833787974928042"
      ]
     },
     "execution_count": 15,
     "metadata": {},
     "output_type": "execute_result"
    }
   ],
   "source": [
    "(with_.ppf(.5+1/(2*np.e))- with_.ppf(.5-1/(2*np.e)))**2"
   ]
  },
  {
   "cell_type": "code",
   "execution_count": 16,
   "id": "84c79f78",
   "metadata": {},
   "outputs": [
    {
     "data": {
      "text/plain": [
       "0.007168458781362007"
      ]
     },
     "execution_count": 16,
     "metadata": {},
     "output_type": "execute_result"
    }
   ],
   "source": [
    "with_.var()"
   ]
  },
  {
   "cell_type": "code",
   "execution_count": 17,
   "id": "932e9219",
   "metadata": {},
   "outputs": [
    {
     "data": {
      "text/plain": [
       "(0.31606027941427883, 0.6839397205857212)"
      ]
     },
     "execution_count": 17,
     "metadata": {},
     "output_type": "execute_result"
    }
   ],
   "source": [
    "lo = .5-1/(2*np.e)\n",
    "hi = .5+1/(2*np.e)\n",
    "lo, hi"
   ]
  },
  {
   "cell_type": "code",
   "execution_count": 18,
   "id": "a432f503",
   "metadata": {},
   "outputs": [
    {
     "data": {
      "text/plain": [
       "(0.3718022556647873, 0.28913552732183156)"
      ]
     },
     "execution_count": 18,
     "metadata": {},
     "output_type": "execute_result"
    }
   ],
   "source": [
    "with_.ppf(hi),with_.ppf(lo)"
   ]
  },
  {
   "cell_type": "code",
   "execution_count": 19,
   "id": "409d7d4e",
   "metadata": {},
   "outputs": [
    {
     "data": {
      "text/plain": [
       "[<matplotlib.lines.Line2D at 0x7faf9ff82440>,\n",
       " <matplotlib.lines.Line2D at 0x7faf9ff83c40>]"
      ]
     },
     "execution_count": 19,
     "metadata": {},
     "output_type": "execute_result"
    },
    {
     "data": {
      "image/png": "[encoded data removed]",
      "text/plain": [
       "<Figure size 640x480 with 1 Axes>"
      ]
     },
     "metadata": {},
     "output_type": "display_data"
    }
   ],
   "source": [
    "plt.plot(x,with_.pdf(x))\n",
    "[plt.axvline(with_.ppf(i)) for i in (hi,lo)]"
   ]
  },
  {
   "cell_type": "code",
   "execution_count": 20,
   "id": "a1026472",
   "metadata": {},
   "outputs": [
    {
     "data": {
      "text/plain": [
       "(0.28913552732183156, 0.3718022556647873)"
      ]
     },
     "execution_count": 20,
     "metadata": {},
     "output_type": "execute_result"
    }
   ],
   "source": [
    "with_.interval(1/np.e)"
   ]
  },
  {
   "cell_type": "code",
   "execution_count": 21,
   "id": "7f60a225",
   "metadata": {},
   "outputs": [
    {
     "data": {
      "text/plain": [
       "0.09090909090909083"
      ]
     },
     "execution_count": 21,
     "metadata": {},
     "output_type": "execute_result"
    }
   ],
   "source": [
    "1-(1-with_.mean())/(1-without_.mean())"
   ]
  },
  {
   "cell_type": "code",
   "execution_count": 22,
   "id": "fabdb287",
   "metadata": {},
   "outputs": [
    {
     "data": {
      "text/plain": [
       "0.36363636363636365"
      ]
     },
     "execution_count": 22,
     "metadata": {},
     "output_type": "execute_result"
    }
   ],
   "source": [
    "8/22"
   ]
  },
  {
   "cell_type": "code",
   "execution_count": 23,
   "id": "f8b0db58",
   "metadata": {},
   "outputs": [
    {
     "data": {
      "text/plain": [
       "0.5"
      ]
     },
     "execution_count": 23,
     "metadata": {},
     "output_type": "execute_result"
    }
   ],
   "source": [
    "10/20"
   ]
  },
  {
   "cell_type": "code",
   "execution_count": 31,
   "id": "54717a1d",
   "metadata": {},
   "outputs": [
    {
     "data": {
      "text/plain": [
       "0.42727272727272725"
      ]
     },
     "execution_count": 31,
     "metadata": {},
     "output_type": "execute_result"
    }
   ],
   "source": [
    "1-(1-8/22)*(.9)"
   ]
  },
  {
   "cell_type": "code",
   "execution_count": 32,
   "id": "b1ec7738",
   "metadata": {},
   "outputs": [
    {
     "data": {
      "text/plain": [
       "0.26666666666666666"
      ]
     },
     "execution_count": 32,
     "metadata": {},
     "output_type": "execute_result"
    }
   ],
   "source": [
    "without_.mean()"
   ]
  },
  {
   "cell_type": "code",
   "execution_count": null,
   "id": "f340efa1",
   "metadata": {},
   "outputs": [],
   "source": []
  }
 ],
 "metadata": {
  "celltoolbar": "Slideshow",
  "kernelspec": {
   "display_name": "Python 3 (ipykernel)",
   "language": "python",
   "name": "python3"
  },
  "language_info": {
   "codemirror_mode": {
    "name": "ipython",
    "version": 3
   },
   "file_extension": ".py",
   "mimetype": "text/x-python",
   "name": "python",
   "nbconvert_exporter": "python",
   "pygments_lexer": "ipython3",
   "version": "3.10.9"
  }
 },
 "nbformat": 4,
 "nbformat_minor": 5
}
